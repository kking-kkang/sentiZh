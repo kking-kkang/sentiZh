{
 "cells": [
  {
   "cell_type": "code",
   "outputs": [],
   "source": [
    "from nltk.util import ngrams\n",
    "from itertools import combinations\n",
    "import json\n",
    "import pandas as pd\n",
    "import numpy as np\n",
    "from sklearn.feature_extraction.text import TfidfVectorizer\n",
    "import hanlp"
   ],
   "metadata": {
    "collapsed": false,
    "ExecuteTime": {
     "end_time": "2025-03-09T01:40:48.389644Z",
     "start_time": "2025-03-09T01:40:43.387381Z"
    }
   },
   "id": "6f41f01fba154d63",
   "execution_count": 8
  },
  {
   "cell_type": "code",
   "outputs": [
    {
     "name": "stderr",
     "output_type": "stream",
     "text": [
      "Downloading http://download.hanlp.com/tok/extra/ctb9_tok_electra_base_crf_20220426_161255.zip to /Users/gangjisu/.hanlp/thirdparty/download.hanlp.com/tok/extra/ctb9_tok_electra_base_crf_20220426_161255.zip\n",
      "100% 359.3 MiB 239.8 KiB/s ETA:  0 s [=========================================]\n",
      "Decompressing /Users/gangjisu/.hanlp/thirdparty/download.hanlp.com/tok/extra/ctb9_tok_electra_base_crf_20220426_161255.zip to /Users/gangjisu/.hanlp/thirdparty/download.hanlp.com/tok/extra\n",
      "Downloading https://file.hankcs.com/hanlp/utils/char_table_20210602_202632.json.zip to /Users/gangjisu/.hanlp/utils/char_table_20210602_202632.json.zip\n",
      "100%  26.7 KiB  26.7 KiB/s ETA:  0 s [=========================================]\n",
      "Decompressing /Users/gangjisu/.hanlp/utils/char_table_20210602_202632.json.zip to /Users/gangjisu/.hanlp/utils\n",
      "Downloading https://file.hankcs.com/hanlp/transformers/electra_zh_base_20210706_125233.zip to /Users/gangjisu/.hanlp/transformers/electra_zh_base_20210706_125233.zip\n",
      "100%  41.2 KiB  41.2 KiB/s ETA:  0 s [=========================================]\n",
      "Decompressing /Users/gangjisu/.hanlp/transformers/electra_zh_base_20210706_125233.zip to /Users/gangjisu/.hanlp/transformers\n",
      "                                   \r"
     ]
    }
   ],
   "source": [
    "# 📌 1. HanLP 토큰화 모델 로드\n",
    "segmenter = hanlp.load(\"CTB9_TOK_ELECTRA_BASE_CRF\")\n"
   ],
   "metadata": {
    "collapsed": true,
    "ExecuteTime": {
     "end_time": "2025-03-09T00:19:23.457754Z",
     "start_time": "2025-03-09T00:14:24.143965Z"
    }
   },
   "id": "initial_id",
   "execution_count": 1
  },
  {
   "cell_type": "code",
   "outputs": [],
   "source": [
    " #📌 2. 불용어 리스트 정의\n",
    "chinese_stopwords =  set([\n",
    "    \"的\", \"了\", \"在\", \"是\", \"和\", \"与\", \"也\", \"有\", \"对\", \"就\", \"以\", \"将\", \"要\",\n",
    "    \"但\", \"其\", \"而\", \"此\", \"我们\", \"他们\", \"你们\", \"可以\", \"但是\", \"这样\", \"这个\",\n",
    "    \"其中\", \"其中之一\", \"包括\", \"根据\", \"由于\", \"通过\", \"此外\", \"同时\",\n",
    "    \"记者\", \"新闻\", \"媒体\", \"采访\", \"发表\", \"宣布\", \"透露\", \"介绍\", \"报道称\",\n",
    "    \"指出\", \"强调\", \"证实\", \"承认\", \"评价\", \"评论\", \"提到\", \"解释\", \"分析\",\n",
    "    \"总结\", \"预测\", \"预计\", \"关注\", \"反映\", \"说明\", \"进一步\",\n",
    "    \"今天\", \"昨天\", \"明天\", \"日前\", \"近日\", \"本周\", \"上周\", \"下周\", \"目前\",\n",
    "    \"现在\", \"过去\", \"未来\", \"今年\", \"去年\", \"明年\", \"此前\", \"随后\", \"当地\",\n",
    "    \"政府\", \"机构\", \"相关\", \"部门\", \"官员\", \"领导人\", \"代表\", \"发言人\", \"部长\", \"事务\", \"委员会\",\n",
    "    \"一\", \"二\", \"三\", \"这\", \"不\", \"可能\", \"都\", \"才\", \"可\", \"一直\", \"到\", \"如果\", \"带来\",\n",
    "    \"十分\", \"称\", \"个\", \"次\", \"因\", \"因此\", \"最\", \"即\", \"当天\", \"因为\", \"曾\",\n",
    "    \"号\", \"第\", \"相当\", \"两\", \"很\", \"所以\", \"各种\", \"从而\", \"仍\", \"为了\", \"以及\",\n",
    "    \"据\", \"并\", \"过\", \"几\", \"立即\", \"着\", \"于\", \"为\", \"说\", \"却\", \"使\", \"国\", \"还\",\n",
    "    \"来说\", \"至\", \"会\", \"除了\", \"被\", \"外\", \"若\", \"更\", \"已经\", \"已\", \"大大\", \"不仅\",\n",
    "    \"能够\", \"再\", \"一些\", \"明确\", \"作为\", \"向\",  \"是否\", \"积极\", \"讨论\",\n",
    "    \"越来越\", \"甚至\", \"出于\", \"以来\", \"重启\", \"近期\", \"依然\", \"影响\", \"之间\", \"重点\",\n",
    "    \"方面\", \"力度\", \"报道\", \"如何\", \"周年\", \"文章\", \"前往\", \"通讯社\", \"事情\", \"外部\",\n",
    "    \"社论\", \"非常\", \"上午\", \"时间\", \"它们\", \"演讲\", \"应该\", \"不断\", \"结束\", \"愿意\",\n",
    "    \"最后\", \"目标\", \"开始\", \"缺乏\", \"自己\", \"调查\", \"今后\", \"乃至\", \"特别\", \"深化\",\n",
    "    \"即将\", \"类似\", \"什么\", \"没有\", \"方向\", \"更为\", \"需要\", \"做出\", \"第三\",\n",
    "    \"公司\", \"平台\", \"游戏\", \"环球\", \"时报\", \"人民\", \"日报\", \"新华社\"\n",
    "])\n",
    "# \"月\", \"日\", \"年\""
   ],
   "metadata": {
    "collapsed": false,
    "ExecuteTime": {
     "end_time": "2025-03-11T02:01:04.689879Z",
     "start_time": "2025-03-11T02:01:04.674412Z"
    }
   },
   "id": "7375ed5bf0cea9af",
   "execution_count": 73
  },
  {
   "metadata": {
    "ExecuteTime": {
     "end_time": "2025-03-09T01:36:25.459544Z",
     "start_time": "2025-03-09T01:00:15.592729Z"
    }
   },
   "cell_type": "code",
   "source": [
    "# # 📌 3. JSON 데이터 로드\n",
    "# file_path = \"../data/final_0307.json\"\n",
    "# with open(file_path, \"r\", encoding=\"utf-8\") as f:\n",
    "#     data = json.load(f)\n",
    "# \n",
    "# # 📌 4. 데이터프레임 변환\n",
    "# df = pd.DataFrame(data)\n",
    "# \n",
    "# # 📌 5. HanLP로 토큰화 및 불용어 제거\n",
    "# def tokenize_and_filter(text):\n",
    "#     tokens = segmenter(text)\n",
    "#     return \" \".join([word for word in tokens if word not in chinese_stopwords])\n",
    "# \n",
    "# df[\"tokenized_content\"] = df[\"cleaned_content\"].apply(tokenize_and_filter)\n"
   ],
   "id": "9578b4b4e88270e0",
   "outputs": [],
   "execution_count": 5
  },
  {
   "cell_type": "code",
   "outputs": [],
   "source": [
    "# 📌 3. JSON 데이터 로드\n",
    "file_path = \"../data/news.json\"\n",
    "with open(file_path, \"r\", encoding=\"utf-8\") as f:\n",
    "    data = json.load(f)\n",
    "\n",
    "# 📌 4. 데이터프레임 변환\n",
    "df = pd.DataFrame(data)"
   ],
   "metadata": {
    "collapsed": false,
    "ExecuteTime": {
     "end_time": "2025-03-11T01:47:44.212326Z",
     "start_time": "2025-03-11T01:47:44.160625Z"
    }
   },
   "id": "4ca55dba02843d0",
   "execution_count": 63
  },
  {
   "cell_type": "code",
   "outputs": [],
   "source": [
    "\n",
    "\n",
    "def remove_english_stopwords_dates(text, chinese_stopwords):\n",
    "    # 1️⃣ 영어 단어 제거 (단어뿐만 아니라 단독 알파벳도 포함)\n",
    "    text = re.sub(r'[a-zA-Z]+', '', text)\n",
    "\n",
    "    # 2️⃣ 날짜 패턴 제거 (예: \"5日\", \"7月\")\n",
    "    text = re.sub(r'\\d+[日月]', '', text)\n",
    "\n",
    "    # 3️⃣ 문자열을 공백 기준으로 분할\n",
    "    token_list = text.split()\n",
    "\n",
    "    # 4️⃣ 불용어 제거\n",
    "    filtered_list = [word for word in token_list if word not in chinese_stopwords]\n",
    "\n",
    "    return \" \".join(filtered_list)\n",
    "\n",
    "# DataFrame 적용\n",
    "df[\"tokenized_content\"] = df[\"tokenized_content\"].apply(lambda x: remove_english_stopwords_dates(x, chinese_stopwords))\n"
   ],
   "metadata": {
    "collapsed": false,
    "ExecuteTime": {
     "end_time": "2025-03-11T05:35:05.706186Z",
     "start_time": "2025-03-11T05:35:05.533953Z"
    }
   },
   "id": "290921b57aafdf15",
   "execution_count": 80
  },
  {
   "cell_type": "code",
   "outputs": [
    {
     "data": {
      "text/plain": "                                title  \\\n0                        朝鲜试射导弹亚太骤起波澜   \n1                            美朝关系开始解冻   \n2          美日韩间谍云集朝鲜周边空中侦察地面窃听 - 国际经济   \n3                美日韩紧盯朝鲜射导弹(图) - 国际经济   \n4                     美国朝鲜问题特使称美愿与朝对话   \n...                               ...   \n1034            詹德斌：韩国政局变动，美国要做的不应是施压   \n1035               朝鲜谴责美韩军事挑衅导致地区局势恶化   \n1036    朝鲜外务省：美韩军事挑衅行为导致地区局势恶化 - 国际频道   \n1037  石破茂与特朗普会面，美日“小集团”谋划“大算盘” | 国际识局   \n1038             外交部批驳美日韩涉台、涉南海问题消极表态   \n\n                                                   link        date  \\\n0     https://www.gmw.cn/01gmrb/2006-07/12/content_4...  2006-07-12   \n1     https://www.gmw.cn/01gmrb/2007-03/08/content_5...  2007-03-08   \n2     http://intl.ce.cn/zj/200809/19/t20080919_16855...  2008-09-19   \n3     http://intl.ce.cn/zj/200902/11/t20090211_18171...  2009-02-11   \n4         https://world.huanqiu.com/article/9CaKrnJlEWs  2009-03-07   \n...                                                 ...         ...   \n1034  https://hqtime.huanqiu.com/share/article/4Ky1A...  2025-01-07   \n1035  http://www.xinhuanet.com/20250126/55a39b230ccf...  2025-01-26   \n1036  https://world.gmw.cn/2025-01/26/content_378203...  2025-01-26   \n1037  http://intl.ce.cn/qqss/202502/09/t20250209_392...  2025-02-09   \n1038  https://www.xinhuanet.com/world/20250217/8c936...  2025-02-17   \n\n                                                content source quarter  \\\n0     7月5日，朝鲜连续发射7枚导弹，引起国际社会震惊。近日，美日在安理会积极推动制裁朝鲜的议案，...    光明网  2006Q3   \n1     被外界视为“破冰之旅”的朝鲜副外相金桂冠3月5至6日在纽约与美国助理国务卿希尔就两国关系正常...    光明网  2007Q1   \n2     神秘，这是朝鲜留给外界的印象。 正因为神秘，一些国家的情报机构费尽心机，通过投放卫星、派遣侦...  中国经济网  2008Q3   \n3     改进型“大浦洞2号”据说可攻击美本土，甚至可能具有搭载核弹头技术 朝鲜政府最近频繁发出朝韩关...  中国经济网  2009Q1   \n4     新华网首尔3月7日电 (记者李拯宇 干玉兰) 美国朝鲜问题特使斯蒂芬·博斯沃思7日在韩国说，...    环球网  2009Q1   \n...                                                 ...    ...     ...   \n1034  美国国务卿布林肯1月5日抵达韩国。这看上去似乎是一次礼仪性道别之旅，但防止韩国“后弹劾政局”...    环球网  2025Q1   \n1035  新华社首尔1月26日电 据朝中社26日报道，朝鲜外务省对外政策室长当天发表谈话，谴责美韩近期...    新华网  2025Q1   \n1036  中新网1月26日电据朝中社报道，当地时间1月26日，朝鲜外务省对外政策室长发表谈话，谴责美韩...    光明网  2025Q1   \n1037  中新网2月9日电(记者 孟湘君)特朗普当选新一任美国总统后，意大利、以色列等国领导人先后与其...  中国经济网  2025Q1   \n1038  新华社北京2月17日电（马卓言、孙素颖）针对美日韩外长近日在德国慕尼黑举行会晤，三国在联合声...    新华网  2025Q1   \n\n                                        cleaned_content  \\\n0     7月5日朝鲜连续发射7枚导弹引起国际社会震惊。近日美日在安理会积极推动制裁朝鲜的议案并加紧协...   \n1     被外界视为破冰之旅的朝鲜副外相金桂冠3月5至6日在纽约与美国助理国务卿希尔就两国关系正常化进...   \n2     神秘这是朝鲜留给外界的印象。 正因为神秘一些国家的情报机构费尽心机通过投放卫星派遣侦察机甚至...   \n3     改进型大浦洞2号据说可攻击美本土甚至可能具有搭载核弹头技术 朝鲜政府最近频繁发出朝韩关系恶化...   \n4     新华网首尔3月7日电 记者李拯宇 干玉兰 美国朝鲜问题特使斯蒂芬博斯沃思7日在韩国说美国愿意...   \n...                                                 ...   \n1034  美国国务卿布林肯1月5日抵达韩国。这看上去似乎是一次礼仪性道别之旅但防止韩国后弹劾政局对美韩...   \n1035  新华社首尔1月26日电 据朝中社26日报道朝鲜外务省对外政策室长当天发表谈话谴责美韩近期对朝...   \n1036  中新网1月26日电据朝中社报道当地时间1月26日朝鲜外务省对外政策室长发表谈话谴责美韩近期对...   \n1037  中新网2月9日电记者 孟湘君特朗普当选新一任美国总统后意大利以色列等国领导人先后与其会面。近...   \n1038  新华社北京2月17日电马卓言孙素颖针对美日韩外长近日在德国慕尼黑举行会晤三国在联合声明中发表...   \n\n                                      tokenized_content  \\\n0     7月 5日 朝鲜 连续 发射 7 枚 导弹 引起 国际 社会 震惊 。 美 日 安理会 积极...   \n1     外界 视为 破冰 之 旅 朝鲜 副外相 金桂冠 3月 5 6日 纽约 美国 助理 国务卿 希...   \n2     神秘 朝鲜 留给 外界 印象 。 正 神秘 国家 情报 费尽心机 投放 卫星 派遣 侦察机 ...   \n3     改进型 大浦洞 2 据说 攻击 美 本土 甚至 具有 搭载 核 弹头 技术 朝鲜 最近 频繁...   \n4     新华网 首尔 3月 7日 电 李拯宇 干玉兰 美国 朝鲜 问题 特使 斯蒂芬博斯沃思 7日 ...   \n...                                                 ...   \n1034  美国 国务卿 布林肯 1月 5日 抵达 韩国 。 看上去 似乎 礼仪性 道别 之 旅 防止 ...   \n1035  新华社 首尔 1月 26日 电 朝中社 26日 报道 朝鲜 外务省 对外 政策 室长 谈话 ...   \n1036  中新网 1月 26日 电 朝中社 报道 时间 1月 26日 朝鲜 外务省 对外 政策 室长 ...   \n1037  中新网 2月 9日 电 孟湘君 特朗普 当选 新 任 美国 总统 后 意大利 以色列 先后 ...   \n1038  新华社 北京 2月 17日 电 马卓言 孙素颖 针对 美 日 韩 外长 德国 慕尼黑 举行 ...   \n\n                                        filtered_tokens  \n0     7月 5日 朝鲜 连续 发射 7 枚 导弹 引起 国际 社会 震惊 。 美 日 安理会 推动...  \n1     外界 视为 破冰 之 旅 朝鲜 副外相 金桂冠 3月 5 6日 纽约 美国 助理 国务卿 希...  \n2     神秘 朝鲜 留给 外界 印象 。 正 神秘 国家 情报 费尽心机 投放 卫星 派遣 侦察机 ...  \n3     改进型 大浦洞 2 据说 攻击 美 本土 具有 搭载 核 弹头 技术 朝鲜 最近 频繁 发出...  \n4     新华网 首尔 3月 7日 电 李拯宇 干玉兰 美国 朝鲜 问题 特使 斯蒂芬博斯沃思 7日 ...  \n...                                                 ...  \n1034  美国 国务卿 布林肯 1月 5日 抵达 韩国 。 看上去 似乎 礼仪性 道别 之 旅 防止 ...  \n1035  首尔 1月 26日 电 朝中社 26日 朝鲜 外务省 对外 政策 室长 谈话 谴责 美 韩 ...  \n1036  中新网 1月 26日 电 朝中社 1月 26日 朝鲜 外务省 对外 政策 室长 谈话 谴责 ...  \n1037  中新网 2月 9日 电 孟湘君 特朗普 当选 新 任 美国 总统 后 意大利 以色列 先后 ...  \n1038  北京 2月 17日 电 马卓言 孙素颖 针对 美 日 韩 外长 德国 慕尼黑 举行 会晤 联...  \n\n[1039 rows x 9 columns]",
      "text/html": "<div>\n<style scoped>\n    .dataframe tbody tr th:only-of-type {\n        vertical-align: middle;\n    }\n\n    .dataframe tbody tr th {\n        vertical-align: top;\n    }\n\n    .dataframe thead th {\n        text-align: right;\n    }\n</style>\n<table border=\"1\" class=\"dataframe\">\n  <thead>\n    <tr style=\"text-align: right;\">\n      <th></th>\n      <th>title</th>\n      <th>link</th>\n      <th>date</th>\n      <th>content</th>\n      <th>source</th>\n      <th>quarter</th>\n      <th>cleaned_content</th>\n      <th>tokenized_content</th>\n      <th>filtered_tokens</th>\n    </tr>\n  </thead>\n  <tbody>\n    <tr>\n      <th>0</th>\n      <td>朝鲜试射导弹亚太骤起波澜</td>\n      <td>https://www.gmw.cn/01gmrb/2006-07/12/content_4...</td>\n      <td>2006-07-12</td>\n      <td>7月5日，朝鲜连续发射7枚导弹，引起国际社会震惊。近日，美日在安理会积极推动制裁朝鲜的议案，...</td>\n      <td>光明网</td>\n      <td>2006Q3</td>\n      <td>7月5日朝鲜连续发射7枚导弹引起国际社会震惊。近日美日在安理会积极推动制裁朝鲜的议案并加紧协...</td>\n      <td>7月 5日 朝鲜 连续 发射 7 枚 导弹 引起 国际 社会 震惊 。 美 日 安理会 积极...</td>\n      <td>7月 5日 朝鲜 连续 发射 7 枚 导弹 引起 国际 社会 震惊 。 美 日 安理会 推动...</td>\n    </tr>\n    <tr>\n      <th>1</th>\n      <td>美朝关系开始解冻</td>\n      <td>https://www.gmw.cn/01gmrb/2007-03/08/content_5...</td>\n      <td>2007-03-08</td>\n      <td>被外界视为“破冰之旅”的朝鲜副外相金桂冠3月5至6日在纽约与美国助理国务卿希尔就两国关系正常...</td>\n      <td>光明网</td>\n      <td>2007Q1</td>\n      <td>被外界视为破冰之旅的朝鲜副外相金桂冠3月5至6日在纽约与美国助理国务卿希尔就两国关系正常化进...</td>\n      <td>外界 视为 破冰 之 旅 朝鲜 副外相 金桂冠 3月 5 6日 纽约 美国 助理 国务卿 希...</td>\n      <td>外界 视为 破冰 之 旅 朝鲜 副外相 金桂冠 3月 5 6日 纽约 美国 助理 国务卿 希...</td>\n    </tr>\n    <tr>\n      <th>2</th>\n      <td>美日韩间谍云集朝鲜周边空中侦察地面窃听 - 国际经济</td>\n      <td>http://intl.ce.cn/zj/200809/19/t20080919_16855...</td>\n      <td>2008-09-19</td>\n      <td>神秘，这是朝鲜留给外界的印象。 正因为神秘，一些国家的情报机构费尽心机，通过投放卫星、派遣侦...</td>\n      <td>中国经济网</td>\n      <td>2008Q3</td>\n      <td>神秘这是朝鲜留给外界的印象。 正因为神秘一些国家的情报机构费尽心机通过投放卫星派遣侦察机甚至...</td>\n      <td>神秘 朝鲜 留给 外界 印象 。 正 神秘 国家 情报 费尽心机 投放 卫星 派遣 侦察机 ...</td>\n      <td>神秘 朝鲜 留给 外界 印象 。 正 神秘 国家 情报 费尽心机 投放 卫星 派遣 侦察机 ...</td>\n    </tr>\n    <tr>\n      <th>3</th>\n      <td>美日韩紧盯朝鲜射导弹(图) - 国际经济</td>\n      <td>http://intl.ce.cn/zj/200902/11/t20090211_18171...</td>\n      <td>2009-02-11</td>\n      <td>改进型“大浦洞2号”据说可攻击美本土，甚至可能具有搭载核弹头技术 朝鲜政府最近频繁发出朝韩关...</td>\n      <td>中国经济网</td>\n      <td>2009Q1</td>\n      <td>改进型大浦洞2号据说可攻击美本土甚至可能具有搭载核弹头技术 朝鲜政府最近频繁发出朝韩关系恶化...</td>\n      <td>改进型 大浦洞 2 据说 攻击 美 本土 甚至 具有 搭载 核 弹头 技术 朝鲜 最近 频繁...</td>\n      <td>改进型 大浦洞 2 据说 攻击 美 本土 具有 搭载 核 弹头 技术 朝鲜 最近 频繁 发出...</td>\n    </tr>\n    <tr>\n      <th>4</th>\n      <td>美国朝鲜问题特使称美愿与朝对话</td>\n      <td>https://world.huanqiu.com/article/9CaKrnJlEWs</td>\n      <td>2009-03-07</td>\n      <td>新华网首尔3月7日电 (记者李拯宇 干玉兰) 美国朝鲜问题特使斯蒂芬·博斯沃思7日在韩国说，...</td>\n      <td>环球网</td>\n      <td>2009Q1</td>\n      <td>新华网首尔3月7日电 记者李拯宇 干玉兰 美国朝鲜问题特使斯蒂芬博斯沃思7日在韩国说美国愿意...</td>\n      <td>新华网 首尔 3月 7日 电 李拯宇 干玉兰 美国 朝鲜 问题 特使 斯蒂芬博斯沃思 7日 ...</td>\n      <td>新华网 首尔 3月 7日 电 李拯宇 干玉兰 美国 朝鲜 问题 特使 斯蒂芬博斯沃思 7日 ...</td>\n    </tr>\n    <tr>\n      <th>...</th>\n      <td>...</td>\n      <td>...</td>\n      <td>...</td>\n      <td>...</td>\n      <td>...</td>\n      <td>...</td>\n      <td>...</td>\n      <td>...</td>\n      <td>...</td>\n    </tr>\n    <tr>\n      <th>1034</th>\n      <td>詹德斌：韩国政局变动，美国要做的不应是施压</td>\n      <td>https://hqtime.huanqiu.com/share/article/4Ky1A...</td>\n      <td>2025-01-07</td>\n      <td>美国国务卿布林肯1月5日抵达韩国。这看上去似乎是一次礼仪性道别之旅，但防止韩国“后弹劾政局”...</td>\n      <td>环球网</td>\n      <td>2025Q1</td>\n      <td>美国国务卿布林肯1月5日抵达韩国。这看上去似乎是一次礼仪性道别之旅但防止韩国后弹劾政局对美韩...</td>\n      <td>美国 国务卿 布林肯 1月 5日 抵达 韩国 。 看上去 似乎 礼仪性 道别 之 旅 防止 ...</td>\n      <td>美国 国务卿 布林肯 1月 5日 抵达 韩国 。 看上去 似乎 礼仪性 道别 之 旅 防止 ...</td>\n    </tr>\n    <tr>\n      <th>1035</th>\n      <td>朝鲜谴责美韩军事挑衅导致地区局势恶化</td>\n      <td>http://www.xinhuanet.com/20250126/55a39b230ccf...</td>\n      <td>2025-01-26</td>\n      <td>新华社首尔1月26日电 据朝中社26日报道，朝鲜外务省对外政策室长当天发表谈话，谴责美韩近期...</td>\n      <td>新华网</td>\n      <td>2025Q1</td>\n      <td>新华社首尔1月26日电 据朝中社26日报道朝鲜外务省对外政策室长当天发表谈话谴责美韩近期对朝...</td>\n      <td>新华社 首尔 1月 26日 电 朝中社 26日 报道 朝鲜 外务省 对外 政策 室长 谈话 ...</td>\n      <td>首尔 1月 26日 电 朝中社 26日 朝鲜 外务省 对外 政策 室长 谈话 谴责 美 韩 ...</td>\n    </tr>\n    <tr>\n      <th>1036</th>\n      <td>朝鲜外务省：美韩军事挑衅行为导致地区局势恶化 - 国际频道</td>\n      <td>https://world.gmw.cn/2025-01/26/content_378203...</td>\n      <td>2025-01-26</td>\n      <td>中新网1月26日电据朝中社报道，当地时间1月26日，朝鲜外务省对外政策室长发表谈话，谴责美韩...</td>\n      <td>光明网</td>\n      <td>2025Q1</td>\n      <td>中新网1月26日电据朝中社报道当地时间1月26日朝鲜外务省对外政策室长发表谈话谴责美韩近期对...</td>\n      <td>中新网 1月 26日 电 朝中社 报道 时间 1月 26日 朝鲜 外务省 对外 政策 室长 ...</td>\n      <td>中新网 1月 26日 电 朝中社 1月 26日 朝鲜 外务省 对外 政策 室长 谈话 谴责 ...</td>\n    </tr>\n    <tr>\n      <th>1037</th>\n      <td>石破茂与特朗普会面，美日“小集团”谋划“大算盘” | 国际识局</td>\n      <td>http://intl.ce.cn/qqss/202502/09/t20250209_392...</td>\n      <td>2025-02-09</td>\n      <td>中新网2月9日电(记者 孟湘君)特朗普当选新一任美国总统后，意大利、以色列等国领导人先后与其...</td>\n      <td>中国经济网</td>\n      <td>2025Q1</td>\n      <td>中新网2月9日电记者 孟湘君特朗普当选新一任美国总统后意大利以色列等国领导人先后与其会面。近...</td>\n      <td>中新网 2月 9日 电 孟湘君 特朗普 当选 新 任 美国 总统 后 意大利 以色列 先后 ...</td>\n      <td>中新网 2月 9日 电 孟湘君 特朗普 当选 新 任 美国 总统 后 意大利 以色列 先后 ...</td>\n    </tr>\n    <tr>\n      <th>1038</th>\n      <td>外交部批驳美日韩涉台、涉南海问题消极表态</td>\n      <td>https://www.xinhuanet.com/world/20250217/8c936...</td>\n      <td>2025-02-17</td>\n      <td>新华社北京2月17日电（马卓言、孙素颖）针对美日韩外长近日在德国慕尼黑举行会晤，三国在联合声...</td>\n      <td>新华网</td>\n      <td>2025Q1</td>\n      <td>新华社北京2月17日电马卓言孙素颖针对美日韩外长近日在德国慕尼黑举行会晤三国在联合声明中发表...</td>\n      <td>新华社 北京 2月 17日 电 马卓言 孙素颖 针对 美 日 韩 外长 德国 慕尼黑 举行 ...</td>\n      <td>北京 2月 17日 电 马卓言 孙素颖 针对 美 日 韩 外长 德国 慕尼黑 举行 会晤 联...</td>\n    </tr>\n  </tbody>\n</table>\n<p>1039 rows × 9 columns</p>\n</div>"
     },
     "execution_count": 75,
     "metadata": {},
     "output_type": "execute_result"
    }
   ],
   "source": [
    "df"
   ],
   "metadata": {
    "collapsed": false,
    "ExecuteTime": {
     "end_time": "2025-03-11T02:01:16.783885Z",
     "start_time": "2025-03-11T02:01:16.769981Z"
    }
   },
   "id": "966af5ec68d67f98",
   "execution_count": 75
  },
  {
   "cell_type": "code",
   "outputs": [
    {
     "name": "stdout",
     "output_type": "stream",
     "text": [
      "'7月 5日 朝鲜 连续 发射 7 枚 导弹 引起 国际 社会 震惊 。 美 日 安理会 积极 推动 制裁 朝鲜 议案 加紧 协调 行动 方案 。 朝鲜 举 自身 推向 国际 政治 风云 风口浪尖 。 朝鲜 朝鲜 发射 导弹 给 东北亚 地区 局势 增加 更加 复杂 难以 预料 因素 。 日本 提前 部署 爱国者3 地空 拦截 导弹 。 韩国 担忧 日本 借口 趁机 加速 军事化 步伐 。 日本 投入 12亿 美元 用 建立 导弹 防御 系统 并且 日 美 联合 计划 部分 。 日本 开始 从 美国 采购 武器 。 日本 计划 2010年 太空 发射 八 颗 间谍 卫星 用 配合 导弹 防御 系统 。 朝鲜 发射 导弹 后 美 日 韩 澳 俄 英 法 纷纷 声明 朝鲜 举 挑衅 行为 破坏 亚太 稳定 。 尤其 美 日 反应 强烈 事态 升级 武装 冲突 可能性 大 。 日 美 安理会 推动 制裁 议案 几率 微乎其微 。 人 朝鲜 急切 想 试射 导弹 达成 目的 想法 适得其反 美国 收紧 朝 孤立 政策 日 朝 关系 正常化 更为 困难 。 日本 考虑 单方面 朝鲜 实施 经济 制裁 在内 反制 措施 。 朝鲜 问题 只有 各 方 表现 出 诚意 建设性 危机 能 化为 解决 问题 契机 。'\n"
     ]
    }
   ],
   "source": [],
   "metadata": {
    "collapsed": false,
    "ExecuteTime": {
     "end_time": "2025-03-11T01:54:47.511316Z",
     "start_time": "2025-03-11T01:54:47.506554Z"
    }
   },
   "id": "58e25087fe4bfb43",
   "execution_count": 70
  },
  {
   "metadata": {
    "ExecuteTime": {
     "end_time": "2025-03-11T05:35:13.746297Z",
     "start_time": "2025-03-11T05:35:13.021140Z"
    }
   },
   "cell_type": "code",
   "source": [
    "# 📌 6. TF-IDF 벡터라이저 적용\n",
    "vectorizer = TfidfVectorizer(max_features=1000)\n",
    "tfidf_matrix = vectorizer.fit_transform(df[\"tokenized_content\"])\n",
    "\n",
    "# 📌 7. 단어 리스트 가져오기\n",
    "feature_names = vectorizer.get_feature_names_out()\n",
    "\n",
    "# 📌 8. 기사별 상위 중요 키워드 및 점수 추출 함수\n",
    "def get_top_keywords(row, top_n=10):\n",
    "    row_array = row.toarray().flatten()  # 벡터를 1차원 배열로 변환\n",
    "    indices = np.argsort(row_array)[::-1]  # 중요도 높은 순 정렬\n",
    "    top_indices = indices[:top_n]\n",
    "    top_words = [(feature_names[i], row_array[i]) for i in top_indices]  # (단어, TF-IDF 점수) 저장\n",
    "    return \", \".join([f\"{word} ({score:.4f})\" for word, score in top_words])\n",
    "\n",
    "# 📌 9. 기사별 키워드 및 점수 추출하여 저장\n",
    "df[\"keywords\"] = [get_top_keywords(row) for row in tfidf_matrix]\n",
    "\n",
    "\n",
    "# 📌 11. 결과 확인 (상위 10개 기사)\n",
    "print(\"\\n✅ 기사별 TF-IDF 키워드 상위 10개:\")\n",
    "print(df[[\"cleaned_content\", \"tokenized_content\", \"keywords\"]].head(10))\n"
   ],
   "id": "39f2457093d40faa",
   "outputs": [
    {
     "name": "stdout",
     "output_type": "stream",
     "text": [
      "\n",
      "✅ 기사별 TF-IDF 키워드 상위 10개:\n",
      "                                     cleaned_content  \\\n",
      "0  7月5日朝鲜连续发射7枚导弹引起国际社会震惊。近日美日在安理会积极推动制裁朝鲜的议案并加紧协...   \n",
      "1  被外界视为破冰之旅的朝鲜副外相金桂冠3月5至6日在纽约与美国助理国务卿希尔就两国关系正常化进...   \n",
      "2  神秘这是朝鲜留给外界的印象。 正因为神秘一些国家的情报机构费尽心机通过投放卫星派遣侦察机甚至...   \n",
      "3  改进型大浦洞2号据说可攻击美本土甚至可能具有搭载核弹头技术 朝鲜政府最近频繁发出朝韩关系恶化...   \n",
      "4  新华网首尔3月7日电 记者李拯宇 干玉兰 美国朝鲜问题特使斯蒂芬博斯沃思7日在韩国说美国愿意...   \n",
      "5  环球时报驻韩国特约记者沈松报道据韩联社报道朝鲜人民军总参谋部2日对于韩美日3国就朝鲜远程火箭...   \n",
      "6  中新网4月4日电 综合媒体报道4月4日朝鲜周边紧张态势骤然加剧朝鲜官方已表示即将发射卫星日韩...   \n",
      "7  新华网北京４月１４日电 综合新华社驻外记者报道联合国安理会１３日就朝鲜发射问题通过主席声明后...   \n",
      "8  新华网平壤４月１８日电记者高浩荣张滨阳朝鲜人民军总参谋部发言人１８日在平壤发表谈话说美国日本...   \n",
      "9  中国国产航母及舰载机想像图 澳大利亚悉尼先驱晨报4月29日文章原题我们的问题中国是敌是友？ ...   \n",
      "\n",
      "                                   tokenized_content  \\\n",
      "0  朝鲜 连续 发射 7 枚 导弹 引起 国际 社会 震惊 。 美 日 安理会 推动 制裁 朝鲜...   \n",
      "1  外界 视为 破冰 之 旅 朝鲜 副外相 金桂冠 5 纽约 美国 助理 国务卿 希尔 关系 正...   \n",
      "2  神秘 朝鲜 留给 外界 印象 。 正 神秘 国家 情报 费尽心机 投放 卫星 派遣 侦察机 ...   \n",
      "3  改进型 大浦洞 2 据说 攻击 美 本土 具有 搭载 核 弹头 技术 朝鲜 最近 频繁 发出...   \n",
      "4  新华网 首尔 电 李拯宇 干玉兰 美国 朝鲜 问题 特使 斯蒂芬博斯沃思 韩国 美国 朝鲜 ...   \n",
      "5  驻 韩国 特约 沈松 韩联社 朝鲜 人民军 总参谋部 对于 韩 美 日 3 朝鲜 远程 火箭...   \n",
      "6  中新网 电 综合 朝鲜 周边 紧张 态势 骤然 加剧 朝鲜 官方 发射 卫星 日 韩 美 全...   \n",
      "7  新华网 北京 电 综合 驻外 联合国 安理会 朝鲜 发射 问题 主席 声明 后 美国 日本 ...   \n",
      "8  新华网 平壤 电 高浩荣 张滨阳 朝鲜 人民军 总参谋部 平壤 谈话 美国 日本 韩国 如 ...   \n",
      "9  中国 国产 航母 及 舰载机 想像图 澳大利亚 悉尼 先驱 晨报 原题 问题 中国 敌 友 ...   \n",
      "\n",
      "                                            keywords  \n",
      "0  朝鲜 (0.3848), 导弹 (0.3582), 发射 (0.2838), 制裁 (0.2...  \n",
      "1  会谈 (0.4823), 正常化 (0.3859), 朝鲜 (0.2748), 关系 (0....  \n",
      "2  情报 (0.5919), 朝鲜 (0.5456), 侦察 (0.2265), 卫星 (0.1...  \n",
      "3  导弹 (0.6370), 朝鲜 (0.4398), 试射 (0.2929), 公里 (0.2...  \n",
      "4  朝鲜 (0.5444), 对话 (0.3843), 美国 (0.3404), 抵达 (0.3...  \n",
      "5  卫星 (0.5104), 发射 (0.3437), 拦截 (0.2973), 和平 (0.2...  \n",
      "6  发射 (0.6241), 火箭 (0.5371), 朝鲜 (0.3009), 卫星 (0.2...  \n",
      "7  安理会 (0.5049), 声明 (0.4422), 主席 (0.3158), 朝鲜 (0....  \n",
      "8  军方 (0.3716), 安理会 (0.2970), 朝鲜 (0.2881), 主席 (0....  \n",
      "9  中国 (0.4309), 澳大利亚 (0.4142), 白皮书 (0.3787), 北京 (...  \n"
     ]
    }
   ],
   "execution_count": 81
  },
  {
   "cell_type": "code",
   "outputs": [
    {
     "data": {
      "text/plain": "                                title  \\\n0                        朝鲜试射导弹亚太骤起波澜   \n1                            美朝关系开始解冻   \n2          美日韩间谍云集朝鲜周边空中侦察地面窃听 - 国际经济   \n3                美日韩紧盯朝鲜射导弹(图) - 国际经济   \n4                     美国朝鲜问题特使称美愿与朝对话   \n...                               ...   \n1034            詹德斌：韩国政局变动，美国要做的不应是施压   \n1035               朝鲜谴责美韩军事挑衅导致地区局势恶化   \n1036    朝鲜外务省：美韩军事挑衅行为导致地区局势恶化 - 国际频道   \n1037  石破茂与特朗普会面，美日“小集团”谋划“大算盘” | 国际识局   \n1038             外交部批驳美日韩涉台、涉南海问题消极表态   \n\n                                                   link        date  \\\n0     https://www.gmw.cn/01gmrb/2006-07/12/content_4...  2006-07-12   \n1     https://www.gmw.cn/01gmrb/2007-03/08/content_5...  2007-03-08   \n2     http://intl.ce.cn/zj/200809/19/t20080919_16855...  2008-09-19   \n3     http://intl.ce.cn/zj/200902/11/t20090211_18171...  2009-02-11   \n4         https://world.huanqiu.com/article/9CaKrnJlEWs  2009-03-07   \n...                                                 ...         ...   \n1034  https://hqtime.huanqiu.com/share/article/4Ky1A...  2025-01-07   \n1035  http://www.xinhuanet.com/20250126/55a39b230ccf...  2025-01-26   \n1036  https://world.gmw.cn/2025-01/26/content_378203...  2025-01-26   \n1037  http://intl.ce.cn/qqss/202502/09/t20250209_392...  2025-02-09   \n1038  https://www.xinhuanet.com/world/20250217/8c936...  2025-02-17   \n\n                                                content source quarter  \\\n0     7月5日，朝鲜连续发射7枚导弹，引起国际社会震惊。近日，美日在安理会积极推动制裁朝鲜的议案，...    光明网  2006Q3   \n1     被外界视为“破冰之旅”的朝鲜副外相金桂冠3月5至6日在纽约与美国助理国务卿希尔就两国关系正常...    光明网  2007Q1   \n2     神秘，这是朝鲜留给外界的印象。 正因为神秘，一些国家的情报机构费尽心机，通过投放卫星、派遣侦...  中国经济网  2008Q3   \n3     改进型“大浦洞2号”据说可攻击美本土，甚至可能具有搭载核弹头技术 朝鲜政府最近频繁发出朝韩关...  中国经济网  2009Q1   \n4     新华网首尔3月7日电 (记者李拯宇 干玉兰) 美国朝鲜问题特使斯蒂芬·博斯沃思7日在韩国说，...    环球网  2009Q1   \n...                                                 ...    ...     ...   \n1034  美国国务卿布林肯1月5日抵达韩国。这看上去似乎是一次礼仪性道别之旅，但防止韩国“后弹劾政局”...    环球网  2025Q1   \n1035  新华社首尔1月26日电 据朝中社26日报道，朝鲜外务省对外政策室长当天发表谈话，谴责美韩近期...    新华网  2025Q1   \n1036  中新网1月26日电据朝中社报道，当地时间1月26日，朝鲜外务省对外政策室长发表谈话，谴责美韩...    光明网  2025Q1   \n1037  中新网2月9日电(记者 孟湘君)特朗普当选新一任美国总统后，意大利、以色列等国领导人先后与其...  中国经济网  2025Q1   \n1038  新华社北京2月17日电（马卓言、孙素颖）针对美日韩外长近日在德国慕尼黑举行会晤，三国在联合声...    新华网  2025Q1   \n\n                                        cleaned_content  \\\n0     7月5日朝鲜连续发射7枚导弹引起国际社会震惊。近日美日在安理会积极推动制裁朝鲜的议案并加紧协...   \n1     被外界视为破冰之旅的朝鲜副外相金桂冠3月5至6日在纽约与美国助理国务卿希尔就两国关系正常化进...   \n2     神秘这是朝鲜留给外界的印象。 正因为神秘一些国家的情报机构费尽心机通过投放卫星派遣侦察机甚至...   \n3     改进型大浦洞2号据说可攻击美本土甚至可能具有搭载核弹头技术 朝鲜政府最近频繁发出朝韩关系恶化...   \n4     新华网首尔3月7日电 记者李拯宇 干玉兰 美国朝鲜问题特使斯蒂芬博斯沃思7日在韩国说美国愿意...   \n...                                                 ...   \n1034  美国国务卿布林肯1月5日抵达韩国。这看上去似乎是一次礼仪性道别之旅但防止韩国后弹劾政局对美韩...   \n1035  新华社首尔1月26日电 据朝中社26日报道朝鲜外务省对外政策室长当天发表谈话谴责美韩近期对朝...   \n1036  中新网1月26日电据朝中社报道当地时间1月26日朝鲜外务省对外政策室长发表谈话谴责美韩近期对...   \n1037  中新网2月9日电记者 孟湘君特朗普当选新一任美国总统后意大利以色列等国领导人先后与其会面。近...   \n1038  新华社北京2月17日电马卓言孙素颖针对美日韩外长近日在德国慕尼黑举行会晤三国在联合声明中发表...   \n\n                                      tokenized_content  \\\n0     7月 5日 朝鲜 连续 发射 7 枚 导弹 引起 国际 社会 震惊 。 美 日 安理会 推动...   \n1     外界 视为 破冰 之 旅 朝鲜 副外相 金桂冠 3月 5 6日 纽约 美国 助理 国务卿 希...   \n2     神秘 朝鲜 留给 外界 印象 。 正 神秘 国家 情报 费尽心机 投放 卫星 派遣 侦察机 ...   \n3     改进型 大浦洞 2 据说 攻击 美 本土 具有 搭载 核 弹头 技术 朝鲜 最近 频繁 发出...   \n4     新华网 首尔 3月 7日 电 李拯宇 干玉兰 美国 朝鲜 问题 特使 斯蒂芬博斯沃思 7日 ...   \n...                                                 ...   \n1034  美国 国务卿 布林肯 1月 5日 抵达 韩国 。 看上去 似乎 礼仪性 道别 之 旅 防止 ...   \n1035  首尔 1月 26日 电 朝中社 26日 朝鲜 外务省 对外 政策 室长 谈话 谴责 美 韩 ...   \n1036  中新网 1月 26日 电 朝中社 1月 26日 朝鲜 外务省 对外 政策 室长 谈话 谴责 ...   \n1037  中新网 2月 9日 电 孟湘君 特朗普 当选 新 任 美国 总统 后 意大利 以色列 先后 ...   \n1038  北京 2月 17日 电 马卓言 孙素颖 针对 美 日 韩 外长 德国 慕尼黑 举行 会晤 联...   \n\n                                        filtered_tokens  \\\n0     7月 5日 朝鲜 连续 发射 7 枚 导弹 引起 国际 社会 震惊 。 美 日 安理会 推动...   \n1     外界 视为 破冰 之 旅 朝鲜 副外相 金桂冠 3月 5 6日 纽约 美国 助理 国务卿 希...   \n2     神秘 朝鲜 留给 外界 印象 。 正 神秘 国家 情报 费尽心机 投放 卫星 派遣 侦察机 ...   \n3     改进型 大浦洞 2 据说 攻击 美 本土 具有 搭载 核 弹头 技术 朝鲜 最近 频繁 发出...   \n4     新华网 首尔 3月 7日 电 李拯宇 干玉兰 美国 朝鲜 问题 特使 斯蒂芬博斯沃思 7日 ...   \n...                                                 ...   \n1034  美国 国务卿 布林肯 1月 5日 抵达 韩国 。 看上去 似乎 礼仪性 道别 之 旅 防止 ...   \n1035  首尔 1月 26日 电 朝中社 26日 朝鲜 外务省 对外 政策 室长 谈话 谴责 美 韩 ...   \n1036  中新网 1月 26日 电 朝中社 1月 26日 朝鲜 外务省 对外 政策 室长 谈话 谴责 ...   \n1037  中新网 2月 9日 电 孟湘君 特朗普 当选 新 任 美国 总统 后 意大利 以色列 先后 ...   \n1038  北京 2月 17日 电 马卓言 孙素颖 针对 美 日 韩 外长 德国 慕尼黑 举行 会晤 联...   \n\n                                               keywords  \n0     朝鲜 (0.3892), 导弹 (0.3622), 发射 (0.2870), 制裁 (0.2...  \n1     会谈 (0.5107), 朝鲜 (0.2910), 关系 (0.2469), 美元 (0.2...  \n2     情报 (0.5933), 朝鲜 (0.5468), 侦察 (0.2270), 卫星 (0.1...  \n3     导弹 (0.6392), 朝鲜 (0.4414), 试射 (0.2939), 公里 (0.2...  \n4     7日 (0.6547), 朝鲜 (0.4015), 对话 (0.2834), 美国 (0.2...  \n...                                                 ...  \n1034  外交 (0.4189), 韩国 (0.2494), 尹锡悦 (0.2271), 价值观 (0...  \n1035  谈话 (0.5149), 行为 (0.2825), 朝方 (0.2668), 挑衅 (0.2...  \n1036  谈话 (0.5808), 行为 (0.2656), 朝方 (0.2508), 挑衅 (0.1...  \n1037  特朗普 (0.5640), 科技 (0.2361), 日本 (0.1956), 同盟 (0....  \n1038  中国 (0.3039), 台湾 (0.2896), 有关 (0.2389), 内政 (0.2...  \n\n[1039 rows x 10 columns]",
      "text/html": "<div>\n<style scoped>\n    .dataframe tbody tr th:only-of-type {\n        vertical-align: middle;\n    }\n\n    .dataframe tbody tr th {\n        vertical-align: top;\n    }\n\n    .dataframe thead th {\n        text-align: right;\n    }\n</style>\n<table border=\"1\" class=\"dataframe\">\n  <thead>\n    <tr style=\"text-align: right;\">\n      <th></th>\n      <th>title</th>\n      <th>link</th>\n      <th>date</th>\n      <th>content</th>\n      <th>source</th>\n      <th>quarter</th>\n      <th>cleaned_content</th>\n      <th>tokenized_content</th>\n      <th>filtered_tokens</th>\n      <th>keywords</th>\n    </tr>\n  </thead>\n  <tbody>\n    <tr>\n      <th>0</th>\n      <td>朝鲜试射导弹亚太骤起波澜</td>\n      <td>https://www.gmw.cn/01gmrb/2006-07/12/content_4...</td>\n      <td>2006-07-12</td>\n      <td>7月5日，朝鲜连续发射7枚导弹，引起国际社会震惊。近日，美日在安理会积极推动制裁朝鲜的议案，...</td>\n      <td>光明网</td>\n      <td>2006Q3</td>\n      <td>7月5日朝鲜连续发射7枚导弹引起国际社会震惊。近日美日在安理会积极推动制裁朝鲜的议案并加紧协...</td>\n      <td>7月 5日 朝鲜 连续 发射 7 枚 导弹 引起 国际 社会 震惊 。 美 日 安理会 推动...</td>\n      <td>7月 5日 朝鲜 连续 发射 7 枚 导弹 引起 国际 社会 震惊 。 美 日 安理会 推动...</td>\n      <td>朝鲜 (0.3892), 导弹 (0.3622), 发射 (0.2870), 制裁 (0.2...</td>\n    </tr>\n    <tr>\n      <th>1</th>\n      <td>美朝关系开始解冻</td>\n      <td>https://www.gmw.cn/01gmrb/2007-03/08/content_5...</td>\n      <td>2007-03-08</td>\n      <td>被外界视为“破冰之旅”的朝鲜副外相金桂冠3月5至6日在纽约与美国助理国务卿希尔就两国关系正常...</td>\n      <td>光明网</td>\n      <td>2007Q1</td>\n      <td>被外界视为破冰之旅的朝鲜副外相金桂冠3月5至6日在纽约与美国助理国务卿希尔就两国关系正常化进...</td>\n      <td>外界 视为 破冰 之 旅 朝鲜 副外相 金桂冠 3月 5 6日 纽约 美国 助理 国务卿 希...</td>\n      <td>外界 视为 破冰 之 旅 朝鲜 副外相 金桂冠 3月 5 6日 纽约 美国 助理 国务卿 希...</td>\n      <td>会谈 (0.5107), 朝鲜 (0.2910), 关系 (0.2469), 美元 (0.2...</td>\n    </tr>\n    <tr>\n      <th>2</th>\n      <td>美日韩间谍云集朝鲜周边空中侦察地面窃听 - 国际经济</td>\n      <td>http://intl.ce.cn/zj/200809/19/t20080919_16855...</td>\n      <td>2008-09-19</td>\n      <td>神秘，这是朝鲜留给外界的印象。 正因为神秘，一些国家的情报机构费尽心机，通过投放卫星、派遣侦...</td>\n      <td>中国经济网</td>\n      <td>2008Q3</td>\n      <td>神秘这是朝鲜留给外界的印象。 正因为神秘一些国家的情报机构费尽心机通过投放卫星派遣侦察机甚至...</td>\n      <td>神秘 朝鲜 留给 外界 印象 。 正 神秘 国家 情报 费尽心机 投放 卫星 派遣 侦察机 ...</td>\n      <td>神秘 朝鲜 留给 外界 印象 。 正 神秘 国家 情报 费尽心机 投放 卫星 派遣 侦察机 ...</td>\n      <td>情报 (0.5933), 朝鲜 (0.5468), 侦察 (0.2270), 卫星 (0.1...</td>\n    </tr>\n    <tr>\n      <th>3</th>\n      <td>美日韩紧盯朝鲜射导弹(图) - 国际经济</td>\n      <td>http://intl.ce.cn/zj/200902/11/t20090211_18171...</td>\n      <td>2009-02-11</td>\n      <td>改进型“大浦洞2号”据说可攻击美本土，甚至可能具有搭载核弹头技术 朝鲜政府最近频繁发出朝韩关...</td>\n      <td>中国经济网</td>\n      <td>2009Q1</td>\n      <td>改进型大浦洞2号据说可攻击美本土甚至可能具有搭载核弹头技术 朝鲜政府最近频繁发出朝韩关系恶化...</td>\n      <td>改进型 大浦洞 2 据说 攻击 美 本土 具有 搭载 核 弹头 技术 朝鲜 最近 频繁 发出...</td>\n      <td>改进型 大浦洞 2 据说 攻击 美 本土 具有 搭载 核 弹头 技术 朝鲜 最近 频繁 发出...</td>\n      <td>导弹 (0.6392), 朝鲜 (0.4414), 试射 (0.2939), 公里 (0.2...</td>\n    </tr>\n    <tr>\n      <th>4</th>\n      <td>美国朝鲜问题特使称美愿与朝对话</td>\n      <td>https://world.huanqiu.com/article/9CaKrnJlEWs</td>\n      <td>2009-03-07</td>\n      <td>新华网首尔3月7日电 (记者李拯宇 干玉兰) 美国朝鲜问题特使斯蒂芬·博斯沃思7日在韩国说，...</td>\n      <td>环球网</td>\n      <td>2009Q1</td>\n      <td>新华网首尔3月7日电 记者李拯宇 干玉兰 美国朝鲜问题特使斯蒂芬博斯沃思7日在韩国说美国愿意...</td>\n      <td>新华网 首尔 3月 7日 电 李拯宇 干玉兰 美国 朝鲜 问题 特使 斯蒂芬博斯沃思 7日 ...</td>\n      <td>新华网 首尔 3月 7日 电 李拯宇 干玉兰 美国 朝鲜 问题 特使 斯蒂芬博斯沃思 7日 ...</td>\n      <td>7日 (0.6547), 朝鲜 (0.4015), 对话 (0.2834), 美国 (0.2...</td>\n    </tr>\n    <tr>\n      <th>...</th>\n      <td>...</td>\n      <td>...</td>\n      <td>...</td>\n      <td>...</td>\n      <td>...</td>\n      <td>...</td>\n      <td>...</td>\n      <td>...</td>\n      <td>...</td>\n      <td>...</td>\n    </tr>\n    <tr>\n      <th>1034</th>\n      <td>詹德斌：韩国政局变动，美国要做的不应是施压</td>\n      <td>https://hqtime.huanqiu.com/share/article/4Ky1A...</td>\n      <td>2025-01-07</td>\n      <td>美国国务卿布林肯1月5日抵达韩国。这看上去似乎是一次礼仪性道别之旅，但防止韩国“后弹劾政局”...</td>\n      <td>环球网</td>\n      <td>2025Q1</td>\n      <td>美国国务卿布林肯1月5日抵达韩国。这看上去似乎是一次礼仪性道别之旅但防止韩国后弹劾政局对美韩...</td>\n      <td>美国 国务卿 布林肯 1月 5日 抵达 韩国 。 看上去 似乎 礼仪性 道别 之 旅 防止 ...</td>\n      <td>美国 国务卿 布林肯 1月 5日 抵达 韩国 。 看上去 似乎 礼仪性 道别 之 旅 防止 ...</td>\n      <td>外交 (0.4189), 韩国 (0.2494), 尹锡悦 (0.2271), 价值观 (0...</td>\n    </tr>\n    <tr>\n      <th>1035</th>\n      <td>朝鲜谴责美韩军事挑衅导致地区局势恶化</td>\n      <td>http://www.xinhuanet.com/20250126/55a39b230ccf...</td>\n      <td>2025-01-26</td>\n      <td>新华社首尔1月26日电 据朝中社26日报道，朝鲜外务省对外政策室长当天发表谈话，谴责美韩近期...</td>\n      <td>新华网</td>\n      <td>2025Q1</td>\n      <td>新华社首尔1月26日电 据朝中社26日报道朝鲜外务省对外政策室长当天发表谈话谴责美韩近期对朝...</td>\n      <td>首尔 1月 26日 电 朝中社 26日 朝鲜 外务省 对外 政策 室长 谈话 谴责 美 韩 ...</td>\n      <td>首尔 1月 26日 电 朝中社 26日 朝鲜 外务省 对外 政策 室长 谈话 谴责 美 韩 ...</td>\n      <td>谈话 (0.5149), 行为 (0.2825), 朝方 (0.2668), 挑衅 (0.2...</td>\n    </tr>\n    <tr>\n      <th>1036</th>\n      <td>朝鲜外务省：美韩军事挑衅行为导致地区局势恶化 - 国际频道</td>\n      <td>https://world.gmw.cn/2025-01/26/content_378203...</td>\n      <td>2025-01-26</td>\n      <td>中新网1月26日电据朝中社报道，当地时间1月26日，朝鲜外务省对外政策室长发表谈话，谴责美韩...</td>\n      <td>光明网</td>\n      <td>2025Q1</td>\n      <td>中新网1月26日电据朝中社报道当地时间1月26日朝鲜外务省对外政策室长发表谈话谴责美韩近期对...</td>\n      <td>中新网 1月 26日 电 朝中社 1月 26日 朝鲜 外务省 对外 政策 室长 谈话 谴责 ...</td>\n      <td>中新网 1月 26日 电 朝中社 1月 26日 朝鲜 外务省 对外 政策 室长 谈话 谴责 ...</td>\n      <td>谈话 (0.5808), 行为 (0.2656), 朝方 (0.2508), 挑衅 (0.1...</td>\n    </tr>\n    <tr>\n      <th>1037</th>\n      <td>石破茂与特朗普会面，美日“小集团”谋划“大算盘” | 国际识局</td>\n      <td>http://intl.ce.cn/qqss/202502/09/t20250209_392...</td>\n      <td>2025-02-09</td>\n      <td>中新网2月9日电(记者 孟湘君)特朗普当选新一任美国总统后，意大利、以色列等国领导人先后与其...</td>\n      <td>中国经济网</td>\n      <td>2025Q1</td>\n      <td>中新网2月9日电记者 孟湘君特朗普当选新一任美国总统后意大利以色列等国领导人先后与其会面。近...</td>\n      <td>中新网 2月 9日 电 孟湘君 特朗普 当选 新 任 美国 总统 后 意大利 以色列 先后 ...</td>\n      <td>中新网 2月 9日 电 孟湘君 特朗普 当选 新 任 美国 总统 后 意大利 以色列 先后 ...</td>\n      <td>特朗普 (0.5640), 科技 (0.2361), 日本 (0.1956), 同盟 (0....</td>\n    </tr>\n    <tr>\n      <th>1038</th>\n      <td>外交部批驳美日韩涉台、涉南海问题消极表态</td>\n      <td>https://www.xinhuanet.com/world/20250217/8c936...</td>\n      <td>2025-02-17</td>\n      <td>新华社北京2月17日电（马卓言、孙素颖）针对美日韩外长近日在德国慕尼黑举行会晤，三国在联合声...</td>\n      <td>新华网</td>\n      <td>2025Q1</td>\n      <td>新华社北京2月17日电马卓言孙素颖针对美日韩外长近日在德国慕尼黑举行会晤三国在联合声明中发表...</td>\n      <td>北京 2月 17日 电 马卓言 孙素颖 针对 美 日 韩 外长 德国 慕尼黑 举行 会晤 联...</td>\n      <td>北京 2月 17日 电 马卓言 孙素颖 针对 美 日 韩 外长 德国 慕尼黑 举行 会晤 联...</td>\n      <td>中国 (0.3039), 台湾 (0.2896), 有关 (0.2389), 内政 (0.2...</td>\n    </tr>\n  </tbody>\n</table>\n<p>1039 rows × 10 columns</p>\n</div>"
     },
     "execution_count": 78,
     "metadata": {},
     "output_type": "execute_result"
    }
   ],
   "source": [
    "df"
   ],
   "metadata": {
    "collapsed": false,
    "ExecuteTime": {
     "end_time": "2025-03-11T02:07:00.237850Z",
     "start_time": "2025-03-11T02:07:00.225067Z"
    }
   },
   "id": "f2e0b33ad50ab04b",
   "execution_count": 78
  },
  {
   "cell_type": "code",
   "outputs": [],
   "source": [],
   "metadata": {
    "collapsed": false,
    "ExecuteTime": {
     "end_time": "2025-03-09T02:36:31.738724Z",
     "start_time": "2025-03-09T02:36:31.707733Z"
    }
   },
   "id": "1d6845afb4d37684",
   "execution_count": 37
  },
  {
   "cell_type": "code",
   "outputs": [],
   "source": [
    "import re\n",
    "import pandas as pd\n",
    "from itertools import permutations, combinations\n",
    "from nltk.util import ngrams\n",
    "\n",
    "# 📌 (단어, 점수) 형식의 문자열을 리스트로 변환하는 함수\n",
    "def parse_keywords(keyword_str):\n",
    "    if isinstance(keyword_str, str):  # 문자열일 경우 변환\n",
    "        keyword_list = re.findall(r\"([\\u4e00-\\u9fa5]+) \\((\\d+\\.\\d+)\\)\", keyword_str)\n",
    "        return [(word, float(score)) for word, score in keyword_list]\n",
    "    return keyword_str  # 이미 리스트인 경우 그대로 반환\n",
    "\n",
    "# 📌 N-gram 생성 함수 (슬라이딩 윈도우, 순열, 조합 지원)\n",
    "def generate_ngrams(keywords, n=2, method=\"sliding_window\"):\n",
    "    if not keywords or not isinstance(keywords, list):  # 빈 값 처리\n",
    "        return []\n",
    "\n",
    "    if not all(isinstance(word[0], str) for word in keywords):  # ✅ 단어가 문자열인지 확인\n",
    "        return []\n",
    "\n",
    "    words = [word[0] for word in keywords]  # ✅ 단어만 추출 (점수 제거)\n",
    "\n",
    "    if method == \"sliding_window\":\n",
    "        from nltk.util import ngrams\n",
    "        return [tuple(ngram) for ngram in ngrams(words, n)]\n",
    "\n",
    "    elif method == \"permutations\":\n",
    "        return [tuple(ngram) for ngram in permutations(words, n)]\n",
    "\n",
    "    elif method == \"combinations\":\n",
    "        return [tuple(ngram) for ngram in combinations(words, n)]\n",
    "\n",
    "    return []\n",
    "\n",
    "\n",
    "\n",
    "\n",
    "# 📌 키워드 컬럼 변환\n",
    "df[\"keywords\"] = df[\"keywords\"].apply(parse_keywords)\n",
    "\n",
    "# 🔹 **n=2 (Bigrams)**\n",
    "df[\"bigrams_sw\"] = df[\"keywords\"].apply(lambda x: generate_ngrams(x, 2, method=\"sliding_window\"))\n",
    "df[\"bigrams_perm\"] = df[\"keywords\"].apply(lambda x: generate_ngrams(x, 2, method=\"permutations\"))\n",
    "df[\"bigrams_comb\"] = df[\"keywords\"].apply(lambda x: generate_ngrams(x, 2, method=\"combinations\"))\n",
    "\n",
    "# 🔹 **n=3 (Trigrams)**\n",
    "df[\"trigrams_sw\"] = df[\"keywords\"].apply(lambda x: generate_ngrams(x, 3, method=\"sliding_window\"))\n",
    "df[\"trigrams_perm\"] = df[\"keywords\"].apply(lambda x: generate_ngrams(x, 3, method=\"permutations\"))\n",
    "df[\"trigrams_comb\"] = df[\"keywords\"].apply(lambda x: generate_ngrams(x, 3, method=\"combinations\"))\n"
   ],
   "metadata": {
    "collapsed": false,
    "ExecuteTime": {
     "end_time": "2025-03-10T06:15:37.549113Z",
     "start_time": "2025-03-10T06:15:37.382165Z"
    }
   },
   "id": "dfae797408eb21ea",
   "execution_count": 55
  },
  {
   "metadata": {
    "ExecuteTime": {
     "end_time": "2025-03-11T05:35:49.627762Z",
     "start_time": "2025-03-11T05:35:49.551071Z"
    }
   },
   "cell_type": "code",
   "source": [
    "output_file = \"../data/news_with_keywords1.json\"\n",
    "\n",
    "# 📌 필요 없는 컬럼 리스트\n",
    "columns_to_drop = [\"sentences\", \"filtered_sentences\", \"num_filtered_sentences\", \"num_sentences\", \"ratio\", \"keywords_type\", \"filtered_tokens\"]\n",
    "\n",
    "# 📌 해당 컬럼 삭제 (존재하지 않아도 에러 발생하지 않도록 `errors=\"ignore\"` 설정)\n",
    "df.drop(columns=columns_to_drop, inplace=True, errors=\"ignore\")\n",
    "\n",
    "# 📌 2. JSON 덤프를 위한 데이터 변환\n",
    "json_data = df.to_dict(orient=\"records\")  # DataFrame → JSON 리스트 변환\n",
    "\n",
    "# 📌 3. Pretty Print JSON 파일 저장\n",
    "with open(output_file, \"w\", encoding=\"utf-8\") as f:\n",
    "    json.dump(json_data, f, indent=4, ensure_ascii=False)"
   ],
   "id": "b40da244e4cd4592",
   "outputs": [],
   "execution_count": 82
  },
  {
   "metadata": {
    "ExecuteTime": {
     "end_time": "2025-03-10T06:15:42.693443Z",
     "start_time": "2025-03-10T06:15:41.621270Z"
    }
   },
   "cell_type": "code",
   "outputs": [
    {
     "data": {
      "text/plain": "                                title  \\\n0                        朝鲜试射导弹亚太骤起波澜   \n1                            美朝关系开始解冻   \n2          美日韩间谍云集朝鲜周边空中侦察地面窃听 - 国际经济   \n3                美日韩紧盯朝鲜射导弹(图) - 国际经济   \n4                     美国朝鲜问题特使称美愿与朝对话   \n...                               ...   \n1034            詹德斌：韩国政局变动，美国要做的不应是施压   \n1035               朝鲜谴责美韩军事挑衅导致地区局势恶化   \n1036    朝鲜外务省：美韩军事挑衅行为导致地区局势恶化 - 国际频道   \n1037  石破茂与特朗普会面，美日“小集团”谋划“大算盘” | 国际识局   \n1038             外交部批驳美日韩涉台、涉南海问题消极表态   \n\n                                                   link        date  \\\n0     https://www.gmw.cn/01gmrb/2006-07/12/content_4...  2006-07-12   \n1     https://www.gmw.cn/01gmrb/2007-03/08/content_5...  2007-03-08   \n2     http://intl.ce.cn/zj/200809/19/t20080919_16855...  2008-09-19   \n3     http://intl.ce.cn/zj/200902/11/t20090211_18171...  2009-02-11   \n4         https://world.huanqiu.com/article/9CaKrnJlEWs  2009-03-07   \n...                                                 ...         ...   \n1034  https://hqtime.huanqiu.com/share/article/4Ky1A...  2025-01-07   \n1035  http://www.xinhuanet.com/20250126/55a39b230ccf...  2025-01-26   \n1036  https://world.gmw.cn/2025-01/26/content_378203...  2025-01-26   \n1037  http://intl.ce.cn/qqss/202502/09/t20250209_392...  2025-02-09   \n1038  https://www.xinhuanet.com/world/20250217/8c936...  2025-02-17   \n\n                                                content source quarter  \\\n0     7月5日，朝鲜连续发射7枚导弹，引起国际社会震惊。近日，美日在安理会积极推动制裁朝鲜的议案，...    光明网  2006Q3   \n1     被外界视为“破冰之旅”的朝鲜副外相金桂冠3月5至6日在纽约与美国助理国务卿希尔就两国关系正常...    光明网  2007Q1   \n2     神秘，这是朝鲜留给外界的印象。 正因为神秘，一些国家的情报机构费尽心机，通过投放卫星、派遣侦...  中国经济网  2008Q3   \n3     改进型“大浦洞2号”据说可攻击美本土，甚至可能具有搭载核弹头技术 朝鲜政府最近频繁发出朝韩关...  中国经济网  2009Q1   \n4     新华网首尔3月7日电 (记者李拯宇 干玉兰) 美国朝鲜问题特使斯蒂芬·博斯沃思7日在韩国说，...    环球网  2009Q1   \n...                                                 ...    ...     ...   \n1034  美国国务卿布林肯1月5日抵达韩国。这看上去似乎是一次礼仪性道别之旅，但防止韩国“后弹劾政局”...    环球网  2025Q1   \n1035  新华社首尔1月26日电 据朝中社26日报道，朝鲜外务省对外政策室长当天发表谈话，谴责美韩近期...    新华网  2025Q1   \n1036  中新网1月26日电据朝中社报道，当地时间1月26日，朝鲜外务省对外政策室长发表谈话，谴责美韩...    光明网  2025Q1   \n1037  中新网2月9日电(记者 孟湘君)特朗普当选新一任美国总统后，意大利、以色列等国领导人先后与其...  中国经济网  2025Q1   \n1038  新华社北京2月17日电（马卓言、孙素颖）针对美日韩外长近日在德国慕尼黑举行会晤，三国在联合声...    新华网  2025Q1   \n\n                                        cleaned_content  \\\n0     7月5日朝鲜连续发射7枚导弹引起国际社会震惊。近日美日在安理会积极推动制裁朝鲜的议案并加紧协...   \n1     被外界视为破冰之旅的朝鲜副外相金桂冠3月5至6日在纽约与美国助理国务卿希尔就两国关系正常化进...   \n2     神秘这是朝鲜留给外界的印象。 正因为神秘一些国家的情报机构费尽心机通过投放卫星派遣侦察机甚至...   \n3     改进型大浦洞2号据说可攻击美本土甚至可能具有搭载核弹头技术 朝鲜政府最近频繁发出朝韩关系恶化...   \n4     新华网首尔3月7日电 记者李拯宇 干玉兰 美国朝鲜问题特使斯蒂芬博斯沃思7日在韩国说美国愿意...   \n...                                                 ...   \n1034  美国国务卿布林肯1月5日抵达韩国。这看上去似乎是一次礼仪性道别之旅但防止韩国后弹劾政局对美韩...   \n1035  新华社首尔1月26日电 据朝中社26日报道朝鲜外务省对外政策室长当天发表谈话谴责美韩近期对朝...   \n1036  中新网1月26日电据朝中社报道当地时间1月26日朝鲜外务省对外政策室长发表谈话谴责美韩近期对...   \n1037  中新网2月9日电记者 孟湘君特朗普当选新一任美国总统后意大利以色列等国领导人先后与其会面。近...   \n1038  新华社北京2月17日电马卓言孙素颖针对美日韩外长近日在德国慕尼黑举行会晤三国在联合声明中发表...   \n\n                                      tokenized_content  \\\n0     7月 5日 朝鲜 连续 发射 7 枚 导弹 引起 国际 社会 震惊 。 美 日 安理会 积极...   \n1     外界 视为 破冰 之 旅 朝鲜 副外相 金桂冠 3月 5 6日 纽约 美国 助理 国务卿 希...   \n2     神秘 朝鲜 留给 外界 印象 。 正 神秘 国家 情报 费尽心机 投放 卫星 派遣 侦察机 ...   \n3     改进型 大浦洞 2 据说 攻击 美 本土 甚至 具有 搭载 核 弹头 技术 朝鲜 最近 频繁...   \n4     新华网 首尔 3月 7日 电 李拯宇 干玉兰 美国 朝鲜 问题 特使 斯蒂芬博斯沃思 7日 ...   \n...                                                 ...   \n1034  美国 国务卿 布林肯 1月 5日 抵达 韩国 。 看上去 似乎 礼仪性 道别 之 旅 防止 ...   \n1035  新华社 首尔 1月 26日 电 朝中社 26日 报道 朝鲜 外务省 对外 政策 室长 谈话 ...   \n1036  中新网 1月 26日 电 朝中社 报道 时间 1月 26日 朝鲜 外务省 对外 政策 室长 ...   \n1037  中新网 2月 9日 电 孟湘君 特朗普 当选 新 任 美国 总统 后 意大利 以色列 先后 ...   \n1038  新华社 北京 2月 17日 电 马卓言 孙素颖 针对 美 日 韩 外长 德国 慕尼黑 举行 ...   \n\n                                               keywords  \\\n0     [[朝鲜, 0.3875], [导弹, 0.3606], [发射, 0.2858], [制裁...   \n1     [[会谈, 0.5007], [朝鲜, 0.2852], [关系, 0.2421], [美元...   \n2     [[情报, 0.5944], [朝鲜, 0.5479], [侦察, 0.2274], [卫星...   \n3     [[导弹, 0.6383], [朝鲜, 0.4407], [试射, 0.2934], [公里...   \n4     [[日, 0.6123], [愿意, 0.4147], [朝鲜, 0.3755], [对话,...   \n...                                                 ...   \n1034  [[外交, 0.424], [韩国, 0.2525], [尹锡悦, 0.2299], [价值...   \n1035  [[谈话, 0.5039], [行为, 0.2765], [朝方, 0.2611], [挑衅...   \n1036  [[谈话, 0.5705], [行为, 0.2608], [朝方, 0.2464], [挑衅...   \n1037  [[特朗普, 0.5356], [深化, 0.2706], [科技, 0.2242], [日...   \n1038  [[中国, 0.3026], [台湾, 0.2884], [有关, 0.2378], [内政...   \n\n                                                bigrams  \\\n0     [[朝鲜, 导弹], [导弹, 发射], [发射, 制裁], [制裁, 日本], [日本, ...   \n1     [[会谈, 朝鲜], [朝鲜, 关系], [关系, 美元], [美元, 美国], [美国, ...   \n2     [[情报, 朝鲜], [朝鲜, 侦察], [侦察, 卫星], [卫星, 这些], [这些, ...   \n3     [[导弹, 朝鲜], [朝鲜, 试射], [试射, 公里], [公里, 射程], [射程, ...   \n4     [[日, 愿意], [愿意, 朝鲜], [朝鲜, 对话], [对话, 美国], [美国, 接...   \n...                                                 ...   \n1034  [[外交, 韩国], [韩国, 尹锡悦], [尹锡悦, 价值观], [价值观, 合作], [...   \n1035  [[谈话, 行为], [行为, 朝方], [朝方, 挑衅], [挑衅, 军事], [军事, ...   \n1036  [[谈话, 行为], [行为, 朝方], [朝方, 挑衅], [挑衅, 军事], [军事, ...   \n1037  [[特朗普, 深化], [深化, 科技], [科技, 日本], [日本, 同盟], [同盟,...   \n1038  [[中国, 台湾], [台湾, 有关], [有关, 内政], [内政, 干涉], [干涉, ...   \n\n                                               trigrams  \\\n0     [[朝鲜, 导弹, 发射], [导弹, 发射, 制裁], [发射, 制裁, 日本], [制裁...   \n1     [[会谈, 朝鲜, 关系], [朝鲜, 关系, 美元], [关系, 美元, 美国], [美元...   \n2     [[情报, 朝鲜, 侦察], [朝鲜, 侦察, 卫星], [侦察, 卫星, 这些], [卫星...   \n3     [[导弹, 朝鲜, 试射], [朝鲜, 试射, 公里], [试射, 公里, 射程], [公里...   \n4     [[日, 愿意, 朝鲜], [愿意, 朝鲜, 对话], [朝鲜, 对话, 美国], [对话,...   \n...                                                 ...   \n1034  [[外交, 韩国, 尹锡悦], [韩国, 尹锡悦, 价值观], [尹锡悦, 价值观, 合作]...   \n1035  [[谈话, 行为, 朝方], [行为, 朝方, 挑衅], [朝方, 挑衅, 军事], [挑衅...   \n1036  [[谈话, 行为, 朝方], [行为, 朝方, 挑衅], [朝方, 挑衅, 军事], [挑衅...   \n1037  [[特朗普, 深化, 科技], [深化, 科技, 日本], [科技, 日本, 同盟], [日...   \n1038  [[中国, 台湾, 有关], [台湾, 有关, 内政], [有关, 内政, 干涉], [内政...   \n\n                                           bigrams_perm  \\\n0     [(朝鲜, 导弹), (朝鲜, 发射), (朝鲜, 制裁), (朝鲜, 日本), (朝鲜, ...   \n1     [(会谈, 朝鲜), (会谈, 关系), (会谈, 美元), (会谈, 美国), (会谈, ...   \n2     [(情报, 朝鲜), (情报, 侦察), (情报, 卫星), (情报, 这些), (情报, ...   \n3     [(导弹, 朝鲜), (导弹, 试射), (导弹, 公里), (导弹, 射程), (导弹, ...   \n4     [(日, 愿意), (日, 朝鲜), (日, 对话), (日, 美国), (日, 接触), ...   \n...                                                 ...   \n1034  [(外交, 韩国), (外交, 尹锡悦), (外交, 价值观), (外交, 合作), (外交...   \n1035  [(谈话, 行为), (谈话, 朝方), (谈话, 挑衅), (谈话, 军事), (谈话, ...   \n1036  [(谈话, 行为), (谈话, 朝方), (谈话, 挑衅), (谈话, 军事), (谈话, ...   \n1037  [(特朗普, 深化), (特朗普, 科技), (特朗普, 日本), (特朗普, 同盟), (...   \n1038  [(中国, 台湾), (中国, 有关), (中国, 内政), (中国, 干涉), (中国, ...   \n\n                                             bigrams_sw  \\\n0     [(朝鲜, 导弹), (导弹, 发射), (发射, 制裁), (制裁, 日本), (日本, ...   \n1     [(会谈, 朝鲜), (朝鲜, 关系), (关系, 美元), (美元, 美国), (美国, ...   \n2     [(情报, 朝鲜), (朝鲜, 侦察), (侦察, 卫星), (卫星, 这些), (这些, ...   \n3     [(导弹, 朝鲜), (朝鲜, 试射), (试射, 公里), (公里, 射程), (射程, ...   \n4     [(日, 愿意), (愿意, 朝鲜), (朝鲜, 对话), (对话, 美国), (美国, 接...   \n...                                                 ...   \n1034  [(外交, 韩国), (韩国, 尹锡悦), (尹锡悦, 价值观), (价值观, 合作), (...   \n1035  [(谈话, 行为), (行为, 朝方), (朝方, 挑衅), (挑衅, 军事), (军事, ...   \n1036  [(谈话, 行为), (行为, 朝方), (朝方, 挑衅), (挑衅, 军事), (军事, ...   \n1037  [(特朗普, 深化), (深化, 科技), (科技, 日本), (日本, 同盟), (同盟,...   \n1038  [(中国, 台湾), (台湾, 有关), (有关, 内政), (内政, 干涉), (干涉, ...   \n\n                                           bigrams_comb  \\\n0     [(朝鲜, 导弹), (朝鲜, 发射), (朝鲜, 制裁), (朝鲜, 日本), (朝鲜, ...   \n1     [(会谈, 朝鲜), (会谈, 关系), (会谈, 美元), (会谈, 美国), (会谈, ...   \n2     [(情报, 朝鲜), (情报, 侦察), (情报, 卫星), (情报, 这些), (情报, ...   \n3     [(导弹, 朝鲜), (导弹, 试射), (导弹, 公里), (导弹, 射程), (导弹, ...   \n4     [(日, 愿意), (日, 朝鲜), (日, 对话), (日, 美国), (日, 接触), ...   \n...                                                 ...   \n1034  [(外交, 韩国), (外交, 尹锡悦), (外交, 价值观), (外交, 合作), (外交...   \n1035  [(谈话, 行为), (谈话, 朝方), (谈话, 挑衅), (谈话, 军事), (谈话, ...   \n1036  [(谈话, 行为), (谈话, 朝方), (谈话, 挑衅), (谈话, 军事), (谈话, ...   \n1037  [(特朗普, 深化), (特朗普, 科技), (特朗普, 日本), (特朗普, 同盟), (...   \n1038  [(中国, 台湾), (中国, 有关), (中国, 内政), (中国, 干涉), (中国, ...   \n\n                                            trigrams_sw  \\\n0     [(朝鲜, 导弹, 发射), (导弹, 发射, 制裁), (发射, 制裁, 日本), (制裁...   \n1     [(会谈, 朝鲜, 关系), (朝鲜, 关系, 美元), (关系, 美元, 美国), (美元...   \n2     [(情报, 朝鲜, 侦察), (朝鲜, 侦察, 卫星), (侦察, 卫星, 这些), (卫星...   \n3     [(导弹, 朝鲜, 试射), (朝鲜, 试射, 公里), (试射, 公里, 射程), (公里...   \n4     [(日, 愿意, 朝鲜), (愿意, 朝鲜, 对话), (朝鲜, 对话, 美国), (对话,...   \n...                                                 ...   \n1034  [(外交, 韩国, 尹锡悦), (韩国, 尹锡悦, 价值观), (尹锡悦, 价值观, 合作)...   \n1035  [(谈话, 行为, 朝方), (行为, 朝方, 挑衅), (朝方, 挑衅, 军事), (挑衅...   \n1036  [(谈话, 行为, 朝方), (行为, 朝方, 挑衅), (朝方, 挑衅, 军事), (挑衅...   \n1037  [(特朗普, 深化, 科技), (深化, 科技, 日本), (科技, 日本, 同盟), (日...   \n1038  [(中国, 台湾, 有关), (台湾, 有关, 内政), (有关, 内政, 干涉), (内政...   \n\n                                          trigrams_perm  \\\n0     [(朝鲜, 导弹, 发射), (朝鲜, 导弹, 制裁), (朝鲜, 导弹, 日本), (朝鲜...   \n1     [(会谈, 朝鲜, 关系), (会谈, 朝鲜, 美元), (会谈, 朝鲜, 美国), (会谈...   \n2     [(情报, 朝鲜, 侦察), (情报, 朝鲜, 卫星), (情报, 朝鲜, 这些), (情报...   \n3     [(导弹, 朝鲜, 试射), (导弹, 朝鲜, 公里), (导弹, 朝鲜, 射程), (导弹...   \n4     [(日, 愿意, 朝鲜), (日, 愿意, 对话), (日, 愿意, 美国), (日, 愿意...   \n...                                                 ...   \n1034  [(外交, 韩国, 尹锡悦), (外交, 韩国, 价值观), (外交, 韩国, 合作), (...   \n1035  [(谈话, 行为, 朝方), (谈话, 行为, 挑衅), (谈话, 行为, 军事), (谈话...   \n1036  [(谈话, 行为, 朝方), (谈话, 行为, 挑衅), (谈话, 行为, 军事), (谈话...   \n1037  [(特朗普, 深化, 科技), (特朗普, 深化, 日本), (特朗普, 深化, 同盟), ...   \n1038  [(中国, 台湾, 有关), (中国, 台湾, 内政), (中国, 台湾, 干涉), (中国...   \n\n                                          trigrams_comb  \n0     [(朝鲜, 导弹, 发射), (朝鲜, 导弹, 制裁), (朝鲜, 导弹, 日本), (朝鲜...  \n1     [(会谈, 朝鲜, 关系), (会谈, 朝鲜, 美元), (会谈, 朝鲜, 美国), (会谈...  \n2     [(情报, 朝鲜, 侦察), (情报, 朝鲜, 卫星), (情报, 朝鲜, 这些), (情报...  \n3     [(导弹, 朝鲜, 试射), (导弹, 朝鲜, 公里), (导弹, 朝鲜, 射程), (导弹...  \n4     [(日, 愿意, 朝鲜), (日, 愿意, 对话), (日, 愿意, 美国), (日, 愿意...  \n...                                                 ...  \n1034  [(外交, 韩国, 尹锡悦), (外交, 韩国, 价值观), (外交, 韩国, 合作), (...  \n1035  [(谈话, 行为, 朝方), (谈话, 行为, 挑衅), (谈话, 行为, 军事), (谈话...  \n1036  [(谈话, 行为, 朝方), (谈话, 行为, 挑衅), (谈话, 行为, 军事), (谈话...  \n1037  [(特朗普, 深化, 科技), (特朗普, 深化, 日本), (特朗普, 深化, 同盟), ...  \n1038  [(中国, 台湾, 有关), (中国, 台湾, 内政), (中国, 台湾, 干涉), (中国...  \n\n[1039 rows x 17 columns]",
      "text/html": "<div>\n<style scoped>\n    .dataframe tbody tr th:only-of-type {\n        vertical-align: middle;\n    }\n\n    .dataframe tbody tr th {\n        vertical-align: top;\n    }\n\n    .dataframe thead th {\n        text-align: right;\n    }\n</style>\n<table border=\"1\" class=\"dataframe\">\n  <thead>\n    <tr style=\"text-align: right;\">\n      <th></th>\n      <th>title</th>\n      <th>link</th>\n      <th>date</th>\n      <th>content</th>\n      <th>source</th>\n      <th>quarter</th>\n      <th>cleaned_content</th>\n      <th>tokenized_content</th>\n      <th>keywords</th>\n      <th>bigrams</th>\n      <th>trigrams</th>\n      <th>bigrams_perm</th>\n      <th>bigrams_sw</th>\n      <th>bigrams_comb</th>\n      <th>trigrams_sw</th>\n      <th>trigrams_perm</th>\n      <th>trigrams_comb</th>\n    </tr>\n  </thead>\n  <tbody>\n    <tr>\n      <th>0</th>\n      <td>朝鲜试射导弹亚太骤起波澜</td>\n      <td>https://www.gmw.cn/01gmrb/2006-07/12/content_4...</td>\n      <td>2006-07-12</td>\n      <td>7月5日，朝鲜连续发射7枚导弹，引起国际社会震惊。近日，美日在安理会积极推动制裁朝鲜的议案，...</td>\n      <td>光明网</td>\n      <td>2006Q3</td>\n      <td>7月5日朝鲜连续发射7枚导弹引起国际社会震惊。近日美日在安理会积极推动制裁朝鲜的议案并加紧协...</td>\n      <td>7月 5日 朝鲜 连续 发射 7 枚 导弹 引起 国际 社会 震惊 。 美 日 安理会 积极...</td>\n      <td>[[朝鲜, 0.3875], [导弹, 0.3606], [发射, 0.2858], [制裁...</td>\n      <td>[[朝鲜, 导弹], [导弹, 发射], [发射, 制裁], [制裁, 日本], [日本, ...</td>\n      <td>[[朝鲜, 导弹, 发射], [导弹, 发射, 制裁], [发射, 制裁, 日本], [制裁...</td>\n      <td>[(朝鲜, 导弹), (朝鲜, 发射), (朝鲜, 制裁), (朝鲜, 日本), (朝鲜, ...</td>\n      <td>[(朝鲜, 导弹), (导弹, 发射), (发射, 制裁), (制裁, 日本), (日本, ...</td>\n      <td>[(朝鲜, 导弹), (朝鲜, 发射), (朝鲜, 制裁), (朝鲜, 日本), (朝鲜, ...</td>\n      <td>[(朝鲜, 导弹, 发射), (导弹, 发射, 制裁), (发射, 制裁, 日本), (制裁...</td>\n      <td>[(朝鲜, 导弹, 发射), (朝鲜, 导弹, 制裁), (朝鲜, 导弹, 日本), (朝鲜...</td>\n      <td>[(朝鲜, 导弹, 发射), (朝鲜, 导弹, 制裁), (朝鲜, 导弹, 日本), (朝鲜...</td>\n    </tr>\n    <tr>\n      <th>1</th>\n      <td>美朝关系开始解冻</td>\n      <td>https://www.gmw.cn/01gmrb/2007-03/08/content_5...</td>\n      <td>2007-03-08</td>\n      <td>被外界视为“破冰之旅”的朝鲜副外相金桂冠3月5至6日在纽约与美国助理国务卿希尔就两国关系正常...</td>\n      <td>光明网</td>\n      <td>2007Q1</td>\n      <td>被外界视为破冰之旅的朝鲜副外相金桂冠3月5至6日在纽约与美国助理国务卿希尔就两国关系正常化进...</td>\n      <td>外界 视为 破冰 之 旅 朝鲜 副外相 金桂冠 3月 5 6日 纽约 美国 助理 国务卿 希...</td>\n      <td>[[会谈, 0.5007], [朝鲜, 0.2852], [关系, 0.2421], [美元...</td>\n      <td>[[会谈, 朝鲜], [朝鲜, 关系], [关系, 美元], [美元, 美国], [美国, ...</td>\n      <td>[[会谈, 朝鲜, 关系], [朝鲜, 关系, 美元], [关系, 美元, 美国], [美元...</td>\n      <td>[(会谈, 朝鲜), (会谈, 关系), (会谈, 美元), (会谈, 美国), (会谈, ...</td>\n      <td>[(会谈, 朝鲜), (朝鲜, 关系), (关系, 美元), (美元, 美国), (美国, ...</td>\n      <td>[(会谈, 朝鲜), (会谈, 关系), (会谈, 美元), (会谈, 美国), (会谈, ...</td>\n      <td>[(会谈, 朝鲜, 关系), (朝鲜, 关系, 美元), (关系, 美元, 美国), (美元...</td>\n      <td>[(会谈, 朝鲜, 关系), (会谈, 朝鲜, 美元), (会谈, 朝鲜, 美国), (会谈...</td>\n      <td>[(会谈, 朝鲜, 关系), (会谈, 朝鲜, 美元), (会谈, 朝鲜, 美国), (会谈...</td>\n    </tr>\n    <tr>\n      <th>2</th>\n      <td>美日韩间谍云集朝鲜周边空中侦察地面窃听 - 国际经济</td>\n      <td>http://intl.ce.cn/zj/200809/19/t20080919_16855...</td>\n      <td>2008-09-19</td>\n      <td>神秘，这是朝鲜留给外界的印象。 正因为神秘，一些国家的情报机构费尽心机，通过投放卫星、派遣侦...</td>\n      <td>中国经济网</td>\n      <td>2008Q3</td>\n      <td>神秘这是朝鲜留给外界的印象。 正因为神秘一些国家的情报机构费尽心机通过投放卫星派遣侦察机甚至...</td>\n      <td>神秘 朝鲜 留给 外界 印象 。 正 神秘 国家 情报 费尽心机 投放 卫星 派遣 侦察机 ...</td>\n      <td>[[情报, 0.5944], [朝鲜, 0.5479], [侦察, 0.2274], [卫星...</td>\n      <td>[[情报, 朝鲜], [朝鲜, 侦察], [侦察, 卫星], [卫星, 这些], [这些, ...</td>\n      <td>[[情报, 朝鲜, 侦察], [朝鲜, 侦察, 卫星], [侦察, 卫星, 这些], [卫星...</td>\n      <td>[(情报, 朝鲜), (情报, 侦察), (情报, 卫星), (情报, 这些), (情报, ...</td>\n      <td>[(情报, 朝鲜), (朝鲜, 侦察), (侦察, 卫星), (卫星, 这些), (这些, ...</td>\n      <td>[(情报, 朝鲜), (情报, 侦察), (情报, 卫星), (情报, 这些), (情报, ...</td>\n      <td>[(情报, 朝鲜, 侦察), (朝鲜, 侦察, 卫星), (侦察, 卫星, 这些), (卫星...</td>\n      <td>[(情报, 朝鲜, 侦察), (情报, 朝鲜, 卫星), (情报, 朝鲜, 这些), (情报...</td>\n      <td>[(情报, 朝鲜, 侦察), (情报, 朝鲜, 卫星), (情报, 朝鲜, 这些), (情报...</td>\n    </tr>\n    <tr>\n      <th>3</th>\n      <td>美日韩紧盯朝鲜射导弹(图) - 国际经济</td>\n      <td>http://intl.ce.cn/zj/200902/11/t20090211_18171...</td>\n      <td>2009-02-11</td>\n      <td>改进型“大浦洞2号”据说可攻击美本土，甚至可能具有搭载核弹头技术 朝鲜政府最近频繁发出朝韩关...</td>\n      <td>中国经济网</td>\n      <td>2009Q1</td>\n      <td>改进型大浦洞2号据说可攻击美本土甚至可能具有搭载核弹头技术 朝鲜政府最近频繁发出朝韩关系恶化...</td>\n      <td>改进型 大浦洞 2 据说 攻击 美 本土 甚至 具有 搭载 核 弹头 技术 朝鲜 最近 频繁...</td>\n      <td>[[导弹, 0.6383], [朝鲜, 0.4407], [试射, 0.2934], [公里...</td>\n      <td>[[导弹, 朝鲜], [朝鲜, 试射], [试射, 公里], [公里, 射程], [射程, ...</td>\n      <td>[[导弹, 朝鲜, 试射], [朝鲜, 试射, 公里], [试射, 公里, 射程], [公里...</td>\n      <td>[(导弹, 朝鲜), (导弹, 试射), (导弹, 公里), (导弹, 射程), (导弹, ...</td>\n      <td>[(导弹, 朝鲜), (朝鲜, 试射), (试射, 公里), (公里, 射程), (射程, ...</td>\n      <td>[(导弹, 朝鲜), (导弹, 试射), (导弹, 公里), (导弹, 射程), (导弹, ...</td>\n      <td>[(导弹, 朝鲜, 试射), (朝鲜, 试射, 公里), (试射, 公里, 射程), (公里...</td>\n      <td>[(导弹, 朝鲜, 试射), (导弹, 朝鲜, 公里), (导弹, 朝鲜, 射程), (导弹...</td>\n      <td>[(导弹, 朝鲜, 试射), (导弹, 朝鲜, 公里), (导弹, 朝鲜, 射程), (导弹...</td>\n    </tr>\n    <tr>\n      <th>4</th>\n      <td>美国朝鲜问题特使称美愿与朝对话</td>\n      <td>https://world.huanqiu.com/article/9CaKrnJlEWs</td>\n      <td>2009-03-07</td>\n      <td>新华网首尔3月7日电 (记者李拯宇 干玉兰) 美国朝鲜问题特使斯蒂芬·博斯沃思7日在韩国说，...</td>\n      <td>环球网</td>\n      <td>2009Q1</td>\n      <td>新华网首尔3月7日电 记者李拯宇 干玉兰 美国朝鲜问题特使斯蒂芬博斯沃思7日在韩国说美国愿意...</td>\n      <td>新华网 首尔 3月 7日 电 李拯宇 干玉兰 美国 朝鲜 问题 特使 斯蒂芬博斯沃思 7日 ...</td>\n      <td>[[日, 0.6123], [愿意, 0.4147], [朝鲜, 0.3755], [对话,...</td>\n      <td>[[日, 愿意], [愿意, 朝鲜], [朝鲜, 对话], [对话, 美国], [美国, 接...</td>\n      <td>[[日, 愿意, 朝鲜], [愿意, 朝鲜, 对话], [朝鲜, 对话, 美国], [对话,...</td>\n      <td>[(日, 愿意), (日, 朝鲜), (日, 对话), (日, 美国), (日, 接触), ...</td>\n      <td>[(日, 愿意), (愿意, 朝鲜), (朝鲜, 对话), (对话, 美国), (美国, 接...</td>\n      <td>[(日, 愿意), (日, 朝鲜), (日, 对话), (日, 美国), (日, 接触), ...</td>\n      <td>[(日, 愿意, 朝鲜), (愿意, 朝鲜, 对话), (朝鲜, 对话, 美国), (对话,...</td>\n      <td>[(日, 愿意, 朝鲜), (日, 愿意, 对话), (日, 愿意, 美国), (日, 愿意...</td>\n      <td>[(日, 愿意, 朝鲜), (日, 愿意, 对话), (日, 愿意, 美国), (日, 愿意...</td>\n    </tr>\n    <tr>\n      <th>...</th>\n      <td>...</td>\n      <td>...</td>\n      <td>...</td>\n      <td>...</td>\n      <td>...</td>\n      <td>...</td>\n      <td>...</td>\n      <td>...</td>\n      <td>...</td>\n      <td>...</td>\n      <td>...</td>\n      <td>...</td>\n      <td>...</td>\n      <td>...</td>\n      <td>...</td>\n      <td>...</td>\n      <td>...</td>\n    </tr>\n    <tr>\n      <th>1034</th>\n      <td>詹德斌：韩国政局变动，美国要做的不应是施压</td>\n      <td>https://hqtime.huanqiu.com/share/article/4Ky1A...</td>\n      <td>2025-01-07</td>\n      <td>美国国务卿布林肯1月5日抵达韩国。这看上去似乎是一次礼仪性道别之旅，但防止韩国“后弹劾政局”...</td>\n      <td>环球网</td>\n      <td>2025Q1</td>\n      <td>美国国务卿布林肯1月5日抵达韩国。这看上去似乎是一次礼仪性道别之旅但防止韩国后弹劾政局对美韩...</td>\n      <td>美国 国务卿 布林肯 1月 5日 抵达 韩国 。 看上去 似乎 礼仪性 道别 之 旅 防止 ...</td>\n      <td>[[外交, 0.424], [韩国, 0.2525], [尹锡悦, 0.2299], [价值...</td>\n      <td>[[外交, 韩国], [韩国, 尹锡悦], [尹锡悦, 价值观], [价值观, 合作], [...</td>\n      <td>[[外交, 韩国, 尹锡悦], [韩国, 尹锡悦, 价值观], [尹锡悦, 价值观, 合作]...</td>\n      <td>[(外交, 韩国), (外交, 尹锡悦), (外交, 价值观), (外交, 合作), (外交...</td>\n      <td>[(外交, 韩国), (韩国, 尹锡悦), (尹锡悦, 价值观), (价值观, 合作), (...</td>\n      <td>[(外交, 韩国), (外交, 尹锡悦), (外交, 价值观), (外交, 合作), (外交...</td>\n      <td>[(外交, 韩国, 尹锡悦), (韩国, 尹锡悦, 价值观), (尹锡悦, 价值观, 合作)...</td>\n      <td>[(外交, 韩国, 尹锡悦), (外交, 韩国, 价值观), (外交, 韩国, 合作), (...</td>\n      <td>[(外交, 韩国, 尹锡悦), (外交, 韩国, 价值观), (外交, 韩国, 合作), (...</td>\n    </tr>\n    <tr>\n      <th>1035</th>\n      <td>朝鲜谴责美韩军事挑衅导致地区局势恶化</td>\n      <td>http://www.xinhuanet.com/20250126/55a39b230ccf...</td>\n      <td>2025-01-26</td>\n      <td>新华社首尔1月26日电 据朝中社26日报道，朝鲜外务省对外政策室长当天发表谈话，谴责美韩近期...</td>\n      <td>新华网</td>\n      <td>2025Q1</td>\n      <td>新华社首尔1月26日电 据朝中社26日报道朝鲜外务省对外政策室长当天发表谈话谴责美韩近期对朝...</td>\n      <td>新华社 首尔 1月 26日 电 朝中社 26日 报道 朝鲜 外务省 对外 政策 室长 谈话 ...</td>\n      <td>[[谈话, 0.5039], [行为, 0.2765], [朝方, 0.2611], [挑衅...</td>\n      <td>[[谈话, 行为], [行为, 朝方], [朝方, 挑衅], [挑衅, 军事], [军事, ...</td>\n      <td>[[谈话, 行为, 朝方], [行为, 朝方, 挑衅], [朝方, 挑衅, 军事], [挑衅...</td>\n      <td>[(谈话, 行为), (谈话, 朝方), (谈话, 挑衅), (谈话, 军事), (谈话, ...</td>\n      <td>[(谈话, 行为), (行为, 朝方), (朝方, 挑衅), (挑衅, 军事), (军事, ...</td>\n      <td>[(谈话, 行为), (谈话, 朝方), (谈话, 挑衅), (谈话, 军事), (谈话, ...</td>\n      <td>[(谈话, 行为, 朝方), (行为, 朝方, 挑衅), (朝方, 挑衅, 军事), (挑衅...</td>\n      <td>[(谈话, 行为, 朝方), (谈话, 行为, 挑衅), (谈话, 行为, 军事), (谈话...</td>\n      <td>[(谈话, 行为, 朝方), (谈话, 行为, 挑衅), (谈话, 行为, 军事), (谈话...</td>\n    </tr>\n    <tr>\n      <th>1036</th>\n      <td>朝鲜外务省：美韩军事挑衅行为导致地区局势恶化 - 国际频道</td>\n      <td>https://world.gmw.cn/2025-01/26/content_378203...</td>\n      <td>2025-01-26</td>\n      <td>中新网1月26日电据朝中社报道，当地时间1月26日，朝鲜外务省对外政策室长发表谈话，谴责美韩...</td>\n      <td>光明网</td>\n      <td>2025Q1</td>\n      <td>中新网1月26日电据朝中社报道当地时间1月26日朝鲜外务省对外政策室长发表谈话谴责美韩近期对...</td>\n      <td>中新网 1月 26日 电 朝中社 报道 时间 1月 26日 朝鲜 外务省 对外 政策 室长 ...</td>\n      <td>[[谈话, 0.5705], [行为, 0.2608], [朝方, 0.2464], [挑衅...</td>\n      <td>[[谈话, 行为], [行为, 朝方], [朝方, 挑衅], [挑衅, 军事], [军事, ...</td>\n      <td>[[谈话, 行为, 朝方], [行为, 朝方, 挑衅], [朝方, 挑衅, 军事], [挑衅...</td>\n      <td>[(谈话, 行为), (谈话, 朝方), (谈话, 挑衅), (谈话, 军事), (谈话, ...</td>\n      <td>[(谈话, 行为), (行为, 朝方), (朝方, 挑衅), (挑衅, 军事), (军事, ...</td>\n      <td>[(谈话, 行为), (谈话, 朝方), (谈话, 挑衅), (谈话, 军事), (谈话, ...</td>\n      <td>[(谈话, 行为, 朝方), (行为, 朝方, 挑衅), (朝方, 挑衅, 军事), (挑衅...</td>\n      <td>[(谈话, 行为, 朝方), (谈话, 行为, 挑衅), (谈话, 行为, 军事), (谈话...</td>\n      <td>[(谈话, 行为, 朝方), (谈话, 行为, 挑衅), (谈话, 行为, 军事), (谈话...</td>\n    </tr>\n    <tr>\n      <th>1037</th>\n      <td>石破茂与特朗普会面，美日“小集团”谋划“大算盘” | 国际识局</td>\n      <td>http://intl.ce.cn/qqss/202502/09/t20250209_392...</td>\n      <td>2025-02-09</td>\n      <td>中新网2月9日电(记者 孟湘君)特朗普当选新一任美国总统后，意大利、以色列等国领导人先后与其...</td>\n      <td>中国经济网</td>\n      <td>2025Q1</td>\n      <td>中新网2月9日电记者 孟湘君特朗普当选新一任美国总统后意大利以色列等国领导人先后与其会面。近...</td>\n      <td>中新网 2月 9日 电 孟湘君 特朗普 当选 新 任 美国 总统 后 意大利 以色列 先后 ...</td>\n      <td>[[特朗普, 0.5356], [深化, 0.2706], [科技, 0.2242], [日...</td>\n      <td>[[特朗普, 深化], [深化, 科技], [科技, 日本], [日本, 同盟], [同盟,...</td>\n      <td>[[特朗普, 深化, 科技], [深化, 科技, 日本], [科技, 日本, 同盟], [日...</td>\n      <td>[(特朗普, 深化), (特朗普, 科技), (特朗普, 日本), (特朗普, 同盟), (...</td>\n      <td>[(特朗普, 深化), (深化, 科技), (科技, 日本), (日本, 同盟), (同盟,...</td>\n      <td>[(特朗普, 深化), (特朗普, 科技), (特朗普, 日本), (特朗普, 同盟), (...</td>\n      <td>[(特朗普, 深化, 科技), (深化, 科技, 日本), (科技, 日本, 同盟), (日...</td>\n      <td>[(特朗普, 深化, 科技), (特朗普, 深化, 日本), (特朗普, 深化, 同盟), ...</td>\n      <td>[(特朗普, 深化, 科技), (特朗普, 深化, 日本), (特朗普, 深化, 同盟), ...</td>\n    </tr>\n    <tr>\n      <th>1038</th>\n      <td>外交部批驳美日韩涉台、涉南海问题消极表态</td>\n      <td>https://www.xinhuanet.com/world/20250217/8c936...</td>\n      <td>2025-02-17</td>\n      <td>新华社北京2月17日电（马卓言、孙素颖）针对美日韩外长近日在德国慕尼黑举行会晤，三国在联合声...</td>\n      <td>新华网</td>\n      <td>2025Q1</td>\n      <td>新华社北京2月17日电马卓言孙素颖针对美日韩外长近日在德国慕尼黑举行会晤三国在联合声明中发表...</td>\n      <td>新华社 北京 2月 17日 电 马卓言 孙素颖 针对 美 日 韩 外长 德国 慕尼黑 举行 ...</td>\n      <td>[[中国, 0.3026], [台湾, 0.2884], [有关, 0.2378], [内政...</td>\n      <td>[[中国, 台湾], [台湾, 有关], [有关, 内政], [内政, 干涉], [干涉, ...</td>\n      <td>[[中国, 台湾, 有关], [台湾, 有关, 内政], [有关, 内政, 干涉], [内政...</td>\n      <td>[(中国, 台湾), (中国, 有关), (中国, 内政), (中国, 干涉), (中国, ...</td>\n      <td>[(中国, 台湾), (台湾, 有关), (有关, 内政), (内政, 干涉), (干涉, ...</td>\n      <td>[(中国, 台湾), (中国, 有关), (中国, 内政), (中国, 干涉), (中国, ...</td>\n      <td>[(中国, 台湾, 有关), (台湾, 有关, 内政), (有关, 内政, 干涉), (内政...</td>\n      <td>[(中国, 台湾, 有关), (中国, 台湾, 内政), (中国, 台湾, 干涉), (中国...</td>\n      <td>[(中国, 台湾, 有关), (中国, 台湾, 内政), (中国, 台湾, 干涉), (中国...</td>\n    </tr>\n  </tbody>\n</table>\n<p>1039 rows × 17 columns</p>\n</div>"
     },
     "execution_count": 56,
     "metadata": {},
     "output_type": "execute_result"
    }
   ],
   "execution_count": 56,
   "source": [
    "df"
   ],
   "id": "12e712e627f5d2ae"
  },
  {
   "cell_type": "code",
   "outputs": [
    {
     "name": "stdout",
     "output_type": "stream",
     "text": [
      "0    [[朝鲜, 0.3875], [导弹, 0.3606], [发射, 0.2858], [制裁...\n",
      "1    [[会谈, 0.5007], [朝鲜, 0.2852], [关系, 0.2421], [美元...\n",
      "2    [[情报, 0.5944], [朝鲜, 0.5479], [侦察, 0.2274], [卫星...\n",
      "3    [[导弹, 0.6383], [朝鲜, 0.4407], [试射, 0.2934], [公里...\n",
      "4    [[日, 0.6123], [愿意, 0.4147], [朝鲜, 0.3755], [对话,...\n",
      "5    [[卫星, 0.5152], [发射, 0.3469], [拦截, 0.3001], [和平...\n",
      "6    [[发射, 0.5291], [火箭, 0.4553], [日, 0.4221], [朝鲜,...\n",
      "7    [[安理会, 0.5045], [声明, 0.4419], [主席, 0.3156], [朝...\n",
      "8    [[军方, 0.3717], [安理会, 0.2972], [朝鲜, 0.2882], [主...\n",
      "9    [[中国, 0.4311], [澳大利亚, 0.4145], [白皮书, 0.3789], ...\n",
      "Name: keywords, dtype: object\n",
      "<class 'list'>\n"
     ]
    }
   ],
   "source": [
    "print(df[\"keywords\"].head(10))  # 상위 10개 확인\n",
    "print(type(df[\"keywords\"].iloc[0]))  # 첫 번째 값의 타입 확인\n"
   ],
   "metadata": {
    "collapsed": false,
    "ExecuteTime": {
     "end_time": "2025-03-10T06:10:49.357264Z",
     "start_time": "2025-03-10T06:10:49.338131Z"
    }
   },
   "id": "7800cfd8a5aecbcf",
   "execution_count": 54
  },
  {
   "cell_type": "code",
   "outputs": [],
   "source": [
    "import numpy as np\n",
    "from sklearn.feature_extraction.text import TfidfVectorizer\n",
    "\n",
    "# 전체 데이터셋에 대해 TF-IDF를 계산 (IDF는 전체 데이터셋에 대해 계산)\n",
    "def calculate_keywords_by_quarter_with_global_idf(df, quarter_col=\"input_quarter\", content_col=\"tokenized_content\", top_n=10):\n",
    "    keywords_by_quarter = {}\n",
    "\n",
    "    # 1. 전체 데이터셋에 대해 TF-IDF 계산 (IDF는 전체 데이터셋을 기준으로 계산)\n",
    "    # 전체 데이터셋을 기준으로 IDF 값을 계산합니다.\n",
    "    vectorizer = TfidfVectorizer(max_features=1000)\n",
    "    vectorizer.fit(df[content_col])  # 전체 데이터셋을 기준으로 IDF 값 계산\n",
    "\n",
    "    # 2. 분기별로 데이터를 그룹화하여 처리 (분기별로 중요 키워드 추출)\n",
    "    for quarter, group in df.groupby(quarter_col):\n",
    "        # 3. 해당 분기 내의 기사를 대상으로 TF-IDF 계산 (IDF는 고정값 사용)\n",
    "        tfidf_matrix_quarter = vectorizer.transform(group[content_col])  # 분기 내의 TF만 계산\n",
    "\n",
    "        # 4. 각 분기 내에서 중요한 단어들을 추출하는 함수\n",
    "        def get_top_keywords_for_quarter(tfidf_matrix_quarter, top_n=10):\n",
    "            # 분기 내에서 단어들의 TF-IDF 점수를 합산\n",
    "            sum_tfidf = np.sum(tfidf_matrix_quarter.toarray(), axis=0)  # 분기 내의 단어들의 TF-IDF 점수 합산\n",
    "            top_indices = np.argsort(sum_tfidf)[::-1][:top_n]  # 중요도 높은 순으로 상위 단어 추출\n",
    "            top_words = [(vectorizer.get_feature_names_out()[i], sum_tfidf[i]) for i in top_indices]  # (단어, 중요도 점수) 저장\n",
    "            return \", \".join([f\"{word} ({score:.4f})\" for word, score in top_words])\n",
    "        # 5. 해당 분기 내에서 중요한 키워드를 추출\n",
    "        keywords_by_quarter[quarter] = get_top_keywords_for_quarter(tfidf_matrix_quarter)\n",
    "\n",
    "    return keywords_by_quarter  # 결과로 분기별 키워드를 저장한 딕셔너리 반환\n",
    "\n",
    "# 예시로 'input_quarter' 컬럼을 기준으로 그룹화하여 각 분기별로 키워드 계산\n",
    "keywords_by_quarter = calculate_keywords_by_quarter_with_global_idf(df)\n",
    "\n",
    "# 6. 모든 분기별 결과 출력\n",
    "# 각 분기별로 추출된 중요 키워드를 출력합니다.\n",
    "for quarter, keywords in keywords_by_quarter.items():\n",
    "    print(f\"\\n✅ {quarter} 분기의 TF-IDF 키워드 상위 10개:\")\n",
    "    print(keywords)  # 각 분기별로 중요한 키워드 출력\n"
   ],
   "metadata": {
    "collapsed": false
   },
   "id": "a9354e6075a53d8b",
   "execution_count": null
  },
  {
   "metadata": {},
   "cell_type": "code",
   "outputs": [],
   "execution_count": null,
   "source": "",
   "id": "2c98b96f4959c1f3"
  }
 ],
 "metadata": {
  "kernelspec": {
   "display_name": "Python 3",
   "language": "python",
   "name": "python3"
  },
  "language_info": {
   "codemirror_mode": {
    "name": "ipython",
    "version": 2
   },
   "file_extension": ".py",
   "mimetype": "text/x-python",
   "name": "python",
   "nbconvert_exporter": "python",
   "pygments_lexer": "ipython2",
   "version": "2.7.6"
  }
 },
 "nbformat": 4,
 "nbformat_minor": 5
}
