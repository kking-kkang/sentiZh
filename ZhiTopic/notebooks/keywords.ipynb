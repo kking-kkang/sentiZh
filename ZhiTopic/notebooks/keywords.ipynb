{
 "cells": [
  {
   "cell_type": "code",
   "id": "initial_id",
   "metadata": {
    "collapsed": true,
    "ExecuteTime": {
     "end_time": "2025-03-08T09:40:29.678451Z",
     "start_time": "2025-03-08T09:40:03.603258Z"
    }
   },
   "source": [
    "import json\n",
    "import pandas as pd\n",
    "import numpy as np\n",
    "from sklearn.feature_extraction.text import TfidfVectorizer\n",
    "import hanlp\n",
    "\n",
    "# 📌 1. HanLP 토큰화 모델 로드\n",
    "segmenter = hanlp.load(\"CTB9_TOK_ELECTRA_BASE_CRF\")\n",
    "\n",
    "# 📌 2. 불용어 리스트 정의\n",
    "chinese_stopwords = set([\n",
    "    \"的\", \"了\", \"在\", \"是\", \"和\", \"与\", \"也\", \"有\", \"对\", \"就\", \"以\", \"将\", \"要\",\n",
    "    \"但\", \"其\", \"而\", \"此\", \"我们\", \"他们\", \"你们\", \"可以\", \"但是\", \"这样\", \"这个\",\n",
    "    \"其中\", \"其中之一\", \"包括\", \"根据\", \"由于\", \"通过\", \"此外\", \"同时\",\n",
    "    \"记者\", \"新闻\", \"媒体\", \"采访\", \"发表\", \"宣布\", \"透露\", \"介绍\", \"报道称\",\n",
    "    \"指出\", \"强调\", \"证实\", \"承认\", \"认为\", \"评价\", \"评论\", \"提到\", \"解释\", \"分析\",\n",
    "    \"总结\", \"预测\", \"预计\", \"关注\", \"反映\", \"说明\", \"进一步\",\n",
    "    \"今天\", \"昨天\", \"明天\", \"日前\", \"近日\", \"本周\", \"上周\", \"下周\", \"目前\",\n",
    "    \"现在\", \"过去\", \"未来\", \"今年\", \"去年\", \"明年\", \"此前\", \"随后\", \"当地\",\n",
    "    \"政府\", \"机构\", \"相关\", \"部门\", \"官员\", \"领导人\", \"代表\", \"发言人\", \"部长\", \"事务\", \"委员会\",\n",
    "    \"一\", \"二\", \"三\", \"这\", \"不\", \"可能\", \"都\", \"才\", \"可\", \"一直\", \"到\", \"如果\", \"将\",\n",
    "    \"带来\", \"十分\", \"称\", \"个\", \"月\", \"次\", \"因\", \"因此\", \"认为\", \"如果\", \"最\", \"即\",\n",
    "    \"当天\", \"因为\", \"曾\", \"号\", \"第\", \"等\", \"相当\", \"个\", \"两\", \"很\", \"所以\", \"各种\",\n",
    "    \"从而\", \"仍\", \"以\", \"为了\", \"以及\", \"据\", \"并\", \"过\", \"几\", \"号\", \"立即\", \"相关\",\n",
    "    \"等\", \"着\", \"于\", \"为\", \"说\", \"却\", \"使\", \"国\", \"还\", \"带来\", \"来说\", \"而\", \"为\",\n",
    "    \"至\", \"可以\", \"很\", \"会\", \"除了\", \"被\", \"外\", \"也\", \"若\", \"更\", \"已经\", \"已\", \"称\",\n",
    "    \"大大\", \"不仅\", \"能够\", \"近日\", \"并\", \"再\", \"一些\", \"明确\", \"作为\", \"向\", \"于\",\n",
    "    \"表示\", \"以及\"\n",
    "])\n"
   ],
   "outputs": [
    {
     "name": "stderr",
     "output_type": "stream",
     "text": [
      "C:\\Users\\82104\\IdeaProjects\\sentiZh\\ZhiTopic\\.venv\\lib\\site-packages\\tqdm\\auto.py:21: TqdmWarning: IProgress not found. Please update jupyter and ipywidgets. See https://ipywidgets.readthedocs.io/en/stable/user_install.html\n",
      "  from .autonotebook import tqdm as notebook_tqdm\n",
      "                                   \r"
     ]
    }
   ],
   "execution_count": 1
  },
  {
   "metadata": {
    "ExecuteTime": {
     "end_time": "2025-03-08T10:23:13.824481Z",
     "start_time": "2025-03-08T09:42:28.678667Z"
    }
   },
   "cell_type": "code",
   "source": [
    "# 📌 3. JSON 데이터 로드\n",
    "file_path = \"../data/final_0307.json\"\n",
    "with open(file_path, \"r\", encoding=\"utf-8\") as f:\n",
    "    data = json.load(f)\n",
    "\n",
    "# 📌 4. 데이터프레임 변환\n",
    "df = pd.DataFrame(data)\n",
    "\n",
    "# 📌 5. HanLP로 토큰화 및 불용어 제거\n",
    "def tokenize_and_filter(text):\n",
    "    tokens = segmenter(text)\n",
    "    return \" \".join([word for word in tokens if word not in chinese_stopwords])\n",
    "\n",
    "df[\"tokenized_content\"] = df[\"cleaned_content\"].apply(tokenize_and_filter)\n"
   ],
   "id": "9578b4b4e88270e0",
   "outputs": [],
   "execution_count": 2
  },
  {
   "metadata": {
    "ExecuteTime": {
     "end_time": "2025-03-08T11:21:55.582277Z",
     "start_time": "2025-03-08T11:21:55.097574Z"
    }
   },
   "cell_type": "code",
   "source": [
    "# 📌 6. TF-IDF 벡터라이저 적용\n",
    "vectorizer = TfidfVectorizer(max_features=1000)\n",
    "tfidf_matrix = vectorizer.fit_transform(df[\"tokenized_content\"])\n",
    "\n",
    "# 📌 7. 단어 리스트 가져오기\n",
    "feature_names = vectorizer.get_feature_names_out()\n",
    "\n",
    "# 📌 8. 각 기사별 상위 3개 중요 키워드 추출 함수\n",
    "def get_top_keywords(row, top_n=20):\n",
    "    indices = np.argsort(row)[::-1]  # 중요도 높은 순 정렬\n",
    "    top_words = [feature_names[i] for i in indices[:top_n]]\n",
    "    return \", \".join(top_words)\n",
    "\n",
    "# 📌 9. 기사별 키워드 추출 및 저장\n",
    "df[\"keywords\"] = [get_top_keywords(row.toarray().flatten()) for row in tfidf_matrix]\n",
    "\n",
    "# 📌 11. 결과 확인 (상위 10개 기사)\n",
    "print(\"\\n✅ 기사별 TF-IDF 키워드 상위 10개:\")\n",
    "print(df[[\"cleaned_content\", \"tokenized_content\", \"keywords\"]].head(10))\n"
   ],
   "id": "39f2457093d40faa",
   "outputs": [
    {
     "name": "stdout",
     "output_type": "stream",
     "text": [
      "\n",
      "✅ 기사별 TF-IDF 키워드 상위 10개:\n",
      "                                     cleaned_content  \\\n",
      "0  7月5日朝鲜连续发射7枚导弹引起国际社会震惊。近日美日在安理会积极推动制裁朝鲜的议案并加紧协...   \n",
      "1  被外界视为破冰之旅的朝鲜副外相金桂冠3月5至6日在纽约与美国助理国务卿希尔就两国关系正常化进...   \n",
      "2  神秘这是朝鲜留给外界的印象。 正因为神秘一些国家的情报机构费尽心机通过投放卫星派遣侦察机甚至...   \n",
      "3  改进型大浦洞2号据说可攻击美本土甚至可能具有搭载核弹头技术 朝鲜政府最近频繁发出朝韩关系恶化...   \n",
      "4  新华网首尔3月7日电 记者李拯宇 干玉兰 美国朝鲜问题特使斯蒂芬博斯沃思7日在韩国说美国愿意...   \n",
      "5  环球时报驻韩国特约记者沈松报道据韩联社报道朝鲜人民军总参谋部2日对于韩美日3国就朝鲜远程火箭...   \n",
      "6  中新网4月4日电 综合媒体报道4月4日朝鲜周边紧张态势骤然加剧朝鲜官方已表示即将发射卫星日韩...   \n",
      "7  新华网北京４月１４日电 综合新华社驻外记者报道联合国安理会１３日就朝鲜发射问题通过主席声明后...   \n",
      "8  新华网平壤４月１８日电记者高浩荣张滨阳朝鲜人民军总参谋部发言人１８日在平壤发表谈话说美国日本...   \n",
      "9  中国国产航母及舰载机想像图 澳大利亚悉尼先驱晨报4月29日文章原题我们的问题中国是敌是友？ ...   \n",
      "\n",
      "                                   tokenized_content  \\\n",
      "0  7月 5日 朝鲜 连续 发射 7 枚 导弹 引起 国际 社会 震惊 。 美 日 安理会 积极...   \n",
      "1  外界 视为 破冰 之 旅 朝鲜 副外相 金桂冠 3月 5 6日 纽约 美国 助理 国务卿 希...   \n",
      "2  神秘 朝鲜 留给 外界 印象 。 正 神秘 国家 情报 费尽心机 投放 卫星 派遣 侦察机 ...   \n",
      "3  改进型 大浦洞 2 据说 攻击 美 本土 甚至 具有 搭载 核 弹头 技术 朝鲜 最近 频繁...   \n",
      "4  新华网 首尔 3月 7日 电 李拯宇 干玉兰 美国 朝鲜 问题 特使 斯蒂芬博斯沃思 7日 ...   \n",
      "5  环球 时报 驻 韩国 特约 沈松 报道 韩联社 报道 朝鲜 人民军 总参谋部 2日 对于 韩...   \n",
      "6  中新网 4月 4日 电 综合 报道 4月 4日 朝鲜 周边 紧张 态势 骤然 加剧 朝鲜 官...   \n",
      "7  新华网 北京 ４月 １４日 电 综合 新华社 驻外 报道 联合国 安理会 １３日 朝鲜 发射...   \n",
      "8  新华网 平壤 ４月 １８日 电 高浩荣 张滨阳 朝鲜 人民军 总参谋部 １８日 平壤 谈话 ...   \n",
      "9  中国 国产 航母 及 舰载机 想像图 澳大利亚 悉尼 先驱 晨报 4月 29日 文章 原题 ...   \n",
      "\n",
      "                                            keywords  \n",
      "0  朝鲜, 导弹, 发射, 制裁, 日本, 安理会, 防御, 系统, 推动, 太空, 计划, 孤...  \n",
      "1  会谈, 朝鲜, 关系, 美元, 美国, 谈判, 问题, 国务卿, 双方, 双边, 落实, 5...  \n",
      "2  情报, 朝鲜, 侦察, 卫星, 这些, 监视, 人员, 韩国, 手段, 国家, 飞机, 美国...  \n",
      "3  导弹, 朝鲜, 试射, 公里, 射程, 发射, 技术, 韩国, 担心, 成功, 侦察, 试验...  \n",
      "4  7日, 愿意, 朝鲜, 对话, 美国, 接触, 3月, 首尔, 访问, 考虑, 正在, 期间...  \n",
      "5  卫星, 发射, 拦截, 和平, 朝鲜, 打击, 火箭, 报道, 民族, 谴责, 日本, 重大...  \n",
      "6  发射, 火箭, 4日, 朝鲜, 卫星, 4月, 即将, 时间, 问题, 李明博, 诸多, 比...  \n",
      "7  安理会, 声明, 主席, 朝鲜, 欢迎, 发射, 敦促, 联合国, 努力, 决议, 会谈, ...  \n",
      "8  军方, 安理会, 朝鲜, 主席, 发射, 平壤, 声明, 卫星, 会谈, 任何, 倡议, 谈...  \n",
      "9  中国, 澳大利亚, 白皮书, 北京, 防务, 资源, 崛起, 感到, 这些, 军事, 利益,...  \n"
     ]
    }
   ],
   "execution_count": 11
  },
  {
   "metadata": {
    "ExecuteTime": {
     "end_time": "2025-03-08T11:21:56.903626Z",
     "start_time": "2025-03-08T11:21:56.780925Z"
    }
   },
   "cell_type": "code",
   "source": [
    "output_file = \"../data/news_with_tokenized_keywords.json\"\n",
    "\n",
    "# 📌 필요 없는 컬럼 리스트\n",
    "columns_to_drop = [\"sentences\", \"filtered_sentences\", \"num_filtered_sentences\", \"num_sentences\", \"ratio\"]\n",
    "\n",
    "# 📌 해당 컬럼 삭제 (존재하지 않아도 에러 발생하지 않도록 `errors=\"ignore\"` 설정)\n",
    "df.drop(columns=columns_to_drop, inplace=True, errors=\"ignore\")\n",
    "\n",
    "# 📌 2. JSON 덤프를 위한 데이터 변환\n",
    "json_data = df.to_dict(orient=\"records\")  # DataFrame → JSON 리스트 변환\n",
    "\n",
    "# 📌 3. Pretty Print JSON 파일 저장\n",
    "with open(output_file, \"w\", encoding=\"utf-8\") as f:\n",
    "    json.dump(json_data, f, indent=4, ensure_ascii=False)"
   ],
   "id": "b40da244e4cd4592",
   "outputs": [],
   "execution_count": 12
  },
  {
   "metadata": {},
   "cell_type": "code",
   "outputs": [],
   "execution_count": null,
   "source": "",
   "id": "12e712e627f5d2ae"
  }
 ],
 "metadata": {
  "kernelspec": {
   "display_name": "Python 3",
   "language": "python",
   "name": "python3"
  },
  "language_info": {
   "codemirror_mode": {
    "name": "ipython",
    "version": 2
   },
   "file_extension": ".py",
   "mimetype": "text/x-python",
   "name": "python",
   "nbconvert_exporter": "python",
   "pygments_lexer": "ipython2",
   "version": "2.7.6"
  }
 },
 "nbformat": 4,
 "nbformat_minor": 5
}
