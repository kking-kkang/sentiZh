{
 "cells": [
  {
   "cell_type": "code",
   "id": "initial_id",
   "metadata": {
    "collapsed": true,
    "ExecuteTime": {
     "end_time": "2025-03-07T07:13:11.602734Z",
     "start_time": "2025-03-07T07:13:10.994360Z"
    }
   },
   "source": [
    "import json\n",
    "from collections import Counter\n",
    "import pandas as pd"
   ],
   "outputs": [],
   "execution_count": 2
  },
  {
   "metadata": {
    "ExecuteTime": {
     "end_time": "2025-03-07T11:02:31.640169Z",
     "start_time": "2025-03-07T11:02:31.332767Z"
    }
   },
   "cell_type": "code",
   "source": [
    "# JSON 파일 불러오기\n",
    "# with open(\"../data/final.json\", \"r\", encoding=\"utf-8\") as f:\n",
    "#     data = json.load(f)\n",
    "\n",
    "with open(\"../data/final_0307.json\", \"r\", encoding=\"utf-8\") as f:\n",
    "    data = json.load(f)\n",
    "\n",
    "# JSON을 DataFrame으로 변환\n",
    "df = pd.DataFrame(data)\n",
    "\n",
    "# 데이터 개수 확인\n",
    "print(\"📌 총 데이터 개수:\", len(df))\n",
    "\n",
    "# 특정 컬럼(예: 'title') 기준 중복 확인\n",
    "duplicate_titles = df[df.duplicated(subset=['title'], keep=False)]\n",
    "print(\"\\n📌 'title' 기준 중복된 행 개수:\", len(duplicate_titles))\n",
    "\n"
   ],
   "id": "80e6f5ba8a262cc2",
   "outputs": [
    {
     "name": "stdout",
     "output_type": "stream",
     "text": [
      "📌 총 데이터 개수: 1039\n",
      "\n",
      "📌 'title' 기준 중복된 행 개수: 0\n"
     ]
    }
   ],
   "execution_count": 5
  },
  {
   "metadata": {
    "ExecuteTime": {
     "end_time": "2025-02-27T11:35:38.088826Z",
     "start_time": "2025-02-27T11:35:37.969568Z"
    }
   },
   "cell_type": "code",
   "source": [
    "import json\n",
    "import re\n",
    "\n",
    "def load_json(file_path):\n",
    "    \"\"\"JSON 파일을 불러와 리스트로 반환\"\"\"\n",
    "    with open(file_path, 'r', encoding='utf-8') as file:\n",
    "        return json.load(file)\n",
    "\n",
    "def convert_chinese_date_format(date_str):\n",
    "    \"\"\"'2016年8月26日' 형식을 '2016-08-26'로 변환\"\"\"\n",
    "    match = re.match(r'(\\d{4})年(\\d{1,2})月(\\d{1,2})日', date_str)\n",
    "    if match:\n",
    "        year = match.group(1)\n",
    "        month = match.group(2).zfill(2)  # 한 자리 숫자 월을 2자리로 변환\n",
    "        day = match.group(3).zfill(2)  # 한 자리 숫자 일을 2자리로 변환\n",
    "        return f\"{year}-{month}-{day}\"\n",
    "    return date_str  # 변환되지 않으면 원본 유지\n",
    "\n",
    "def transform_dates_in_json(data, date_key=\"date\"):\n",
    "    \"\"\"JSON 데이터에서 특정 키(date_key)에 해당하는 날짜 변환\"\"\"\n",
    "    for item in data:\n",
    "        if date_key in item and isinstance(item[date_key], str):\n",
    "            item[date_key] = convert_chinese_date_format(item[date_key])\n",
    "    return data\n",
    "\n",
    "def save_json(file_path, data):\n",
    "    \"\"\"변환된 JSON 데이터를 저장\"\"\"\n",
    "    with open(file_path, 'w', encoding='utf-8') as file:\n",
    "        json.dump(data, file, ensure_ascii=False, indent=4)\n",
    "\n",
    "# 파일 경로 설정\n",
    "input_file = \"../src/0227_marged1.json\"\n",
    "output_file = \"../src/0227_marged1.json\"\n",
    "\n",
    "# JSON 데이터 불러오기\n",
    "data = load_json(input_file)\n",
    "\n",
    "# 날짜 변환 수행\n",
    "transformed_data = transform_dates_in_json(data, date_key=\"date\")\n",
    "\n",
    "# 결과 저장\n",
    "save_json(output_file, transformed_data)\n",
    "\n",
    "print(f\"날짜 변환 완료! 결과가 {output_file} 파일에 저장되었습니다.\")\n"
   ],
   "id": "4ee6bd3bcb2688db",
   "outputs": [
    {
     "name": "stdout",
     "output_type": "stream",
     "text": [
      "날짜 변환 완료! 결과가 ../src/0227_marged1.json 파일에 저장되었습니다.\n"
     ]
    }
   ],
   "execution_count": 52
  },
  {
   "metadata": {
    "ExecuteTime": {
     "end_time": "2025-02-20T08:04:03.545676Z",
     "start_time": "2025-02-20T08:04:03.533707Z"
    }
   },
   "cell_type": "code",
   "source": [
    "df = df.sort_values(by=[\"date\"])"
   ],
   "id": "af8bf8023d36d576",
   "outputs": [],
   "execution_count": 22
  },
  {
   "metadata": {
    "ExecuteTime": {
     "end_time": "2025-02-20T08:04:58.137829Z",
     "start_time": "2025-02-20T08:04:58.064997Z"
    }
   },
   "cell_type": "code",
   "source": [
    "def save_json(df, file_path):\n",
    "    json_data = json.loads(df.to_json(orient=\"records\", force_ascii=False))\n",
    "    with open(file_path, \"w\", encoding=\"utf-8\") as f:\n",
    "        json.dump(json_data, f, ensure_ascii=False, indent=4)\n",
    "\n",
    "save_json(df, \"../data/final.json\")"
   ],
   "id": "33b61577817ebda2",
   "outputs": [],
   "execution_count": 24
  },
  {
   "metadata": {},
   "cell_type": "markdown",
   "source": [
    "### 분기별 개수"
   ],
   "id": "c133cb564237eae9"
  },
  {
   "metadata": {
    "ExecuteTime": {
     "end_time": "2025-02-27T11:29:56.387760Z",
     "start_time": "2025-02-27T11:29:56.351856Z"
    }
   },
   "cell_type": "code",
   "source": [
    "from collections import defaultdict\n",
    "import os\n",
    "# JSON 파일이 저장된 디렉토리 경로\n",
    "output_dir = \"../data/split_by_year\"\n",
    "\n",
    "# 분기별 데이터 개수 저장 딕셔너리\n",
    "quarterly_counts = defaultdict(int)\n",
    "\n",
    "# 각 JSON 파일에서 데이터 개수 확인\n",
    "for file_name in os.listdir(output_dir):\n",
    "    if file_name.endswith(\".json\"):\n",
    "        year = file_name.replace(\".json\", \"\")  # 파일명에서 연도 추출\n",
    "        file_path = os.path.join(output_dir, file_name)\n",
    "        with open(file_path, \"r\", encoding=\"utf-8\") as f:\n",
    "            data = json.load(f)\n",
    "\n",
    "            # 날짜 필드에서 분기별로 데이터 개수 계산\n",
    "            for entry in data:\n",
    "                if \"date\" in entry:\n",
    "                    try:\n",
    "                        quarter = pd.to_datetime(entry[\"date\"]).to_period(\"Q\")  # 분기 추출\n",
    "                        quarterly_counts[str(quarter)] += 1\n",
    "                    except:\n",
    "                        print(f\"날짜 변환 실패: {entry['date']}\")\n",
    "\n",
    "# 분기별 데이터 개수 출력\n",
    "for quarter, count in sorted(quarterly_counts.items()):\n",
    "    print(f\"{quarter}: {count}개\")"
   ],
   "id": "6457e998591e72b",
   "outputs": [
    {
     "ename": "FileNotFoundError",
     "evalue": "[WinError 3] 지정된 경로를 찾을 수 없습니다: '../data/split_by_year'",
     "output_type": "error",
     "traceback": [
      "\u001B[1;31m---------------------------------------------------------------------------\u001B[0m",
      "\u001B[1;31mFileNotFoundError\u001B[0m                         Traceback (most recent call last)",
      "Cell \u001B[1;32mIn[46], line 10\u001B[0m\n\u001B[0;32m      7\u001B[0m quarterly_counts \u001B[38;5;241m=\u001B[39m defaultdict(\u001B[38;5;28mint\u001B[39m)\n\u001B[0;32m      9\u001B[0m \u001B[38;5;66;03m# 각 JSON 파일에서 데이터 개수 확인\u001B[39;00m\n\u001B[1;32m---> 10\u001B[0m \u001B[38;5;28;01mfor\u001B[39;00m file_name \u001B[38;5;129;01min\u001B[39;00m \u001B[43mos\u001B[49m\u001B[38;5;241;43m.\u001B[39;49m\u001B[43mlistdir\u001B[49m\u001B[43m(\u001B[49m\u001B[43moutput_dir\u001B[49m\u001B[43m)\u001B[49m:\n\u001B[0;32m     11\u001B[0m     \u001B[38;5;28;01mif\u001B[39;00m file_name\u001B[38;5;241m.\u001B[39mendswith(\u001B[38;5;124m\"\u001B[39m\u001B[38;5;124m.json\u001B[39m\u001B[38;5;124m\"\u001B[39m):\n\u001B[0;32m     12\u001B[0m         year \u001B[38;5;241m=\u001B[39m file_name\u001B[38;5;241m.\u001B[39mreplace(\u001B[38;5;124m\"\u001B[39m\u001B[38;5;124m.json\u001B[39m\u001B[38;5;124m\"\u001B[39m, \u001B[38;5;124m\"\u001B[39m\u001B[38;5;124m\"\u001B[39m)  \u001B[38;5;66;03m# 파일명에서 연도 추출\u001B[39;00m\n",
      "\u001B[1;31mFileNotFoundError\u001B[0m: [WinError 3] 지정된 경로를 찾을 수 없습니다: '../data/split_by_year'"
     ]
    }
   ],
   "execution_count": 46
  },
  {
   "metadata": {},
   "cell_type": "markdown",
   "source": [
    "### 연도별 개수"
   ],
   "id": "c827e2225333686c"
  },
  {
   "metadata": {
    "ExecuteTime": {
     "end_time": "2025-02-27T11:29:41.738827Z",
     "start_time": "2025-02-27T11:29:41.672045Z"
    }
   },
   "cell_type": "code",
   "source": [
    "# 연도별 데이터 개수 저장 딕셔너리\n",
    "yearly_counts = defaultdict(int)\n",
    "\n",
    "# 각 JSON 파일에서 데이터 개수 확인\n",
    "for file_name in os.listdir(output_dir):\n",
    "    if file_name.endswith(\".json\"):\n",
    "        year = file_name.replace(\".json\", \"\")  # 파일명에서 연도 추출\n",
    "        file_path = os.path.join(output_dir, file_name)\n",
    "        with open(file_path, \"r\", encoding=\"utf-8\") as f:\n",
    "            data = json.load(f)\n",
    "            yearly_counts[year] = len(data)\n",
    "\n",
    "# 연도별 데이터 개수 출력\n",
    "for year, count in sorted(yearly_counts.items()):\n",
    "    print(f\"{year}: {count}개\")"
   ],
   "id": "119e50b7d85089e5",
   "outputs": [
    {
     "ename": "NameError",
     "evalue": "name 'defaultdict' is not defined",
     "output_type": "error",
     "traceback": [
      "\u001B[1;31m---------------------------------------------------------------------------\u001B[0m",
      "\u001B[1;31mNameError\u001B[0m                                 Traceback (most recent call last)",
      "Cell \u001B[1;32mIn[45], line 2\u001B[0m\n\u001B[0;32m      1\u001B[0m \u001B[38;5;66;03m# 연도별 데이터 개수 저장 딕셔너리\u001B[39;00m\n\u001B[1;32m----> 2\u001B[0m yearly_counts \u001B[38;5;241m=\u001B[39m \u001B[43mdefaultdict\u001B[49m(\u001B[38;5;28mint\u001B[39m)\n\u001B[0;32m      4\u001B[0m \u001B[38;5;66;03m# 각 JSON 파일에서 데이터 개수 확인\u001B[39;00m\n\u001B[0;32m      5\u001B[0m \u001B[38;5;28;01mfor\u001B[39;00m file_name \u001B[38;5;129;01min\u001B[39;00m os\u001B[38;5;241m.\u001B[39mlistdir(output_dir):\n",
      "\u001B[1;31mNameError\u001B[0m: name 'defaultdict' is not defined"
     ]
    }
   ],
   "execution_count": 45
  },
  {
   "metadata": {},
   "cell_type": "markdown",
   "source": [
    "### 토큰 수"
   ],
   "id": "49cd4cf8777666b7"
  },
  {
   "metadata": {
    "ExecuteTime": {
     "end_time": "2025-02-24T05:31:54.411448Z",
     "start_time": "2025-02-24T05:31:53.602612Z"
    }
   },
   "cell_type": "code",
   "source": [
    "import tiktoken\n",
    "\n",
    "# JSON 파일 불러오기\n",
    "with open(\"../data/final.json\", \"r\", encoding=\"utf-8\") as f:\n",
    "    data = json.load(f)\n",
    "\n",
    "# JSON을 DataFrame으로 변환\n",
    "df = pd.DataFrame(data)\n",
    "\n",
    "# OpenAI GPT-3.5 토크나이저 로드\n",
    "enc = tiktoken.encoding_for_model(\"gpt-3.5-turbo\")\n",
    "\n",
    "# 'sentences' 컬럼과 'filtered_sentences' 컬럼의 토큰 수 계산\n",
    "df[\"sentences_token_count\"] = df[\"sentences\"].apply(lambda x: sum(len(enc.encode(sentence)) for sentence in x) if isinstance(x, list) else 0)\n",
    "df[\"filtered_sentences_token_count\"] = df[\"filtered_sentences\"].apply(lambda x: sum(len(enc.encode(sentence)) for sentence in x) if isinstance(x, list) else 0)\n",
    "\n",
    "# 결과 출력\n",
    "print(df[[\"sentences_token_count\", \"filtered_sentences_token_count\"]])\n"
   ],
   "id": "4a23df9162d4882b",
   "outputs": [
    {
     "name": "stdout",
     "output_type": "stream",
     "text": [
      "     sentences_token_count  filtered_sentences_token_count\n",
      "0                      590                              64\n",
      "1                     1215                              56\n",
      "2                     2826                             333\n",
      "3                     2843                             326\n",
      "4                     1328                              54\n",
      "..                     ...                             ...\n",
      "836                    380                              71\n",
      "837                    370                              71\n",
      "838                    380                              71\n",
      "839                    390                              38\n",
      "840                   2112                              79\n",
      "\n",
      "[841 rows x 2 columns]\n"
     ]
    }
   ],
   "execution_count": 31
  },
  {
   "metadata": {
    "ExecuteTime": {
     "end_time": "2025-02-25T08:33:48.268797Z",
     "start_time": "2025-02-25T08:33:48.232894Z"
    }
   },
   "cell_type": "code",
   "source": [
    "print(df[[\"sentences_token_count\", \"filtered_sentences_token_count\",\"num_sentences\"]].describe())"
   ],
   "id": "45b9889a58c4d88c",
   "outputs": [
    {
     "name": "stdout",
     "output_type": "stream",
     "text": [
      "       sentences_token_count  filtered_sentences_token_count  num_sentences\n",
      "count             841.000000                      841.000000     841.000000\n",
      "mean             1654.387634                      161.021403      28.346017\n",
      "std              1392.411530                      195.585853      25.573012\n",
      "min                 0.000000                        0.000000       0.000000\n",
      "25%               738.000000                       55.000000      13.000000\n",
      "50%              1465.000000                      102.000000      24.000000\n",
      "75%              2127.000000                      193.000000      37.000000\n",
      "max             20338.000000                     1635.000000     363.000000\n"
     ]
    }
   ],
   "execution_count": 34
  },
  {
   "metadata": {
    "ExecuteTime": {
     "end_time": "2025-02-27T11:35:44.859872Z",
     "start_time": "2025-02-27T11:35:44.824939Z"
    }
   },
   "cell_type": "code",
   "source": [
    "df"
   ],
   "id": "4591c40fd9a284e5",
   "outputs": [
    {
     "data": {
      "text/plain": [
       "                                title  \\\n",
       "0                        朝鲜试射导弹亚太骤起波澜   \n",
       "1                            美朝关系开始解冻   \n",
       "2          美日韩间谍云集朝鲜周边空中侦察地面窃听 - 国际经济   \n",
       "3                美日韩紧盯朝鲜射导弹(图) - 国际经济   \n",
       "4                     美国朝鲜问题特使称美愿与朝对话   \n",
       "...                               ...   \n",
       "1092            詹德斌：韩国政局变动，美国要做的不应是施压   \n",
       "1093               朝鲜谴责美韩军事挑衅导致地区局势恶化   \n",
       "1094    朝鲜外务省：美韩军事挑衅行为导致地区局势恶化 - 国际频道   \n",
       "1095  石破茂与特朗普会面，美日“小集团”谋划“大算盘” | 国际识局   \n",
       "1096             外交部批驳美日韩涉台、涉南海问题消极表态   \n",
       "\n",
       "                                                   link        date  \\\n",
       "0     https://www.gmw.cn/01gmrb/2006-07/12/content_4...  2006-07-12   \n",
       "1     https://www.gmw.cn/01gmrb/2007-03/08/content_5...  2007-03-08   \n",
       "2     http://intl.ce.cn/zj/200809/19/t20080919_16855...  2008-09-19   \n",
       "3     http://intl.ce.cn/zj/200902/11/t20090211_18171...  2009-02-11   \n",
       "4         https://world.huanqiu.com/article/9CaKrnJlEWs  2009-03-07   \n",
       "...                                                 ...         ...   \n",
       "1092  https://hqtime.huanqiu.com/share/article/4Ky1A...  2025-01-07   \n",
       "1093  http://www.xinhuanet.com/20250126/55a39b230ccf...  2025-01-26   \n",
       "1094  https://world.gmw.cn/2025-01/26/content_378203...  2025-01-26   \n",
       "1095  http://intl.ce.cn/qqss/202502/09/t20250209_392...  2025-02-09   \n",
       "1096  https://www.xinhuanet.com/world/20250217/8c936...  2025-02-17   \n",
       "\n",
       "                                                content source quarter  \\\n",
       "0     7月5日，朝鲜连续发射7枚导弹，引起国际社会震惊。近日，美日在安理会积极推动制裁朝鲜的议案，...    光明网  2006Q3   \n",
       "1     被外界视为“破冰之旅”的朝鲜副外相金桂冠3月5至6日在纽约与美国助理国务卿希尔就两国关系正常...    光明网  2007Q1   \n",
       "2     神秘，这是朝鲜留给外界的印象。 正因为神秘，一些国家的情报机构费尽心机，通过投放卫星、派遣侦...  中国经济网  2008Q3   \n",
       "3     改进型“大浦洞2号”据说可攻击美本土，甚至可能具有搭载核弹头技术 朝鲜政府最近频繁发出朝韩关...  中国经济网  2009Q1   \n",
       "4     新华网首尔3月7日电 (记者李拯宇 干玉兰) 美国朝鲜问题特使斯蒂芬·博斯沃思7日在韩国说，...    NaN  2009Q1   \n",
       "...                                                 ...    ...     ...   \n",
       "1092  美国国务卿布林肯1月5日抵达韩国。这看上去似乎是一次礼仪性道别之旅，但防止韩国“后弹劾政局”...    环球网  2025Q1   \n",
       "1093  新华社首尔1月26日电 据朝中社26日报道，朝鲜外务省对外政策室长当天发表谈话，谴责美韩近期...    新华网  2025Q1   \n",
       "1094  中新网1月26日电据朝中社报道，当地时间1月26日，朝鲜外务省对外政策室长发表谈话，谴责美韩...    光明网  2025Q1   \n",
       "1095  中新网2月9日电(记者 孟湘君)特朗普当选新一任美国总统后，意大利、以色列等国领导人先后与其...  中国经济网  2025Q1   \n",
       "1096  新华社北京2月17日电（马卓言、孙素颖）针对美日韩外长近日在德国慕尼黑举行会晤，三国在联合声...    新华网  2025Q1   \n",
       "\n",
       "                                        cleaned_content  \\\n",
       "0     7月5日朝鲜连续发射7枚导弹引起国际社会震惊。近日美日在安理会积极推动制裁朝鲜的议案并加紧协...   \n",
       "1     被外界视为破冰之旅的朝鲜副外相金桂冠3月5至6日在纽约与美国助理国务卿希尔就两国关系正常化进...   \n",
       "2     神秘这是朝鲜留给外界的印象。 正因为神秘一些国家的情报机构费尽心机通过投放卫星派遣侦察机甚至...   \n",
       "3     改进型大浦洞2号据说可攻击美本土甚至可能具有搭载核弹头技术 朝鲜政府最近频繁发出朝韩关系恶化...   \n",
       "4     新华网首尔3月7日电 记者李拯宇 干玉兰 美国朝鲜问题特使斯蒂芬博斯沃思7日在韩国说美国愿意...   \n",
       "...                                                 ...   \n",
       "1092  美国国务卿布林肯1月5日抵达韩国。这看上去似乎是一次礼仪性道别之旅但防止韩国后弹劾政局对美韩...   \n",
       "1093  新华社首尔1月26日电 据朝中社26日报道朝鲜外务省对外政策室长当天发表谈话谴责美韩近期对朝...   \n",
       "1094  中新网1月26日电据朝中社报道当地时间1月26日朝鲜外务省对外政策室长发表谈话谴责美韩近期对...   \n",
       "1095  中新网2月9日电记者 孟湘君特朗普当选新一任美国总统后意大利以色列等国领导人先后与其会面。近...   \n",
       "1096  新华社北京2月17日电马卓言孙素颖针对美日韩外长近日在德国慕尼黑举行会晤三国在联合声明中发表...   \n",
       "\n",
       "                                              sentences  \\\n",
       "0     [7月5日朝鲜连续发射7枚导弹引起国际社会震惊。, 近日美日在安理会积极推动制裁朝鲜的议案并...   \n",
       "1     [被外界视为破冰之旅的朝鲜副外相金桂冠3月5至6日在纽约与美国助理国务卿希尔就两国关系正常化...   \n",
       "2     [神秘这是朝鲜留给外界的印象。, 正因为神秘一些国家的情报机构费尽心机通过投放卫星派遣侦察机...   \n",
       "3     [改进型大浦洞2号据说可攻击美本土甚至可能具有搭载核弹头技术 朝鲜政府最近频繁发出朝韩关系恶...   \n",
       "4     [新华网首尔3月7日电 记者李拯宇 干玉兰 美国朝鲜问题特使斯蒂芬博斯沃思7日在韩国说美国愿...   \n",
       "...                                                 ...   \n",
       "1092  [美国国务卿布林肯1月5日抵达韩国。, 这看上去似乎是一次礼仪性道别之旅但防止韩国后弹劾政局...   \n",
       "1093  [新华社首尔1月26日电 据朝中社26日报道朝鲜外务省对外政策室长当天发表谈话谴责美韩近期对...   \n",
       "1094  [中新网1月26日电据朝中社报道当地时间1月26日朝鲜外务省对外政策室长发表谈话谴责美韩近期...   \n",
       "1095  [中新网2月9日电记者 孟湘君特朗普当选新一任美国总统后意大利以色列等国领导人先后与其会面。...   \n",
       "1096  [新华社北京2月17日电马卓言孙素颖针对美日韩外长近日在德国慕尼黑举行会晤三国在联合声明中发...   \n",
       "\n",
       "                                     filtered_sentences  \\\n",
       "0           [朝鲜发射导弹后美日韩澳俄英法等国纷纷发表声明称朝鲜此举是挑衅行为破坏了亚太的稳定。]   \n",
       "1      [另一方面在朝鲜近期对美日韩等国及国际原子能机构所采取的一系列外交攻势下美国的态度也有所变化。]   \n",
       "2     [美日韩编织谍报大网 朝鲜地缘位置敏感环境又相对封闭以至朝鲜许多本应正常公开的信息都成为这些...   \n",
       "3     [一直在密切注意朝鲜动向的美日韩三国政府近日搜集到朝鲜可能发射远程导弹的情报这可急坏了三国的...   \n",
       "4                                                    []   \n",
       "...                                                 ...   \n",
       "1092  [这看上去似乎是一次礼仪性道别之旅但防止韩国后弹劾政局对美韩同盟美日韩合作造成负面影响无疑也...   \n",
       "1093  [谈话说美韩近期针对朝鲜进行联合空中训练联合大火力战演习年初还在战略轰炸机参与下启动美日韩联...   \n",
       "1094                  [2025年年初还在战略轰炸机参与下启动美日韩三方联合空中训练。]   \n",
       "1095  [如继续深化日美同盟关系继续推进美日印澳美日韩美日澳美日菲等小集团的合作以及继续推进落实自由...   \n",
       "1096  [新华社北京2月17日电马卓言孙素颖针对美日韩外长近日在德国慕尼黑举行会晤三国在联合声明中发...   \n",
       "\n",
       "      num_filtered_sentences  num_sentences     ratio  \n",
       "0                          1             15  0.066667  \n",
       "1                          1             20  0.050000  \n",
       "2                          6             52  0.115385  \n",
       "3                          6             50  0.120000  \n",
       "4                          0              3  0.000000  \n",
       "...                      ...            ...       ...  \n",
       "1092                       6             31  0.193548  \n",
       "1093                       1              7  0.142857  \n",
       "1094                       1              8  0.125000  \n",
       "1095                       1             38  0.026316  \n",
       "1096                       1              8  0.125000  \n",
       "\n",
       "[1097 rows x 12 columns]"
      ],
      "text/html": [
       "<div>\n",
       "<style scoped>\n",
       "    .dataframe tbody tr th:only-of-type {\n",
       "        vertical-align: middle;\n",
       "    }\n",
       "\n",
       "    .dataframe tbody tr th {\n",
       "        vertical-align: top;\n",
       "    }\n",
       "\n",
       "    .dataframe thead th {\n",
       "        text-align: right;\n",
       "    }\n",
       "</style>\n",
       "<table border=\"1\" class=\"dataframe\">\n",
       "  <thead>\n",
       "    <tr style=\"text-align: right;\">\n",
       "      <th></th>\n",
       "      <th>title</th>\n",
       "      <th>link</th>\n",
       "      <th>date</th>\n",
       "      <th>content</th>\n",
       "      <th>source</th>\n",
       "      <th>quarter</th>\n",
       "      <th>cleaned_content</th>\n",
       "      <th>sentences</th>\n",
       "      <th>filtered_sentences</th>\n",
       "      <th>num_filtered_sentences</th>\n",
       "      <th>num_sentences</th>\n",
       "      <th>ratio</th>\n",
       "    </tr>\n",
       "  </thead>\n",
       "  <tbody>\n",
       "    <tr>\n",
       "      <th>0</th>\n",
       "      <td>朝鲜试射导弹亚太骤起波澜</td>\n",
       "      <td>https://www.gmw.cn/01gmrb/2006-07/12/content_4...</td>\n",
       "      <td>2006-07-12</td>\n",
       "      <td>7月5日，朝鲜连续发射7枚导弹，引起国际社会震惊。近日，美日在安理会积极推动制裁朝鲜的议案，...</td>\n",
       "      <td>光明网</td>\n",
       "      <td>2006Q3</td>\n",
       "      <td>7月5日朝鲜连续发射7枚导弹引起国际社会震惊。近日美日在安理会积极推动制裁朝鲜的议案并加紧协...</td>\n",
       "      <td>[7月5日朝鲜连续发射7枚导弹引起国际社会震惊。, 近日美日在安理会积极推动制裁朝鲜的议案并...</td>\n",
       "      <td>[朝鲜发射导弹后美日韩澳俄英法等国纷纷发表声明称朝鲜此举是挑衅行为破坏了亚太的稳定。]</td>\n",
       "      <td>1</td>\n",
       "      <td>15</td>\n",
       "      <td>0.066667</td>\n",
       "    </tr>\n",
       "    <tr>\n",
       "      <th>1</th>\n",
       "      <td>美朝关系开始解冻</td>\n",
       "      <td>https://www.gmw.cn/01gmrb/2007-03/08/content_5...</td>\n",
       "      <td>2007-03-08</td>\n",
       "      <td>被外界视为“破冰之旅”的朝鲜副外相金桂冠3月5至6日在纽约与美国助理国务卿希尔就两国关系正常...</td>\n",
       "      <td>光明网</td>\n",
       "      <td>2007Q1</td>\n",
       "      <td>被外界视为破冰之旅的朝鲜副外相金桂冠3月5至6日在纽约与美国助理国务卿希尔就两国关系正常化进...</td>\n",
       "      <td>[被外界视为破冰之旅的朝鲜副外相金桂冠3月5至6日在纽约与美国助理国务卿希尔就两国关系正常化...</td>\n",
       "      <td>[另一方面在朝鲜近期对美日韩等国及国际原子能机构所采取的一系列外交攻势下美国的态度也有所变化。]</td>\n",
       "      <td>1</td>\n",
       "      <td>20</td>\n",
       "      <td>0.050000</td>\n",
       "    </tr>\n",
       "    <tr>\n",
       "      <th>2</th>\n",
       "      <td>美日韩间谍云集朝鲜周边空中侦察地面窃听 - 国际经济</td>\n",
       "      <td>http://intl.ce.cn/zj/200809/19/t20080919_16855...</td>\n",
       "      <td>2008-09-19</td>\n",
       "      <td>神秘，这是朝鲜留给外界的印象。 正因为神秘，一些国家的情报机构费尽心机，通过投放卫星、派遣侦...</td>\n",
       "      <td>中国经济网</td>\n",
       "      <td>2008Q3</td>\n",
       "      <td>神秘这是朝鲜留给外界的印象。 正因为神秘一些国家的情报机构费尽心机通过投放卫星派遣侦察机甚至...</td>\n",
       "      <td>[神秘这是朝鲜留给外界的印象。, 正因为神秘一些国家的情报机构费尽心机通过投放卫星派遣侦察机...</td>\n",
       "      <td>[美日韩编织谍报大网 朝鲜地缘位置敏感环境又相对封闭以至朝鲜许多本应正常公开的信息都成为这些...</td>\n",
       "      <td>6</td>\n",
       "      <td>52</td>\n",
       "      <td>0.115385</td>\n",
       "    </tr>\n",
       "    <tr>\n",
       "      <th>3</th>\n",
       "      <td>美日韩紧盯朝鲜射导弹(图) - 国际经济</td>\n",
       "      <td>http://intl.ce.cn/zj/200902/11/t20090211_18171...</td>\n",
       "      <td>2009-02-11</td>\n",
       "      <td>改进型“大浦洞2号”据说可攻击美本土，甚至可能具有搭载核弹头技术 朝鲜政府最近频繁发出朝韩关...</td>\n",
       "      <td>中国经济网</td>\n",
       "      <td>2009Q1</td>\n",
       "      <td>改进型大浦洞2号据说可攻击美本土甚至可能具有搭载核弹头技术 朝鲜政府最近频繁发出朝韩关系恶化...</td>\n",
       "      <td>[改进型大浦洞2号据说可攻击美本土甚至可能具有搭载核弹头技术 朝鲜政府最近频繁发出朝韩关系恶...</td>\n",
       "      <td>[一直在密切注意朝鲜动向的美日韩三国政府近日搜集到朝鲜可能发射远程导弹的情报这可急坏了三国的...</td>\n",
       "      <td>6</td>\n",
       "      <td>50</td>\n",
       "      <td>0.120000</td>\n",
       "    </tr>\n",
       "    <tr>\n",
       "      <th>4</th>\n",
       "      <td>美国朝鲜问题特使称美愿与朝对话</td>\n",
       "      <td>https://world.huanqiu.com/article/9CaKrnJlEWs</td>\n",
       "      <td>2009-03-07</td>\n",
       "      <td>新华网首尔3月7日电 (记者李拯宇 干玉兰) 美国朝鲜问题特使斯蒂芬·博斯沃思7日在韩国说，...</td>\n",
       "      <td>NaN</td>\n",
       "      <td>2009Q1</td>\n",
       "      <td>新华网首尔3月7日电 记者李拯宇 干玉兰 美国朝鲜问题特使斯蒂芬博斯沃思7日在韩国说美国愿意...</td>\n",
       "      <td>[新华网首尔3月7日电 记者李拯宇 干玉兰 美国朝鲜问题特使斯蒂芬博斯沃思7日在韩国说美国愿...</td>\n",
       "      <td>[]</td>\n",
       "      <td>0</td>\n",
       "      <td>3</td>\n",
       "      <td>0.000000</td>\n",
       "    </tr>\n",
       "    <tr>\n",
       "      <th>...</th>\n",
       "      <td>...</td>\n",
       "      <td>...</td>\n",
       "      <td>...</td>\n",
       "      <td>...</td>\n",
       "      <td>...</td>\n",
       "      <td>...</td>\n",
       "      <td>...</td>\n",
       "      <td>...</td>\n",
       "      <td>...</td>\n",
       "      <td>...</td>\n",
       "      <td>...</td>\n",
       "      <td>...</td>\n",
       "    </tr>\n",
       "    <tr>\n",
       "      <th>1092</th>\n",
       "      <td>詹德斌：韩国政局变动，美国要做的不应是施压</td>\n",
       "      <td>https://hqtime.huanqiu.com/share/article/4Ky1A...</td>\n",
       "      <td>2025-01-07</td>\n",
       "      <td>美国国务卿布林肯1月5日抵达韩国。这看上去似乎是一次礼仪性道别之旅，但防止韩国“后弹劾政局”...</td>\n",
       "      <td>环球网</td>\n",
       "      <td>2025Q1</td>\n",
       "      <td>美国国务卿布林肯1月5日抵达韩国。这看上去似乎是一次礼仪性道别之旅但防止韩国后弹劾政局对美韩...</td>\n",
       "      <td>[美国国务卿布林肯1月5日抵达韩国。, 这看上去似乎是一次礼仪性道别之旅但防止韩国后弹劾政局...</td>\n",
       "      <td>[这看上去似乎是一次礼仪性道别之旅但防止韩国后弹劾政局对美韩同盟美日韩合作造成负面影响无疑也...</td>\n",
       "      <td>6</td>\n",
       "      <td>31</td>\n",
       "      <td>0.193548</td>\n",
       "    </tr>\n",
       "    <tr>\n",
       "      <th>1093</th>\n",
       "      <td>朝鲜谴责美韩军事挑衅导致地区局势恶化</td>\n",
       "      <td>http://www.xinhuanet.com/20250126/55a39b230ccf...</td>\n",
       "      <td>2025-01-26</td>\n",
       "      <td>新华社首尔1月26日电 据朝中社26日报道，朝鲜外务省对外政策室长当天发表谈话，谴责美韩近期...</td>\n",
       "      <td>新华网</td>\n",
       "      <td>2025Q1</td>\n",
       "      <td>新华社首尔1月26日电 据朝中社26日报道朝鲜外务省对外政策室长当天发表谈话谴责美韩近期对朝...</td>\n",
       "      <td>[新华社首尔1月26日电 据朝中社26日报道朝鲜外务省对外政策室长当天发表谈话谴责美韩近期对...</td>\n",
       "      <td>[谈话说美韩近期针对朝鲜进行联合空中训练联合大火力战演习年初还在战略轰炸机参与下启动美日韩联...</td>\n",
       "      <td>1</td>\n",
       "      <td>7</td>\n",
       "      <td>0.142857</td>\n",
       "    </tr>\n",
       "    <tr>\n",
       "      <th>1094</th>\n",
       "      <td>朝鲜外务省：美韩军事挑衅行为导致地区局势恶化 - 国际频道</td>\n",
       "      <td>https://world.gmw.cn/2025-01/26/content_378203...</td>\n",
       "      <td>2025-01-26</td>\n",
       "      <td>中新网1月26日电据朝中社报道，当地时间1月26日，朝鲜外务省对外政策室长发表谈话，谴责美韩...</td>\n",
       "      <td>光明网</td>\n",
       "      <td>2025Q1</td>\n",
       "      <td>中新网1月26日电据朝中社报道当地时间1月26日朝鲜外务省对外政策室长发表谈话谴责美韩近期对...</td>\n",
       "      <td>[中新网1月26日电据朝中社报道当地时间1月26日朝鲜外务省对外政策室长发表谈话谴责美韩近期...</td>\n",
       "      <td>[2025年年初还在战略轰炸机参与下启动美日韩三方联合空中训练。]</td>\n",
       "      <td>1</td>\n",
       "      <td>8</td>\n",
       "      <td>0.125000</td>\n",
       "    </tr>\n",
       "    <tr>\n",
       "      <th>1095</th>\n",
       "      <td>石破茂与特朗普会面，美日“小集团”谋划“大算盘” | 国际识局</td>\n",
       "      <td>http://intl.ce.cn/qqss/202502/09/t20250209_392...</td>\n",
       "      <td>2025-02-09</td>\n",
       "      <td>中新网2月9日电(记者 孟湘君)特朗普当选新一任美国总统后，意大利、以色列等国领导人先后与其...</td>\n",
       "      <td>中国经济网</td>\n",
       "      <td>2025Q1</td>\n",
       "      <td>中新网2月9日电记者 孟湘君特朗普当选新一任美国总统后意大利以色列等国领导人先后与其会面。近...</td>\n",
       "      <td>[中新网2月9日电记者 孟湘君特朗普当选新一任美国总统后意大利以色列等国领导人先后与其会面。...</td>\n",
       "      <td>[如继续深化日美同盟关系继续推进美日印澳美日韩美日澳美日菲等小集团的合作以及继续推进落实自由...</td>\n",
       "      <td>1</td>\n",
       "      <td>38</td>\n",
       "      <td>0.026316</td>\n",
       "    </tr>\n",
       "    <tr>\n",
       "      <th>1096</th>\n",
       "      <td>外交部批驳美日韩涉台、涉南海问题消极表态</td>\n",
       "      <td>https://www.xinhuanet.com/world/20250217/8c936...</td>\n",
       "      <td>2025-02-17</td>\n",
       "      <td>新华社北京2月17日电（马卓言、孙素颖）针对美日韩外长近日在德国慕尼黑举行会晤，三国在联合声...</td>\n",
       "      <td>新华网</td>\n",
       "      <td>2025Q1</td>\n",
       "      <td>新华社北京2月17日电马卓言孙素颖针对美日韩外长近日在德国慕尼黑举行会晤三国在联合声明中发表...</td>\n",
       "      <td>[新华社北京2月17日电马卓言孙素颖针对美日韩外长近日在德国慕尼黑举行会晤三国在联合声明中发...</td>\n",
       "      <td>[新华社北京2月17日电马卓言孙素颖针对美日韩外长近日在德国慕尼黑举行会晤三国在联合声明中发...</td>\n",
       "      <td>1</td>\n",
       "      <td>8</td>\n",
       "      <td>0.125000</td>\n",
       "    </tr>\n",
       "  </tbody>\n",
       "</table>\n",
       "<p>1097 rows × 12 columns</p>\n",
       "</div>"
      ]
     },
     "execution_count": 53,
     "metadata": {},
     "output_type": "execute_result"
    }
   ],
   "execution_count": 53
  },
  {
   "metadata": {
    "ExecuteTime": {
     "end_time": "2025-03-07T11:02:38.955367Z",
     "start_time": "2025-03-07T11:02:38.927442Z"
    }
   },
   "cell_type": "code",
   "source": [
    "# 연도 컬럼 생성 (YYYY-MM-DD에서 연도 추출)\n",
    "df[\"year\"] = df[\"date\"].str[:4]  # 앞 4자리(연도) 추출\n",
    "\n",
    "# 연도별 기사 개수 집계\n",
    "yearly_counts = df[\"year\"].value_counts().reset_index()\n",
    "yearly_counts.columns = [\"year\", \"count\"]\n",
    "\n",
    "# 연도별 기사 개수 집계\n",
    "quarter_counts = df[\"quarter\"].value_counts().reset_index()\n",
    "quarter_counts.columns = [\"quarter\", \"count\"]\n",
    "\n",
    "# 언론사별 기사 개수 집계\n",
    "source_counts = df[\"source\"].value_counts().reset_index()\n",
    "source_counts.columns = [\"source\", \"count\"]\n",
    "\n",
    "# 결과 출력\n",
    "print(\"✅ 연도별 기사 개수:\")\n",
    "print(yearly_counts)\n",
    "\n",
    "print(\"\\n✅ 언론사별 기사 개수:\")\n",
    "print(source_counts)\n",
    "\n",
    "print(\"\\n✅ 분기별 기사 개수:\")\n",
    "print(quarter_counts)"
   ],
   "id": "ae92fe3051ee1379",
   "outputs": [
    {
     "name": "stdout",
     "output_type": "stream",
     "text": [
      "✅ 연도별 기사 개수:\n",
      "    year  count\n",
      "0   2023    232\n",
      "1   2016    142\n",
      "2   2024    113\n",
      "3   2017     81\n",
      "4   2013     72\n",
      "5   2014     72\n",
      "6   2019     70\n",
      "7   2015     69\n",
      "8   2012     48\n",
      "9   2022     40\n",
      "10  2021     32\n",
      "11  2018     17\n",
      "12  2009     11\n",
      "13  2010     11\n",
      "14  2020     11\n",
      "15  2011      9\n",
      "16  2025      6\n",
      "17  2007      1\n",
      "18  2008      1\n",
      "19  2006      1\n",
      "\n",
      "✅ 언론사별 기사 개수:\n",
      "  source  count\n",
      "0    环球网    448\n",
      "1    新华网    227\n",
      "2    人民网    177\n",
      "3   中国军网     86\n",
      "4  中国经济网     55\n",
      "5    光明网     46\n",
      "\n",
      "✅ 분기별 기사 개수:\n",
      "   quarter  count\n",
      "0   2023Q3    117\n",
      "1   2016Q3     55\n",
      "2   2023Q2     47\n",
      "3   2024Q2     47\n",
      "4   2016Q1     44\n",
      "..     ...    ...\n",
      "59  2018Q4      1\n",
      "60  2020Q4      1\n",
      "61  2011Q3      1\n",
      "62  2007Q1      1\n",
      "63  2006Q3      1\n",
      "\n",
      "[64 rows x 2 columns]\n"
     ]
    }
   ],
   "execution_count": 6
  },
  {
   "metadata": {
    "ExecuteTime": {
     "end_time": "2025-03-12T07:51:15.639247Z",
     "start_time": "2025-03-12T07:51:15.417171Z"
    }
   },
   "cell_type": "code",
   "outputs": [
    {
     "ename": "NameError",
     "evalue": "name 'quarter_counts' is not defined",
     "output_type": "error",
     "traceback": [
      "\u001B[0;31m---------------------------------------------------------------------------\u001B[0m",
      "\u001B[0;31mNameError\u001B[0m                                 Traceback (most recent call last)",
      "Cell \u001B[0;32mIn[1], line 1\u001B[0m\n\u001B[0;32m----> 1\u001B[0m \u001B[43mquarter_counts\u001B[49m\n",
      "\u001B[0;31mNameError\u001B[0m: name 'quarter_counts' is not defined"
     ]
    }
   ],
   "execution_count": 1,
   "source": [
    "quarter_counts"
   ],
   "id": "66c974cc65162ab6"
  },
  {
   "cell_type": "code",
   "outputs": [],
   "source": [],
   "metadata": {
    "collapsed": false
   },
   "id": "70e0d5de9e17fb6e"
  }
 ],
 "metadata": {
  "kernelspec": {
   "display_name": "Python 3",
   "language": "python",
   "name": "python3"
  },
  "language_info": {
   "codemirror_mode": {
    "name": "ipython",
    "version": 2
   },
   "file_extension": ".py",
   "mimetype": "text/x-python",
   "name": "python",
   "nbconvert_exporter": "python",
   "pygments_lexer": "ipython2",
   "version": "2.7.6"
  }
 },
 "nbformat": 4,
 "nbformat_minor": 5
}
