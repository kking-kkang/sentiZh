{
 "cells": [
  {
   "metadata": {},
   "cell_type": "markdown",
   "source": "##  감성체인 생성",
   "id": "ee2a467c8072179c"
  },
  {
   "metadata": {
    "collapsed": true,
    "ExecuteTime": {
     "end_time": "2025-03-06T01:49:14.201456Z",
     "start_time": "2025-03-06T01:49:14.142329Z"
    }
   },
   "cell_type": "code",
   "source": [
    "import os\n",
    "import time\n",
    "from dotenv import load_dotenv\n",
    "from langchain_openai import ChatOpenAI\n",
    "from langchain.prompts import PromptTemplate\n",
    "from concurrent.futures import ThreadPoolExecutor, as_completed\n",
    "from langchain.chains import LLMChain  # LLMChain을 사용하여 Chain을 구성합니다\n",
    "import logging"
   ],
   "id": "initial_id",
   "outputs": [],
   "execution_count": 16
  },
  {
   "metadata": {
    "ExecuteTime": {
     "end_time": "2025-03-06T01:39:59.084119Z",
     "start_time": "2025-03-06T01:39:59.072151Z"
    }
   },
   "cell_type": "code",
   "source": [
    "# 로깅 설정\n",
    "logging.basicConfig(level=logging.INFO, format='%(asctime)s - %(levelname)s - %(message)s')\n",
    "logger = logging.getLogger()"
   ],
   "id": "c190c2b81ad05c31",
   "outputs": [],
   "execution_count": 4
  },
  {
   "metadata": {
    "ExecuteTime": {
     "end_time": "2025-03-06T01:40:00.123033Z",
     "start_time": "2025-03-06T01:40:00.020874Z"
    }
   },
   "cell_type": "code",
   "source": [
    "load_dotenv()\n",
    "api_key = os.getenv(\"OPENAI_API_KEY\")\n",
    "\n",
    "# OpenAI LLM 모델 설정\n",
    "llm = ChatOpenAI(openai_api_key=api_key, model_name=\"gpt-4-turbo-preview\", temperature=0.3)\n",
    "\n",
    "# 감성 분석 기본 프롬프트\n",
    "prompt_template = PromptTemplate.from_template(\n",
    "    \"\"\"你是一名中国社会科学家，你的任务是分析中国新闻报道，进行中国媒体对关于“美日韩”三边关系的报道文章的情感分析，**请在分析时务必考虑文章的整体文脉和背景**。\n",
    "\n",
    "    **评分标准**：\n",
    "    - 强烈负面 (-5): 极端消极\n",
    "    - 负面 (-3 ~ -4): 较为消极\n",
    "    - 轻微负面 (-1 ~ -2): 略微消极\n",
    "    - 中立 (0): 纯粹的事实陈述，不带有任何情感倾向。\n",
    "    - 轻微正面 (+1 ~ +2): 略微积极\n",
    "    - 正面 (+3 ~ +4): 较为积极\n",
    "    - 强烈正面 (+5): 极端积极\n",
    "\n",
    "    **请严格分析以下新闻文章的所有句子，并为每个句子提供一个情感分数。所有提供的句子都必须进行情感分析，不得遗漏任何句子**。\n",
    "    **新闻文章的标题:** {title}\n",
    "    **新闻文章的句子列表:**\n",
    "    {sentences}\n",
    "    **在情感难以明确分类的情况下，请提供您对情感评分的最佳估计，并仅以数字形式返回。**\n",
    "    \"\"\"\n",
    ")"
   ],
   "id": "4dc15629ba0cfd45",
   "outputs": [],
   "execution_count": 5
  },
  {
   "metadata": {
    "ExecuteTime": {
     "end_time": "2025-03-06T01:49:16.530944Z",
     "start_time": "2025-03-06T01:49:16.521964Z"
    }
   },
   "cell_type": "code",
   "source": [
    "# 체인 구성\n",
    "sentiment_chain = LLMChain(prompt=prompt_template, llm=llm)"
   ],
   "id": "1f877161297ba8c",
   "outputs": [
    {
     "name": "stderr",
     "output_type": "stream",
     "text": [
      "C:\\Users\\82104\\AppData\\Local\\Temp\\ipykernel_23936\\1462471065.py:2: LangChainDeprecationWarning: The class `LLMChain` was deprecated in LangChain 0.1.17 and will be removed in 1.0. Use :meth:`~RunnableSequence, e.g., `prompt | llm`` instead.\n",
      "  sentiment_chain = LLMChain(prompt=prompt_template, llm=llm)\n"
     ]
    }
   ],
   "execution_count": 17
  },
  {
   "metadata": {},
   "cell_type": "markdown",
   "source": "## 데이터 로드",
   "id": "37d8092a301df572"
  },
  {
   "metadata": {
    "ExecuteTime": {
     "end_time": "2025-03-06T01:49:22.270528Z",
     "start_time": "2025-03-06T01:49:22.260557Z"
    }
   },
   "cell_type": "code",
   "source": [
    "import json\n",
    "\n",
    "# JSON 파일 로드\n",
    "file_path = \"../data/smaple1.json\"\n",
    "with open(file_path, \"r\", encoding=\"utf-8\") as f:\n",
    "    data = json.load(f)\n",
    "\n",
    "print(f\"총 {len(data)}개의 기사 로드 완료\")\n"
   ],
   "id": "938d7e448855de31",
   "outputs": [
    {
     "name": "stdout",
     "output_type": "stream",
     "text": [
      "총 3개의 기사 로드 완료\n"
     ]
    }
   ],
   "execution_count": 18
  },
  {
   "metadata": {},
   "cell_type": "markdown",
   "source": "## 감성분석 수행 함수",
   "id": "89621321c416108f"
  },
  {
   "metadata": {
    "ExecuteTime": {
     "end_time": "2025-03-06T01:49:23.407170Z",
     "start_time": "2025-03-06T01:49:23.380042Z"
    }
   },
   "cell_type": "code",
   "source": [
    "def analyze_sentiment(article):\n",
    "    \"\"\"기사 전체를 입력하고 문장별 감성 점수를 분석하는 함수\"\"\"\n",
    "    time.sleep(1.5)  # Rate Limit 방지를 위해 대기\n",
    "    try:\n",
    "        # 감성 분석을 위한 문장들과 제목을 prompt에 전달\n",
    "        response = sentiment_chain.run({\"sentences\": \"\\n\".join(article[\"sentences\"]), \"title\": article[\"title\"]})\n",
    "        # 감성 분석 결과 반환\n",
    "        return response.strip()  # 응답 내용 반환\n",
    "        # 요청 값 로그 출력\n",
    "        print(f\"API 요청 내용: \\n{sentiment_chain.prompt.format(sentences=article['sentences'])}\")\n",
    "\n",
    "        # 실제 응답 내용\n",
    "        print(f\"API 응답 내용: {response}\")\n",
    "\n",
    "        # 응답 내용 sentiment_responses에 저장\n",
    "        article[\"sentiment_responses\"] = response.content.strip()\n",
    "\n",
    "        # 결과 반환 (지피티 응답은 항상 저장)\n",
    "        return article\n",
    "    except Exception as e:\n",
    "        article[\"sentiment_responses\"] = f\"Error: {str(e)}\"  # 오류 메시지 저장\n",
    "        return article  # 오류 발생 시에도 응답 내용 저장\n",
    "\n",
    "def process_article(article):\n",
    "    \"\"\"GPT 응답 후처리\"\"\"\n",
    "    sentiment_response = article.get(\"sentiment_responses\", \"\")\n",
    "\n",
    "    if not sentiment_response:\n",
    "        return None  # 응답이 없으면 건너뜁니다.\n",
    "\n",
    "    article[\"sentiment_responses\"] = sentiment_response\n",
    "\n",
    "    sentiment_scores = []\n",
    "    for line in sentiment_response.split(\"\\n\"):\n",
    "        try:\n",
    "            score = float(line.strip())  # 감성 점수만 추출\n",
    "            sentiment_scores.append(score)\n",
    "        except (ValueError, IndexError):\n",
    "            continue  # 오류가 발생하면 해당 문장 건너뜁니다.\n",
    "\n",
    "    # 평균 감성 점수 계산\n",
    "    article[\"sentiment_scores\"] = sentiment_scores\n",
    "    article[\"avg_sentiment_score\"] = round(sum(sentiment_scores) / len(sentiment_scores), 2) if sentiment_scores else None\n",
    "\n",
    "    return article\n",
    "\n",
    "def run_sentiment_analysis(data, output_file):\n",
    "    \"\"\"JSON 파일을 로드하여 감성 분석을 병렬 실행하고 결과를 저장하는 함수\"\"\"\n",
    "    results = []\n",
    "\n",
    "    # 기사별 병렬 실행 (최대 3개 스레드 사용)\n",
    "    with ThreadPoolExecutor(max_workers=3) as executor:\n",
    "        future_to_article = {executor.submit(analyze_sentiment, article): article for article in data}\n",
    "\n",
    "        for future in as_completed(future_to_article):\n",
    "            article = future_to_article[future]  # 원본 기사 가져오기\n",
    "            processed_article = process_article(article)  # 후처리\n",
    "            if processed_article:  # 후처리된 결과가 있으면 추가\n",
    "                results.append(processed_article)\n",
    "\n",
    "    # 모든 결과를 파일로 저장\n",
    "    with open(output_file, \"w\", encoding=\"utf-8\") as f:\n",
    "        json.dump(results, f, ensure_ascii=False, indent=4)\n",
    "    print(f\" 전체 기사 감성 분석 완료. {output_file}\")"
   ],
   "id": "fed0546466fa0756",
   "outputs": [],
   "execution_count": 19
  },
  {
   "metadata": {
    "ExecuteTime": {
     "end_time": "2025-03-06T01:49:25.992939Z",
     "start_time": "2025-03-06T01:49:24.459848Z"
    }
   },
   "cell_type": "code",
   "source": [
    "output_path = \"../data/sentiment_analysis_results-1.json\"\n",
    "run_sentiment_analysis(data, output_path)"
   ],
   "id": "62f83a54e3793fed",
   "outputs": [
    {
     "name": "stdout",
     "output_type": "stream",
     "text": [
      " 전체 기사 감성 분석 완료. ../data/sentiment_analysis_results-1.json\n"
     ]
    }
   ],
   "execution_count": 20
  },
  {
   "metadata": {},
   "cell_type": "code",
   "outputs": [],
   "execution_count": null,
   "source": "",
   "id": "c70433abe3bbef5"
  }
 ],
 "metadata": {
  "kernelspec": {
   "display_name": "Python 3",
   "language": "python",
   "name": "python3"
  },
  "language_info": {
   "codemirror_mode": {
    "name": "ipython",
    "version": 2
   },
   "file_extension": ".py",
   "mimetype": "text/x-python",
   "name": "python",
   "nbconvert_exporter": "python",
   "pygments_lexer": "ipython2",
   "version": "2.7.6"
  }
 },
 "nbformat": 4,
 "nbformat_minor": 5
}
