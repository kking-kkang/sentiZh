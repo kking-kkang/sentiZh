{
 "cells": [
  {
   "metadata": {},
   "cell_type": "markdown",
   "source": "##  감성체인 생성",
   "id": "ee2a467c8072179c"
  },
  {
   "metadata": {
    "collapsed": true,
    "ExecuteTime": {
     "end_time": "2025-03-06T05:18:12.913861Z",
     "start_time": "2025-03-06T05:18:12.900329Z"
    }
   },
   "cell_type": "code",
   "source": [
    "import os\n",
    "import time\n",
    "from dotenv import load_dotenv\n",
    "from langchain_openai import ChatOpenAI\n",
    "from langchain.prompts import PromptTemplate\n",
    "from concurrent.futures import ThreadPoolExecutor, as_completed\n",
    "from langchain.chains import LLMChain  # LLMChain을 사용하여 Chain을 구성합니다\n",
    "import logging"
   ],
   "id": "initial_id",
   "outputs": [],
   "execution_count": 8
  },
  {
   "metadata": {
    "ExecuteTime": {
     "end_time": "2025-03-06T05:18:12.945775Z",
     "start_time": "2025-03-06T05:18:12.928821Z"
    }
   },
   "cell_type": "code",
   "source": [
    "# 로깅 설정\n",
    "logging.basicConfig(level=logging.INFO, format='%(asctime)s - %(levelname)s - %(message)s')\n",
    "logger = logging.getLogger()"
   ],
   "id": "c190c2b81ad05c31",
   "outputs": [],
   "execution_count": 9
  },
  {
   "metadata": {
    "ExecuteTime": {
     "end_time": "2025-03-06T05:18:12.993819Z",
     "start_time": "2025-03-06T05:18:12.963743Z"
    }
   },
   "cell_type": "code",
   "source": [
    "load_dotenv()\n",
    "api_key = os.getenv(\"OPENAI_API_KEY\")\n",
    "\n",
    "# OpenAI LLM 모델 설정\n",
    "llm = ChatOpenAI(openai_api_key=api_key, model_name=\"gpt-4-turbo-preview\", temperature=0.3)\n",
    "\n",
    "# 감성 분석 기본 프롬프트\n",
    "prompt_template = PromptTemplate.from_template(\n",
    "    \"\"\"你是一名中国社会科学家，你的任务是分析关于“美日韩”三边关系的中国新闻报道，进行情感分析。\n",
    "    以下是关于“美日韩”三边关系的中国新闻报道中的一段话，请对每个句子进行情感分析\n",
    "\n",
    "      **评分标准**：\n",
    "      - 强烈负面 (-5): 极端消极\n",
    "      - 负面 (-3 ~ -4): 较为消极\n",
    "      - 轻微负面 (-1 ~ -2): 略微消极\n",
    "      - 中立 (0): 纯粹的事实陈述，不带有任何情感倾向。\n",
    "      - 轻微正面 (+1 ~ +2): 略微积极\n",
    "      - 正面 (+3 ~ +4): 较为积极\n",
    "      - 强烈正面 (+5): 极端积极\n",
    "\n",
    "      **请严格分析以下新闻文章的所有句子，并为每个句子提供一个情感分数。所有提供的句子都必须进行情感分析，不得遗漏任何句子**。\n",
    "      **新闻文章内容:**\n",
    "      {sentences}\n",
    "\n",
    "      **请返回每个句子的情感分数，每行一个分数，不要包含任何额外的文本、注释或解释。**\n",
    "      \"\"\"\n",
    ")"
   ],
   "id": "4dc15629ba0cfd45",
   "outputs": [],
   "execution_count": 10
  },
  {
   "metadata": {
    "ExecuteTime": {
     "end_time": "2025-03-06T05:18:13.025358Z",
     "start_time": "2025-03-06T05:18:13.011605Z"
    }
   },
   "cell_type": "code",
   "source": [
    "# 체인 구성\n",
    "sentiment_chain = LLMChain(prompt=prompt_template, llm=llm)"
   ],
   "id": "1f877161297ba8c",
   "outputs": [],
   "execution_count": 11
  },
  {
   "metadata": {},
   "cell_type": "markdown",
   "source": "## 데이터 로드",
   "id": "37d8092a301df572"
  },
  {
   "metadata": {
    "ExecuteTime": {
     "end_time": "2025-03-06T05:18:13.057273Z",
     "start_time": "2025-03-06T05:18:13.043312Z"
    }
   },
   "cell_type": "code",
   "source": [
    "import json\n",
    "\n",
    "# JSON 파일 로드\n",
    "file_path = \"../data/0306/smaple.json\"\n",
    "with open(file_path, \"r\", encoding=\"utf-8\") as f:\n",
    "    data = json.load(f)\n",
    "\n",
    "print(f\"총 {len(data)}개의 기사 로드 완료\")\n"
   ],
   "id": "938d7e448855de31",
   "outputs": [
    {
     "name": "stdout",
     "output_type": "stream",
     "text": [
      "총 6개의 기사 로드 완료\n"
     ]
    }
   ],
   "execution_count": 12
  },
  {
   "metadata": {},
   "cell_type": "markdown",
   "source": "## 감성분석 수행 함수",
   "id": "89621321c416108f"
  },
  {
   "metadata": {
    "ExecuteTime": {
     "end_time": "2025-03-06T05:18:13.118161Z",
     "start_time": "2025-03-06T05:18:13.092232Z"
    }
   },
   "cell_type": "code",
   "source": [
    "# 감성 분석 수행 함수\n",
    "def analyze_sentiment_per_sentence(article):\n",
    "    \"\"\"기사의 각 문장에 대해 감성 점수를 분석하는 함수\"\"\"\n",
    "    time.sleep(1.5)  # Rate Limit 방지를 위해 대기\n",
    "    sentiment_scores = []\n",
    "    try:\n",
    "        # 문장별로 감성 분석 수행\n",
    "        for sentence in article[\"sentences\"]:\n",
    "            input_data = {\"sentences\": sentence}  # 각 문장 하나씩 전달\n",
    "\n",
    "            # `sentiment_chain.run()`을 사용하여 데이터 처리\n",
    "            response = sentiment_chain.invoke(input_data)  # 문장별 감성 분석 요청\n",
    "\n",
    "            print(f\"Response format: {response}\")  # 응답 형식 출력\n",
    "\n",
    "            # 응답에서 각 문장에 대한 감성 점수 저장\n",
    "            sentiment_scores.append(response['text'].strip())  # 응답 내용 반환\n",
    "        article[\"sentiment_responses\"] = sentiment_scores  # 문장별 감성 점수 저장\n",
    "        return article\n",
    "    except Exception as e:\n",
    "        article[\"sentiment_responses\"] = f\"Error: {str(e)}\"  # 오류 발생 시 오류 메시지 저장\n",
    "        return article  # 오류 발생 시에도 응답 내용 저장\n",
    "\n",
    "def process_article(article):\n",
    "    \"\"\"GPT 응답 후처리\"\"\"\n",
    "    sentiment_response = article.get(\"sentiment_responses\", \"\")\n",
    "\n",
    "    # 문장이 없는 경우 바로 반환\n",
    "    if not sentiment_response:\n",
    "        return article\n",
    "\n",
    "    sentiment_scores = []\n",
    "    for line in sentiment_response:\n",
    "        try:\n",
    "            sentiment_scores.append(float(line.strip()))  # 각 점수 추가\n",
    "        except (ValueError, IndexError):\n",
    "            continue\n",
    "    article[\"sentiment_scores\"] = sentiment_scores\n",
    "    article[\"avg_sentiment_score\"] = round(sum(sentiment_scores) / len(sentiment_scores), 2) if sentiment_scores else None\n",
    "    return article\n",
    "\n",
    "def run_sentiment_analysis(data, output_file):\n",
    "    \"\"\"JSON 파일을 로드하여 감성 분석을 병렬 실행하고 결과를 저장하는 함수\"\"\"\n",
    "    results = []\n",
    "\n",
    "    # 기사별 병렬 실행 (최대 3개 스레드 사용)\n",
    "    with ThreadPoolExecutor(max_workers=3) as executor:\n",
    "        future_to_article = {executor.submit(analyze_sentiment_per_sentence, article): article for article in data}\n",
    "\n",
    "        for future in as_completed(future_to_article):\n",
    "            article = future_to_article[future]  # 원본 기사 가져오기\n",
    "            processed_article = process_article(article)  # 후처리\n",
    "            if processed_article is not None:\n",
    "                results.append(processed_article)  # 결과 저장\n",
    "\n",
    "            # 중간 저장 (기사별로 즉시 JSON 파일 업데이트)\n",
    "            with open(output_file, \"w\", encoding=\"utf-8\") as f:\n",
    "                json.dump(results, f, ensure_ascii=False, indent=4)\n",
    "            print(f\" '{article['title']}' 분석 완료.\")\n",
    "    print(f\" 전체 기사 감성 분석 완료. {output_file}\")\n"
   ],
   "id": "fed0546466fa0756",
   "outputs": [],
   "execution_count": 13
  },
  {
   "metadata": {
    "ExecuteTime": {
     "end_time": "2025-03-06T05:18:50.812871Z",
     "start_time": "2025-03-06T05:18:13.132125Z"
    }
   },
   "cell_type": "code",
   "source": [
    "output_path = \"../data/0306/results문장하나하나.json\"\n",
    "run_sentiment_analysis(data, output_path)"
   ],
   "id": "62f83a54e3793fed",
   "outputs": [
    {
     "name": "stderr",
     "output_type": "stream",
     "text": [
      "2025-03-06 14:18:15,406 - INFO - HTTP Request: POST https://api.openai.com/v1/chat/completions \"HTTP/1.1 200 OK\"\n",
      "2025-03-06 14:18:15,579 - INFO - HTTP Request: POST https://api.openai.com/v1/chat/completions \"HTTP/1.1 200 OK\"\n"
     ]
    },
    {
     "name": "stdout",
     "output_type": "stream",
     "text": [
      "Response format: {'sentences': '环球网记者王欢报道 10月11日上午，正在韩国访问的日本民主党政调会长前原诚司在首尔发表演讲。', 'text': '0'}\n",
      "Response format: {'sentences': '朝鲜国防委员会１６日提议与美国举行政府间高级别会谈之后，美国、日本和韩国分别回应提议。', 'text': '0\\n0'}\n"
     ]
    },
    {
     "name": "stderr",
     "output_type": "stream",
     "text": [
      "2025-03-06 14:18:16,076 - INFO - HTTP Request: POST https://api.openai.com/v1/chat/completions \"HTTP/1.1 200 OK\"\n"
     ]
    },
    {
     "name": "stdout",
     "output_type": "stream",
     "text": [
      "Response format: {'sentences': '据共同社6月21日报道，日本海上自卫队同美韩两国海军的首次联合军演21日在朝鲜半岛以南的公海拉开帷幕。', 'text': '0'}\n"
     ]
    },
    {
     "name": "stderr",
     "output_type": "stream",
     "text": [
      "2025-03-06 14:18:16,385 - INFO - HTTP Request: POST https://api.openai.com/v1/chat/completions \"HTTP/1.1 200 OK\"\n",
      "2025-03-06 14:18:16,524 - INFO - HTTP Request: POST https://api.openai.com/v1/chat/completions \"HTTP/1.1 200 OK\"\n"
     ]
    },
    {
     "name": "stdout",
     "output_type": "stream",
     "text": [
      "Response format: {'sentences': '要看行动 朝鲜国防委员会发言人１６日说，为消除朝鲜半岛紧张局面，确保地区和平与安全，建议朝美当局举行高级别会谈。', 'text': '0\\n+2'}\n",
      "Response format: {'sentences': '在大谈日韩两国应该签署“日韩经济合作协定”（EPA）之后，这位被视为对华强硬的日本“鹰派”政客再次提及中国，宣称美日韩三国并非要“封杀”中国，而要“敦促”中国“提高遵守国际准则的认识”。', 'text': '0\\n-1\\n-2'}\n"
     ]
    },
    {
     "name": "stderr",
     "output_type": "stream",
     "text": [
      "2025-03-06 14:18:17,013 - INFO - HTTP Request: POST https://api.openai.com/v1/chat/completions \"HTTP/1.1 200 OK\"\n"
     ]
    },
    {
     "name": "stdout",
     "output_type": "stream",
     "text": [
      "Response format: {'sentences': '部署在美海军横须贺基地的核动力航母“乔治·华盛顿”首次参加军演。', 'text': '0'}\n"
     ]
    },
    {
     "name": "stderr",
     "output_type": "stream",
     "text": [
      "2025-03-06 14:18:17,291 - INFO - HTTP Request: POST https://api.openai.com/v1/chat/completions \"HTTP/1.1 200 OK\"\n"
     ]
    },
    {
     "name": "stdout",
     "output_type": "stream",
     "text": [
      "Response format: {'sentences': '复旦大学教授冯玮对环球网记者表示，前原提及所谓“国际准则”问题，实际上是要以此混淆中国在领土问题上的立场。', 'text': '-2'}\n"
     ]
    },
    {
     "name": "stderr",
     "output_type": "stream",
     "text": [
      "2025-03-06 14:18:17,747 - INFO - HTTP Request: POST https://api.openai.com/v1/chat/completions \"HTTP/1.1 200 OK\"\n"
     ]
    },
    {
     "name": "stdout",
     "output_type": "stream",
     "text": [
      "Response format: {'sentences': '朝方强调，不应给对话和接触设前提。', 'text': '0'}\n"
     ]
    },
    {
     "name": "stderr",
     "output_type": "stream",
     "text": [
      "2025-03-06 14:18:18,545 - INFO - HTTP Request: POST https://api.openai.com/v1/chat/completions \"HTTP/1.1 200 OK\"\n"
     ]
    },
    {
     "name": "stdout",
     "output_type": "stream",
     "text": [
      "Response format: {'sentences': '就朝方提议，美国白宫办公厅主任丹尼斯·麦克多诺１６日在哥伦比亚广播公司“面对全国”访谈节目中说：“这些会谈必须真实，必须依据他们（朝方）对包括不扩散、核武器、走私和其他问题在内的落实情况。', 'text': '0\\n0'}\n"
     ]
    },
    {
     "name": "stderr",
     "output_type": "stream",
     "text": [
      "2025-03-06 14:18:19,259 - INFO - HTTP Request: POST https://api.openai.com/v1/chat/completions \"HTTP/1.1 200 OK\"\n"
     ]
    },
    {
     "name": "stdout",
     "output_type": "stream",
     "text": [
      "Response format: {'sentences': '据日本《产经新闻》10月11日消息，前原在演讲中表示，日韩签署EPA后，将会以此为契机，深化两国之间的情意、加强经济及人文交流，最终促进两国的共同繁荣；而日本文化的开放使得在日出现了“韩流热潮”，因此签署EPA对韩方而言有很多优点。', 'text': '+3\\n+2\\n+2'}\n"
     ]
    },
    {
     "name": "stderr",
     "output_type": "stream",
     "text": [
      "2025-03-06 14:18:19,682 - INFO - HTTP Request: POST https://api.openai.com/v1/chat/completions \"HTTP/1.1 200 OK\"\n",
      "2025-03-06 14:18:19,804 - INFO - HTTP Request: POST https://api.openai.com/v1/chat/completions \"HTTP/1.1 200 OK\"\n"
     ]
    },
    {
     "name": "stdout",
     "output_type": "stream",
     "text": [
      "Response format: {'sentences': '” “因此，我们会通过他们的行动来判断，而不是我们昨天（美国东部时间１５日）听到的漂亮话，”麦克多诺说。', 'text': '0\\n-2'}\n",
      "Response format: {'sentences': '本次联合军演为期两天。', 'text': '0'}\n"
     ]
    },
    {
     "name": "stderr",
     "output_type": "stream",
     "text": [
      "2025-03-06 14:18:20,109 - INFO - HTTP Request: POST https://api.openai.com/v1/chat/completions \"HTTP/1.1 200 OK\"\n"
     ]
    },
    {
     "name": "stdout",
     "output_type": "stream",
     "text": [
      "Response format: {'sentences': '他还说：“日韩两国是拥有共同价值观的友好邻邦，也是有着极其重要战略合作目标的伙伴。', 'text': '+3'}\n"
     ]
    },
    {
     "name": "stderr",
     "output_type": "stream",
     "text": [
      "2025-03-06 14:18:20,943 - INFO - HTTP Request: POST https://api.openai.com/v1/chat/completions \"HTTP/1.1 200 OK\"\n",
      "2025-03-06 14:18:21,071 - INFO - HTTP Request: POST https://api.openai.com/v1/chat/completions \"HTTP/1.1 200 OK\"\n"
     ]
    },
    {
     "name": "stdout",
     "output_type": "stream",
     "text": [
      "Response format: {'sentences': '” 报道称，围绕日韩缔结EPA问题，日外相玄叶光一郎曾于6-7日与韩外交通商部部长金星焕就重启谈判进行磋商，但韩方担心协定签署后对日贸易赤字将会进一步扩大，因此一直犹豫不决。', 'text': '0\\n-2'}\n",
      "Response format: {'sentences': '据美国国防部等称，三国此前曾在美国夏威夷海域及日本海进行过数次联合搜救训练，但有美国航母及三国舰艇参加的正式军演尚属首次。', 'text': '0\\n0'}\n"
     ]
    },
    {
     "name": "stderr",
     "output_type": "stream",
     "text": [
      "2025-03-06 14:18:21,333 - INFO - HTTP Request: POST https://api.openai.com/v1/chat/completions \"HTTP/1.1 200 OK\"\n"
     ]
    },
    {
     "name": "stdout",
     "output_type": "stream",
     "text": [
      "Response format: {'sentences': '麦克多诺强调，底线是朝方不要试图利用谈判逃避正在受到的制裁。', 'text': '-1'}\n"
     ]
    },
    {
     "name": "stderr",
     "output_type": "stream",
     "text": [
      "2025-03-06 14:18:22,110 - INFO - HTTP Request: POST https://api.openai.com/v1/chat/completions \"HTTP/1.1 200 OK\"\n"
     ]
    },
    {
     "name": "stdout",
     "output_type": "stream",
     "text": [
      "Response format: {'sentences': '美国政府基于重视亚太地区的新国防战略，致力于推进同该地区盟国及友好国家的合作关系。', 'text': '0'}\n"
     ]
    },
    {
     "name": "stderr",
     "output_type": "stream",
     "text": [
      "2025-03-06 14:18:22,971 - INFO - HTTP Request: POST https://api.openai.com/v1/chat/completions \"HTTP/1.1 200 OK\"\n",
      "2025-03-06 14:18:23,101 - INFO - HTTP Request: POST https://api.openai.com/v1/chat/completions \"HTTP/1.1 200 OK\"\n"
     ]
    },
    {
     "name": "stdout",
     "output_type": "stream",
     "text": [
      "Response format: {'sentences': '日本海上自卫队派出宙斯盾舰“雾雨”和搭载直升机的大型护卫舰“鞍马”等3艘舰艇参加训练。', 'text': '0'}\n",
      "Response format: {'sentences': '麦克多诺与当天早些时候白宫国家安全委员会发言人凯特琳·海登的声明相呼应。', 'text': '0'}\n"
     ]
    },
    {
     "name": "stderr",
     "output_type": "stream",
     "text": [
      "2025-03-06 14:18:23,541 - INFO - HTTP Request: POST https://api.openai.com/v1/chat/completions \"HTTP/1.1 200 OK\"\n"
     ]
    },
    {
     "name": "stdout",
     "output_type": "stream",
     "text": [
      "Response format: {'sentences': '新华社华盛顿１０月１０日电（记者刘晨 陆佳飞）美国军方１０日说，美军两架战略轰炸机当晚与日本和韩国战斗机在日本海附近进行了飞行军事演练。', 'text': '0\\n0'}\n"
     ]
    },
    {
     "name": "stderr",
     "output_type": "stream",
     "text": [
      "2025-03-06 14:18:23,878 - INFO - HTTP Request: POST https://api.openai.com/v1/chat/completions \"HTTP/1.1 200 OK\"\n",
      "2025-03-06 14:18:24,024 - INFO - HTTP Request: POST https://api.openai.com/v1/chat/completions \"HTTP/1.1 200 OK\"\n"
     ]
    },
    {
     "name": "stdout",
     "output_type": "stream",
     "text": [
      "Response format: {'sentences': '本次军演旨在提升三国的携同作战水平及通信能力，以加强确保海上安全及救灾等领域的合作。', 'text': '2\\n2'}\n",
      "Response format: {'sentences': '海登在声明中说，美国愿意与朝鲜举行“可信的”谈判，但朝方必须履行其国际义务。', 'text': '0\\n-1'}\n"
     ]
    },
    {
     "name": "stderr",
     "output_type": "stream",
     "text": [
      "2025-03-06 14:18:24,843 - INFO - HTTP Request: POST https://api.openai.com/v1/chat/completions \"HTTP/1.1 200 OK\"\n"
     ]
    },
    {
     "name": "stdout",
     "output_type": "stream",
     "text": [
      "Response format: {'sentences': '美军太平洋空军在一份声明中说，美空军两架Ｂ－１Ｂ轰炸机当天从关岛美军基地出发完成了此次飞行。', 'text': '0'}\n"
     ]
    },
    {
     "name": "stderr",
     "output_type": "stream",
     "text": [
      "2025-03-06 14:18:25,718 - INFO - HTTP Request: POST https://api.openai.com/v1/chat/completions \"HTTP/1.1 200 OK\"\n"
     ]
    },
    {
     "name": "stdout",
     "output_type": "stream",
     "text": [
      "Response format: {'sentences': '另一方面，由于日韩两国存在殖民地统治等历史背景，韩国国内部分舆论对日本舰艇在周边海域进行军演表示忧虑。', 'text': '-2'}\n"
     ]
    },
    {
     "name": "stderr",
     "output_type": "stream",
     "text": [
      "2025-03-06 14:18:26,152 - INFO - HTTP Request: POST https://api.openai.com/v1/chat/completions \"HTTP/1.1 200 OK\"\n"
     ]
    },
    {
     "name": "stdout",
     "output_type": "stream",
     "text": [
      "Response format: {'sentences': '“我们一直赞成对话，实际上已经开通与朝鲜沟通的渠道，”她说，“但这些会谈必须伴随朝鲜对世界的义务，包括遵守联合国安理会决议，最终实现无核化。', 'text': '0\\n0\\n0\\n+1'}\n"
     ]
    },
    {
     "name": "stderr",
     "output_type": "stream",
     "text": [
      "2025-03-06 14:18:26,571 - INFO - HTTP Request: POST https://api.openai.com/v1/chat/completions \"HTTP/1.1 200 OK\"\n"
     ]
    },
    {
     "name": "stdout",
     "output_type": "stream",
     "text": [
      "Response format: {'sentences': '日本航空自卫队和韩国空军分别派出两架Ｆ－１５战斗机和两架Ｆ－１５Ｋ战斗机参加演练。', 'text': '0'}\n"
     ]
    },
    {
     "name": "stderr",
     "output_type": "stream",
     "text": [
      "2025-03-06 14:18:27,156 - INFO - HTTP Request: POST https://api.openai.com/v1/chat/completions \"HTTP/1.1 200 OK\"\n"
     ]
    },
    {
     "name": "stdout",
     "output_type": "stream",
     "text": [
      "Response format: {'sentences': '” 三方会谈 在朝方声明发出提议９小时之后，美国白宫作出回应，但美方没有明确表示是否接受这一提议。', 'text': '0\\n0'}\n"
     ]
    },
    {
     "name": "stderr",
     "output_type": "stream",
     "text": [
      "2025-03-06 14:18:27,676 - INFO - HTTP Request: POST https://api.openai.com/v1/chat/completions \"HTTP/1.1 200 OK\"\n"
     ]
    },
    {
     "name": "stdout",
     "output_type": "stream",
     "text": [
      "Response format: {'sentences': '韩国国防部称此次军演“是定期训练”，未公布有关参加舰艇等详细情况，也未正式承认有美国航母参加。', 'text': '0\\n0\\n0'}\n"
     ]
    },
    {
     "name": "stderr",
     "output_type": "stream",
     "text": [
      "2025-03-06 14:18:29,378 - INFO - HTTP Request: POST https://api.openai.com/v1/chat/completions \"HTTP/1.1 200 OK\"\n"
     ]
    },
    {
     "name": "stdout",
     "output_type": "stream",
     "text": [
      "Response format: {'sentences': '声明说，这是美军太平洋司令部Ｂ－１Ｂ轰炸机首次和日韩空军进行联合夜间飞行演练。', 'text': '0'}\n"
     ]
    },
    {
     "name": "stderr",
     "output_type": "stream",
     "text": [
      "2025-03-06 14:18:29,989 - INFO - HTTP Request: POST https://api.openai.com/v1/chat/completions \"HTTP/1.1 200 OK\"\n",
      "2025-03-06 14:18:30,011 - INFO - HTTP Request: POST https://api.openai.com/v1/chat/completions \"HTTP/1.1 200 OK\"\n"
     ]
    },
    {
     "name": "stdout",
     "output_type": "stream",
     "text": [
      "Response format: {'sentences': '美国国务院高级官员26日表明有意下周在泰国首都曼谷举行美国、日本、韩国外交部长会议，以推动缓和日韩紧张关系。', 'text': '0\\n+2'}\n",
      "Response format: {'sentences': '朝美是否就这一提议实现直接接触尚无法确认。', 'text': '0'}\n"
     ]
    },
    {
     "name": "stderr",
     "output_type": "stream",
     "text": [
      "2025-03-06 14:18:30,867 - INFO - HTTP Request: POST https://api.openai.com/v1/chat/completions \"HTTP/1.1 200 OK\"\n"
     ]
    },
    {
     "name": "stdout",
     "output_type": "stream",
     "text": [
      "Response format: {'sentences': '此次演练意在展现位于亚太地区的美军有能力保护美国本土，同时也体现了美国与日韩间坚定的同盟关系。', 'text': '0\\n+2'}\n"
     ]
    },
    {
     "name": "stderr",
     "output_type": "stream",
     "text": [
      "2025-03-06 14:18:32,054 - INFO - HTTP Request: POST https://api.openai.com/v1/chat/completions \"HTTP/1.1 200 OK\"\n"
     ]
    },
    {
     "name": "stdout",
     "output_type": "stream",
     "text": [
      "Response format: {'sentences': '朝鲜半岛局势持续紧张，美军机近期在东北亚活动频繁。', 'text': '-1\\n-2'}\n"
     ]
    },
    {
     "name": "stderr",
     "output_type": "stream",
     "text": [
      "2025-03-06 14:18:32,758 - INFO - HTTP Request: POST https://api.openai.com/v1/chat/completions \"HTTP/1.1 200 OK\"\n",
      "2025-03-06 14:18:32,933 - INFO - HTTP Request: POST https://api.openai.com/v1/chat/completions \"HTTP/1.1 200 OK\"\n",
      "2025-03-06 14:18:32,945 - INFO - HTTP Request: POST https://api.openai.com/v1/chat/completions \"HTTP/1.1 200 OK\"\n"
     ]
    },
    {
     "name": "stdout",
     "output_type": "stream",
     "text": [
      "Response format: {'sentences': '美国国务卿迈克·蓬佩奥定于31日抵达曼谷，8月2日出席东盟地区论坛。', 'text': '0\\n0'}\n",
      "Response format: {'sentences': '美国政府一名高级官员１６日透露，美方将于本周晚些时候与日本和韩国处理涉朝问题的高级外交官在华盛顿会晤期间讨论朝方提议。', 'text': '0'}\n",
      "Response format: {'sentences': '９月２３日，美军多架战略轰炸机在战斗机的护航下至朝鲜以东水域上空飞行，抵达本世纪以来美军战机飞抵的韩朝非军事区最北端。', 'text': '0'}\n"
     ]
    },
    {
     "name": "stderr",
     "output_type": "stream",
     "text": [
      "2025-03-06 14:18:34,054 - INFO - HTTP Request: POST https://api.openai.com/v1/chat/completions \"HTTP/1.1 200 OK\"\n"
     ]
    },
    {
     "name": "stdout",
     "output_type": "stream",
     "text": [
      "Response format: {'sentences': '这名不愿公开姓名的官员说，美方将与日本、韩国伙伴举行三方会谈，朝方提议将是讨论主题之一。', 'text': '0'}\n"
     ]
    },
    {
     "name": "stderr",
     "output_type": "stream",
     "text": [
      "2025-03-06 14:18:34,913 - INFO - HTTP Request: POST https://api.openai.com/v1/chat/completions \"HTTP/1.1 200 OK\"\n"
     ]
    },
    {
     "name": "stdout",
     "output_type": "stream",
     "text": [
      "Response format: {'sentences': '朝鲜国防委员会１６日提议与美国举行政府间高级别会谈之后，美国、日本和韩国分别回应提议。', 'text': '0\\n0'}\n"
     ]
    },
    {
     "name": "stderr",
     "output_type": "stream",
     "text": [
      "2025-03-06 14:18:35,558 - INFO - HTTP Request: POST https://api.openai.com/v1/chat/completions \"HTTP/1.1 200 OK\"\n",
      "2025-03-06 14:18:35,709 - INFO - HTTP Request: POST https://api.openai.com/v1/chat/completions \"HTTP/1.1 200 OK\"\n",
      "2025-03-06 14:18:35,752 - INFO - HTTP Request: POST https://api.openai.com/v1/chat/completions \"HTTP/1.1 200 OK\"\n"
     ]
    },
    {
     "name": "stdout",
     "output_type": "stream",
     "text": [
      "Response format: {'sentences': '英国《金融时报》6月6日刊文《安倍应把竹岛主权交给韩国》，文章认为，日本与多国存在领土争端，而日本首相安倍晋三对日本历史行为所秉持的修正主义态度令邻国担忧。', 'text': '0\\n-2\\n-3\\n-3'}\n",
      "Response format: {'sentences': '日本外务大臣河野太郎、韩国外交部长官康京和同期赴曼谷参会。', 'text': '0'}\n",
      "Response format: {'sentences': '要看行动 朝鲜国防委员会发言人１６日说，为消除朝鲜半岛紧张局面，确保地区和平与安全，建议朝美当局举行高级别会谈。', 'text': '0\\n+2'}\n"
     ]
    },
    {
     "name": "stderr",
     "output_type": "stream",
     "text": [
      "2025-03-06 14:18:36,528 - INFO - HTTP Request: POST https://api.openai.com/v1/chat/completions \"HTTP/1.1 200 OK\"\n",
      "2025-03-06 14:18:36,600 - INFO - HTTP Request: POST https://api.openai.com/v1/chat/completions \"HTTP/1.1 200 OK\"\n"
     ]
    },
    {
     "name": "stdout",
     "output_type": "stream",
     "text": [
      "Response format: {'sentences': '一名不愿公开姓名的美国国务院高级官员26日告诉媒体记者：“我认为每次美国、韩国、日本（代表）在同一个地方时，会有聚一聚的想法。', 'text': '0'}\n",
      "Response format: {'sentences': '朝方强调，不应给对话和接触设前提。', 'text': '0'}\n"
     ]
    },
    {
     "name": "stderr",
     "output_type": "stream",
     "text": [
      "2025-03-06 14:18:36,745 - INFO - HTTP Request: POST https://api.openai.com/v1/chat/completions \"HTTP/1.1 200 OK\"\n"
     ]
    },
    {
     "name": "stdout",
     "output_type": "stream",
     "text": [
      "Response format: {'sentences': '作者大胆假设，假如安倍把日韩之间具有主权争议的竹岛（韩国称独岛）交还韩国，对于日本乃至东亚都将具有积极的战略意义。', 'text': '+3'}\n"
     ]
    },
    {
     "name": "stderr",
     "output_type": "stream",
     "text": [
      "2025-03-06 14:18:37,940 - INFO - HTTP Request: POST https://api.openai.com/v1/chat/completions \"HTTP/1.1 200 OK\"\n"
     ]
    },
    {
     "name": "stdout",
     "output_type": "stream",
     "text": [
      "Response format: {'sentences': '主要内容编译如下： 安倍晋三唤醒了太平洋地区的民族主义幽灵。', 'text': '-3'}\n"
     ]
    },
    {
     "name": "stderr",
     "output_type": "stream",
     "text": [
      "2025-03-06 14:18:38,494 - INFO - HTTP Request: POST https://api.openai.com/v1/chat/completions \"HTTP/1.1 200 OK\"\n"
     ]
    },
    {
     "name": "stdout",
     "output_type": "stream",
     "text": [
      "Response format: {'sentences': '就朝方提议，美国白宫办公厅主任丹尼斯·麦克多诺１６日在哥伦比亚广播公司“面对全国”访谈节目中说：“这些会谈必须真实，必须依据他们（朝方）对包括不扩散、核武器、走私和其他问题在内的落实情况。', 'text': '0\\n0'}\n"
     ]
    },
    {
     "name": "stderr",
     "output_type": "stream",
     "text": [
      "2025-03-06 14:18:39,051 - INFO - HTTP Request: POST https://api.openai.com/v1/chat/completions \"HTTP/1.1 200 OK\"\n"
     ]
    },
    {
     "name": "stdout",
     "output_type": "stream",
     "text": [
      "Response format: {'sentences': '” 他说，美国政府“关切”日韩紧张关系，担心日韩不和影响三国就朝鲜半岛无核化进程合作。', 'text': '0\\n-2'}\n"
     ]
    },
    {
     "name": "stderr",
     "output_type": "stream",
     "text": [
      "2025-03-06 14:18:39,878 - INFO - HTTP Request: POST https://api.openai.com/v1/chat/completions \"HTTP/1.1 200 OK\"\n",
      "2025-03-06 14:18:40,041 - INFO - HTTP Request: POST https://api.openai.com/v1/chat/completions \"HTTP/1.1 200 OK\"\n"
     ]
    },
    {
     "name": "stdout",
     "output_type": "stream",
     "text": [
      "Response format: {'sentences': '美方“正在寻找方法，以推动（日韩）双方以有效互惠方式消除对立”。', 'text': '0'}\n",
      "Response format: {'sentences': '这位日本首相对日本历史行为所秉持的修正主义态度，令邻国感到担忧。', 'text': '-3'}\n"
     ]
    },
    {
     "name": "stderr",
     "output_type": "stream",
     "text": [
      "2025-03-06 14:18:40,489 - INFO - HTTP Request: POST https://api.openai.com/v1/chat/completions \"HTTP/1.1 200 OK\"\n",
      "2025-03-06 14:18:40,687 - INFO - HTTP Request: POST https://api.openai.com/v1/chat/completions \"HTTP/1.1 200 OK\"\n"
     ]
    },
    {
     "name": "stdout",
     "output_type": "stream",
     "text": [
      "Response format: {'sentences': '因此，我们会通过他们的行动来判断，而不是我们昨天（美国东部时间１５日）听到的漂亮话，”麦克多诺说。', 'text': '0'}\n",
      "Response format: {'sentences': '美日韩外长去年7月会面，蓬佩奥当时访朝结束，在日本首都东京与日韩两国外长会面。', 'text': '0\\n0'}\n"
     ]
    },
    {
     "name": "stderr",
     "output_type": "stream",
     "text": [
      "2025-03-06 14:18:40,978 - INFO - HTTP Request: POST https://api.openai.com/v1/chat/completions \"HTTP/1.1 200 OK\"\n"
     ]
    },
    {
     "name": "stdout",
     "output_type": "stream",
     "text": [
      "Response format: {'sentences': '中日关系由此受到的冲击，往往是西方媒体最为关注的。', 'text': '0'}\n"
     ]
    },
    {
     "name": "stderr",
     "output_type": "stream",
     "text": [
      "2025-03-06 14:18:41,786 - INFO - HTTP Request: POST https://api.openai.com/v1/chat/completions \"HTTP/1.1 200 OK\"\n"
     ]
    },
    {
     "name": "stdout",
     "output_type": "stream",
     "text": [
      "Response format: {'sentences': '但日韩之间的火药味也越来越浓。', 'text': '-3'}\n"
     ]
    },
    {
     "name": "stderr",
     "output_type": "stream",
     "text": [
      "2025-03-06 14:18:42,559 - INFO - HTTP Request: POST https://api.openai.com/v1/chat/completions \"HTTP/1.1 200 OK\"\n"
     ]
    },
    {
     "name": "stdout",
     "output_type": "stream",
     "text": [
      "Response format: {'sentences': '在这方面，安倍能够且应当采取大胆的行动，以在历史上留下浓重的一笔，并促成该地区的彻底改观。', 'text': '0'}\n"
     ]
    },
    {
     "name": "stderr",
     "output_type": "stream",
     "text": [
      "2025-03-06 14:18:42,853 - INFO - HTTP Request: POST https://api.openai.com/v1/chat/completions \"HTTP/1.1 200 OK\"\n",
      "2025-03-06 14:18:42,964 - INFO - HTTP Request: POST https://api.openai.com/v1/chat/completions \"HTTP/1.1 200 OK\"\n"
     ]
    },
    {
     "name": "stdout",
     "output_type": "stream",
     "text": [
      "Response format: {'sentences': '今年6月大阪二十国集团领导人会议期间，没有举行三方外长会。', 'text': '0'}\n",
      "Response format: {'sentences': '麦克多诺强调，底线是朝方不要试图利用谈判逃避正在受到的制裁。', 'text': '-2'}\n"
     ]
    },
    {
     "name": "stderr",
     "output_type": "stream",
     "text": [
      "2025-03-06 14:18:43,734 - INFO - HTTP Request: POST https://api.openai.com/v1/chat/completions \"HTTP/1.1 200 OK\"\n"
     ]
    },
    {
     "name": "stdout",
     "output_type": "stream",
     "text": [
      "Response format: {'sentences': '美日韩三国国会议员26日在美国首都华盛顿闭门会商改善日韩关系。', 'text': '0'}\n"
     ]
    },
    {
     "name": "stderr",
     "output_type": "stream",
     "text": [
      "2025-03-06 14:18:44,282 - INFO - HTTP Request: POST https://api.openai.com/v1/chat/completions \"HTTP/1.1 200 OK\"\n"
     ]
    },
    {
     "name": "stdout",
     "output_type": "stream",
     "text": [
      "Response format: {'sentences': '竹岛（Takeshima，韩国称“独岛”(Dokdo)）是日本海(Sea of Japan)中露出海面的几块“岩石”。', 'text': '0'}\n"
     ]
    },
    {
     "name": "stderr",
     "output_type": "stream",
     "text": [
      "2025-03-06 14:18:44,541 - INFO - HTTP Request: POST https://api.openai.com/v1/chat/completions \"HTTP/1.1 200 OK\"\n"
     ]
    },
    {
     "name": "stdout",
     "output_type": "stream",
     "text": [
      "Response format: {'sentences': '麦克多诺与当天早些时候白宫国家安全委员会发言人凯特琳·海登的声明相呼应。', 'text': '0\\n0'}\n"
     ]
    },
    {
     "name": "stderr",
     "output_type": "stream",
     "text": [
      "2025-03-06 14:18:45,339 - INFO - HTTP Request: POST https://api.openai.com/v1/chat/completions \"HTTP/1.1 200 OK\"\n",
      "2025-03-06 14:18:45,564 - INFO - HTTP Request: POST https://api.openai.com/v1/chat/completions \"HTTP/1.1 200 OK\"\n"
     ]
    },
    {
     "name": "stdout",
     "output_type": "stream",
     "text": [
      "Response format: {'sentences': '韩方议员要求日方取消对韩出口管制，认定管制举措关联韩国劳工向日本企业索赔。', 'text': '-1\\n-2'}\n",
      "Response format: {'sentences': '海登在声明中说，美国愿意与朝鲜举行“可信的”谈判，但朝方必须履行其国际义务。', 'text': '0\\n0'}\n"
     ]
    },
    {
     "name": "stderr",
     "output_type": "stream",
     "text": [
      "2025-03-06 14:18:46,424 - INFO - HTTP Request: POST https://api.openai.com/v1/chat/completions \"HTTP/1.1 200 OK\"\n"
     ]
    },
    {
     "name": "stdout",
     "output_type": "stream",
     "text": [
      "Response format: {'sentences': '“我们一直赞成对话，实际上已经开通与朝鲜沟通的渠道，”她说，“但这些会谈必须伴随朝鲜对世界的义务，包括遵守联合国安理会决议，最终实现无核化。', 'text': '0\\n0\\n0'}\n"
     ]
    },
    {
     "name": "stderr",
     "output_type": "stream",
     "text": [
      "2025-03-06 14:18:46,976 - INFO - HTTP Request: POST https://api.openai.com/v1/chat/completions \"HTTP/1.1 200 OK\"\n",
      "2025-03-06 14:18:46,994 - INFO - HTTP Request: POST https://api.openai.com/v1/chat/completions \"HTTP/1.1 200 OK\"\n"
     ]
    },
    {
     "name": "stdout",
     "output_type": "stream",
     "text": [
      "Response format: {'sentences': '日方否认以贸易手段报复韩方，坚持限制出口合理。', 'text': '0\\n0'}\n",
      "Response format: {'sentences': '韩国民族主义者认为，该群岛在日本帝国结束对朝鲜半岛的35年占领后已移交给韩国。', 'text': '0'}\n"
     ]
    },
    {
     "name": "stderr",
     "output_type": "stream",
     "text": [
      "2025-03-06 14:18:47,375 - INFO - HTTP Request: POST https://api.openai.com/v1/chat/completions \"HTTP/1.1 200 OK\"\n"
     ]
    },
    {
     "name": "stdout",
     "output_type": "stream",
     "text": [
      "Response format: {'sentences': '” 三方会谈 在朝方声明发出提议９小时之后，美国白宫作出回应，但美方没有明确表示是否接受这一提议。', 'text': '0\\n0'}\n"
     ]
    },
    {
     "name": "stderr",
     "output_type": "stream",
     "text": [
      "2025-03-06 14:18:48,577 - INFO - HTTP Request: POST https://api.openai.com/v1/chat/completions \"HTTP/1.1 200 OK\"\n",
      "2025-03-06 14:18:48,615 - INFO - HTTP Request: POST https://api.openai.com/v1/chat/completions \"HTTP/1.1 200 OK\"\n"
     ]
    },
    {
     "name": "stdout",
     "output_type": "stream",
     "text": [
      "Response format: {'sentences': '朝美是否就这一提议实现直接接触尚无法确认。', 'text': '0'}\n",
      "Response format: {'sentences': '出席会商的议员告诉媒体记者，日韩议员同意推动各自政府改善两国关系。', 'text': '2'}\n"
     ]
    },
    {
     "name": "stderr",
     "output_type": "stream",
     "text": [
      "2025-03-06 14:18:49,731 - INFO - HTTP Request: POST https://api.openai.com/v1/chat/completions \"HTTP/1.1 200 OK\"\n",
      "2025-03-06 14:18:49,773 - INFO - HTTP Request: POST https://api.openai.com/v1/chat/completions \"HTTP/1.1 200 OK\"\n"
     ]
    },
    {
     "name": "stdout",
     "output_type": "stream",
     "text": [
      "Response format: {'sentences': '韩国打算近期派遣国会代表团赴日。', 'text': '0'}\n",
      "Response format: {'sentences': '美国政府一名高级官员１６日透露，美方将于本周晚些时候与日本和韩国处理涉朝问题的高级外交官在华盛顿会晤期间讨论朝方提议。', 'text': '0'}\n"
     ]
    },
    {
     "name": "stderr",
     "output_type": "stream",
     "text": [
      "2025-03-06 14:18:49,966 - INFO - HTTP Request: POST https://api.openai.com/v1/chat/completions \"HTTP/1.1 200 OK\"\n"
     ]
    },
    {
     "name": "stdout",
     "output_type": "stream",
     "text": [
      "Response format: {'sentences': '日本政府当然不认同这种看法。', 'text': '0'}\n"
     ]
    },
    {
     "name": "stderr",
     "output_type": "stream",
     "text": [
      "2025-03-06 14:18:50,753 - INFO - HTTP Request: POST https://api.openai.com/v1/chat/completions \"HTTP/1.1 200 OK\"\n"
     ]
    },
    {
     "ename": "KeyboardInterrupt",
     "evalue": "",
     "output_type": "error",
     "traceback": [
      "\u001B[1;31m---------------------------------------------------------------------------\u001B[0m",
      "\u001B[1;31mKeyboardInterrupt\u001B[0m                         Traceback (most recent call last)",
      "Cell \u001B[1;32mIn[13], line 50\u001B[0m, in \u001B[0;36mrun_sentiment_analysis\u001B[1;34m(data, output_file)\u001B[0m\n\u001B[0;32m     48\u001B[0m future_to_article \u001B[38;5;241m=\u001B[39m {executor\u001B[38;5;241m.\u001B[39msubmit(analyze_sentiment_per_sentence, article): article \u001B[38;5;28;01mfor\u001B[39;00m article \u001B[38;5;129;01min\u001B[39;00m data}\n\u001B[1;32m---> 50\u001B[0m \u001B[38;5;28;01mfor\u001B[39;00m future \u001B[38;5;129;01min\u001B[39;00m as_completed(future_to_article):\n\u001B[0;32m     51\u001B[0m     article \u001B[38;5;241m=\u001B[39m future_to_article[future]  \u001B[38;5;66;03m# 원본 기사 가져오기\u001B[39;00m\n",
      "File \u001B[1;32m~\\AppData\\Local\\Programs\\Python\\Python310\\lib\\concurrent\\futures\\_base.py:245\u001B[0m, in \u001B[0;36mas_completed\u001B[1;34m(fs, timeout)\u001B[0m\n\u001B[0;32m    241\u001B[0m         \u001B[38;5;28;01mraise\u001B[39;00m \u001B[38;5;167;01mTimeoutError\u001B[39;00m(\n\u001B[0;32m    242\u001B[0m                 \u001B[38;5;124m'\u001B[39m\u001B[38;5;132;01m%d\u001B[39;00m\u001B[38;5;124m (of \u001B[39m\u001B[38;5;132;01m%d\u001B[39;00m\u001B[38;5;124m) futures unfinished\u001B[39m\u001B[38;5;124m'\u001B[39m \u001B[38;5;241m%\u001B[39m (\n\u001B[0;32m    243\u001B[0m                 \u001B[38;5;28mlen\u001B[39m(pending), total_futures))\n\u001B[1;32m--> 245\u001B[0m \u001B[43mwaiter\u001B[49m\u001B[38;5;241;43m.\u001B[39;49m\u001B[43mevent\u001B[49m\u001B[38;5;241;43m.\u001B[39;49m\u001B[43mwait\u001B[49m\u001B[43m(\u001B[49m\u001B[43mwait_timeout\u001B[49m\u001B[43m)\u001B[49m\n\u001B[0;32m    247\u001B[0m \u001B[38;5;28;01mwith\u001B[39;00m waiter\u001B[38;5;241m.\u001B[39mlock:\n",
      "File \u001B[1;32m~\\AppData\\Local\\Programs\\Python\\Python310\\lib\\threading.py:607\u001B[0m, in \u001B[0;36mEvent.wait\u001B[1;34m(self, timeout)\u001B[0m\n\u001B[0;32m    606\u001B[0m \u001B[38;5;28;01mif\u001B[39;00m \u001B[38;5;129;01mnot\u001B[39;00m signaled:\n\u001B[1;32m--> 607\u001B[0m     signaled \u001B[38;5;241m=\u001B[39m \u001B[38;5;28;43mself\u001B[39;49m\u001B[38;5;241;43m.\u001B[39;49m\u001B[43m_cond\u001B[49m\u001B[38;5;241;43m.\u001B[39;49m\u001B[43mwait\u001B[49m\u001B[43m(\u001B[49m\u001B[43mtimeout\u001B[49m\u001B[43m)\u001B[49m\n\u001B[0;32m    608\u001B[0m \u001B[38;5;28;01mreturn\u001B[39;00m signaled\n",
      "File \u001B[1;32m~\\AppData\\Local\\Programs\\Python\\Python310\\lib\\threading.py:320\u001B[0m, in \u001B[0;36mCondition.wait\u001B[1;34m(self, timeout)\u001B[0m\n\u001B[0;32m    319\u001B[0m \u001B[38;5;28;01mif\u001B[39;00m timeout \u001B[38;5;129;01mis\u001B[39;00m \u001B[38;5;28;01mNone\u001B[39;00m:\n\u001B[1;32m--> 320\u001B[0m     \u001B[43mwaiter\u001B[49m\u001B[38;5;241;43m.\u001B[39;49m\u001B[43macquire\u001B[49m\u001B[43m(\u001B[49m\u001B[43m)\u001B[49m\n\u001B[0;32m    321\u001B[0m     gotit \u001B[38;5;241m=\u001B[39m \u001B[38;5;28;01mTrue\u001B[39;00m\n",
      "\u001B[1;31mKeyboardInterrupt\u001B[0m: ",
      "\nDuring handling of the above exception, another exception occurred:\n",
      "\u001B[1;31mKeyboardInterrupt\u001B[0m                         Traceback (most recent call last)",
      "Cell \u001B[1;32mIn[14], line 2\u001B[0m\n\u001B[0;32m      1\u001B[0m output_path \u001B[38;5;241m=\u001B[39m \u001B[38;5;124m\"\u001B[39m\u001B[38;5;124m../data/0306/results문장하나하나.json\u001B[39m\u001B[38;5;124m\"\u001B[39m\n\u001B[1;32m----> 2\u001B[0m \u001B[43mrun_sentiment_analysis\u001B[49m\u001B[43m(\u001B[49m\u001B[43mdata\u001B[49m\u001B[43m,\u001B[49m\u001B[43m \u001B[49m\u001B[43moutput_path\u001B[49m\u001B[43m)\u001B[49m\n",
      "Cell \u001B[1;32mIn[13], line 47\u001B[0m, in \u001B[0;36mrun_sentiment_analysis\u001B[1;34m(data, output_file)\u001B[0m\n\u001B[0;32m     44\u001B[0m results \u001B[38;5;241m=\u001B[39m []\n\u001B[0;32m     46\u001B[0m \u001B[38;5;66;03m# 기사별 병렬 실행 (최대 3개 스레드 사용)\u001B[39;00m\n\u001B[1;32m---> 47\u001B[0m \u001B[38;5;28;01mwith\u001B[39;00m ThreadPoolExecutor(max_workers\u001B[38;5;241m=\u001B[39m\u001B[38;5;241m3\u001B[39m) \u001B[38;5;28;01mas\u001B[39;00m executor:\n\u001B[0;32m     48\u001B[0m     future_to_article \u001B[38;5;241m=\u001B[39m {executor\u001B[38;5;241m.\u001B[39msubmit(analyze_sentiment_per_sentence, article): article \u001B[38;5;28;01mfor\u001B[39;00m article \u001B[38;5;129;01min\u001B[39;00m data}\n\u001B[0;32m     50\u001B[0m     \u001B[38;5;28;01mfor\u001B[39;00m future \u001B[38;5;129;01min\u001B[39;00m as_completed(future_to_article):\n",
      "File \u001B[1;32m~\\AppData\\Local\\Programs\\Python\\Python310\\lib\\concurrent\\futures\\_base.py:649\u001B[0m, in \u001B[0;36mExecutor.__exit__\u001B[1;34m(self, exc_type, exc_val, exc_tb)\u001B[0m\n\u001B[0;32m    648\u001B[0m \u001B[38;5;28;01mdef\u001B[39;00m\u001B[38;5;250m \u001B[39m\u001B[38;5;21m__exit__\u001B[39m(\u001B[38;5;28mself\u001B[39m, exc_type, exc_val, exc_tb):\n\u001B[1;32m--> 649\u001B[0m     \u001B[38;5;28;43mself\u001B[39;49m\u001B[38;5;241;43m.\u001B[39;49m\u001B[43mshutdown\u001B[49m\u001B[43m(\u001B[49m\u001B[43mwait\u001B[49m\u001B[38;5;241;43m=\u001B[39;49m\u001B[38;5;28;43;01mTrue\u001B[39;49;00m\u001B[43m)\u001B[49m\n\u001B[0;32m    650\u001B[0m     \u001B[38;5;28;01mreturn\u001B[39;00m \u001B[38;5;28;01mFalse\u001B[39;00m\n",
      "File \u001B[1;32m~\\AppData\\Local\\Programs\\Python\\Python310\\lib\\concurrent\\futures\\thread.py:235\u001B[0m, in \u001B[0;36mThreadPoolExecutor.shutdown\u001B[1;34m(self, wait, cancel_futures)\u001B[0m\n\u001B[0;32m    233\u001B[0m \u001B[38;5;28;01mif\u001B[39;00m wait:\n\u001B[0;32m    234\u001B[0m     \u001B[38;5;28;01mfor\u001B[39;00m t \u001B[38;5;129;01min\u001B[39;00m \u001B[38;5;28mself\u001B[39m\u001B[38;5;241m.\u001B[39m_threads:\n\u001B[1;32m--> 235\u001B[0m         \u001B[43mt\u001B[49m\u001B[38;5;241;43m.\u001B[39;49m\u001B[43mjoin\u001B[49m\u001B[43m(\u001B[49m\u001B[43m)\u001B[49m\n",
      "File \u001B[1;32m~\\AppData\\Local\\Programs\\Python\\Python310\\lib\\threading.py:1096\u001B[0m, in \u001B[0;36mThread.join\u001B[1;34m(self, timeout)\u001B[0m\n\u001B[0;32m   1093\u001B[0m     \u001B[38;5;28;01mraise\u001B[39;00m \u001B[38;5;167;01mRuntimeError\u001B[39;00m(\u001B[38;5;124m\"\u001B[39m\u001B[38;5;124mcannot join current thread\u001B[39m\u001B[38;5;124m\"\u001B[39m)\n\u001B[0;32m   1095\u001B[0m \u001B[38;5;28;01mif\u001B[39;00m timeout \u001B[38;5;129;01mis\u001B[39;00m \u001B[38;5;28;01mNone\u001B[39;00m:\n\u001B[1;32m-> 1096\u001B[0m     \u001B[38;5;28;43mself\u001B[39;49m\u001B[38;5;241;43m.\u001B[39;49m\u001B[43m_wait_for_tstate_lock\u001B[49m\u001B[43m(\u001B[49m\u001B[43m)\u001B[49m\n\u001B[0;32m   1097\u001B[0m \u001B[38;5;28;01melse\u001B[39;00m:\n\u001B[0;32m   1098\u001B[0m     \u001B[38;5;66;03m# the behavior of a negative timeout isn't documented, but\u001B[39;00m\n\u001B[0;32m   1099\u001B[0m     \u001B[38;5;66;03m# historically .join(timeout=x) for x<0 has acted as if timeout=0\u001B[39;00m\n\u001B[0;32m   1100\u001B[0m     \u001B[38;5;28mself\u001B[39m\u001B[38;5;241m.\u001B[39m_wait_for_tstate_lock(timeout\u001B[38;5;241m=\u001B[39m\u001B[38;5;28mmax\u001B[39m(timeout, \u001B[38;5;241m0\u001B[39m))\n",
      "File \u001B[1;32m~\\AppData\\Local\\Programs\\Python\\Python310\\lib\\threading.py:1116\u001B[0m, in \u001B[0;36mThread._wait_for_tstate_lock\u001B[1;34m(self, block, timeout)\u001B[0m\n\u001B[0;32m   1113\u001B[0m     \u001B[38;5;28;01mreturn\u001B[39;00m\n\u001B[0;32m   1115\u001B[0m \u001B[38;5;28;01mtry\u001B[39;00m:\n\u001B[1;32m-> 1116\u001B[0m     \u001B[38;5;28;01mif\u001B[39;00m \u001B[43mlock\u001B[49m\u001B[38;5;241;43m.\u001B[39;49m\u001B[43macquire\u001B[49m\u001B[43m(\u001B[49m\u001B[43mblock\u001B[49m\u001B[43m,\u001B[49m\u001B[43m \u001B[49m\u001B[43mtimeout\u001B[49m\u001B[43m)\u001B[49m:\n\u001B[0;32m   1117\u001B[0m         lock\u001B[38;5;241m.\u001B[39mrelease()\n\u001B[0;32m   1118\u001B[0m         \u001B[38;5;28mself\u001B[39m\u001B[38;5;241m.\u001B[39m_stop()\n",
      "\u001B[1;31mKeyboardInterrupt\u001B[0m: "
     ]
    },
    {
     "name": "stdout",
     "output_type": "stream",
     "text": [
      "Response format: {'sentences': '安倍不应纠结于这个问题。', 'text': '-2'}\n"
     ]
    }
   ],
   "execution_count": 14
  },
  {
   "metadata": {
    "ExecuteTime": {
     "end_time": "2025-03-06T05:18:50.844719300Z",
     "start_time": "2025-03-06T05:13:13.876196Z"
    }
   },
   "cell_type": "code",
   "source": "",
   "id": "c70433abe3bbef5",
   "outputs": [],
   "execution_count": null
  }
 ],
 "metadata": {
  "kernelspec": {
   "display_name": "Python 3",
   "language": "python",
   "name": "python3"
  },
  "language_info": {
   "codemirror_mode": {
    "name": "ipython",
    "version": 2
   },
   "file_extension": ".py",
   "mimetype": "text/x-python",
   "name": "python",
   "nbconvert_exporter": "python",
   "pygments_lexer": "ipython2",
   "version": "2.7.6"
  }
 },
 "nbformat": 4,
 "nbformat_minor": 5
}
