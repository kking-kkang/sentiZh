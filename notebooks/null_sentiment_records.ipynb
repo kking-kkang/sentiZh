{
 "cells": [
  {
   "cell_type": "code",
   "id": "initial_id",
   "metadata": {
    "collapsed": true,
    "ExecuteTime": {
     "end_time": "2025-03-17T08:53:20.401231Z",
     "start_time": "2025-03-17T08:53:20.373307Z"
    }
   },
   "source": [
    "import json\n",
    "\n",
    "# 파일 경로\n",
    "file_path = \"../data/0310/results/2020.json\"\n",
    "\n",
    "# JSON 파일 로드\n",
    "with open(file_path, \"r\", encoding=\"utf-8\") as file:\n",
    "    data = json.load(file)\n",
    "\n",
    "# sentiment_scores와 avg_sentiment_score가 None 또는 존재하지 않는 경우 찾기\n",
    "null_sentiment_records = [\n",
    "    record for record in data if\n",
    "    (\"sentiment_scores\" not in record or record[\"sentiment_scores\"] is None) or\n",
    "    (\"avg_sentiment_score\" not in record or record[\"avg_sentiment_score\"] is None)\n",
    "]\n",
    "\n",
    "# 결과 출력\n",
    "print(f\"널 값이 포함된 레코드 개수: {len(null_sentiment_records)}\")\n",
    "for record in null_sentiment_records:\n",
    "    print(f\"Title: {record.get('title', 'No Title')}\")\n",
    "    print(f\"sentiment_scores: {record.get('sentiment_scores', 'Missing')}\")\n",
    "    print(f\"avg_sentiment_score: {record.get('avg_sentiment_score', 'Missing')}\")\n",
    "    print(\"-\" * 50)\n"
   ],
   "outputs": [
    {
     "name": "stdout",
     "output_type": "stream",
     "text": [
      "널 값이 포함된 레코드 개수: 0\n"
     ]
    }
   ],
   "execution_count": 3
  },
  {
   "metadata": {},
   "cell_type": "code",
   "outputs": [],
   "execution_count": null,
   "source": "",
   "id": "3fa63551eafbca7"
  }
 ],
 "metadata": {
  "kernelspec": {
   "display_name": "Python 3",
   "language": "python",
   "name": "python3"
  },
  "language_info": {
   "codemirror_mode": {
    "name": "ipython",
    "version": 2
   },
   "file_extension": ".py",
   "mimetype": "text/x-python",
   "name": "python",
   "nbconvert_exporter": "python",
   "pygments_lexer": "ipython2",
   "version": "2.7.6"
  }
 },
 "nbformat": 4,
 "nbformat_minor": 5
}
