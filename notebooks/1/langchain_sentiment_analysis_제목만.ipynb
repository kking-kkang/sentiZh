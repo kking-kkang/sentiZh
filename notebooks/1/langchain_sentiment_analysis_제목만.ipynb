{
 "cells": [
  {
   "metadata": {},
   "cell_type": "markdown",
   "source": "##  감성체인 생성",
   "id": "ee2a467c8072179c"
  },
  {
   "metadata": {
    "collapsed": true,
    "ExecuteTime": {
     "end_time": "2025-03-19T05:55:18.983420Z",
     "start_time": "2025-03-19T05:55:18.969430Z"
    }
   },
   "cell_type": "code",
   "source": [
    "import os\n",
    "import time\n",
    "import random\n",
    "from dotenv import load_dotenv\n",
    "from langchain_openai import ChatOpenAI\n",
    "from langchain.prompts import PromptTemplate\n",
    "from langchain.chains import LLMChain  # LLMChain을 사용하여 Chain을 구성합니다\n",
    "import logging\n",
    "import traceback"
   ],
   "id": "initial_id",
   "outputs": [],
   "execution_count": 7
  },
  {
   "metadata": {
    "ExecuteTime": {
     "end_time": "2025-03-19T05:55:19.917270Z",
     "start_time": "2025-03-19T05:55:19.903285Z"
    }
   },
   "cell_type": "code",
   "source": [
    "# 로깅 설정\n",
    "logging.basicConfig(level=logging.INFO, format='%(asctime)s - %(levelname)s - %(message)s')\n",
    "logger = logging.getLogger()"
   ],
   "id": "c190c2b81ad05c31",
   "outputs": [],
   "execution_count": 8
  },
  {
   "metadata": {
    "ExecuteTime": {
     "end_time": "2025-03-19T05:55:21.162065Z",
     "start_time": "2025-03-19T05:55:21.117188Z"
    }
   },
   "cell_type": "code",
   "source": [
    "load_dotenv()\n",
    "api_key = os.getenv(\"OPENAI_API_KEY\")\n",
    "\n",
    "# OpenAI LLM 모델 설정\n",
    "llm = ChatOpenAI(openai_api_key=api_key, model_name=\"gpt-4-turbo-preview\", temperature=0.3)\n",
    "\n",
    "# 감성 분석 기본 프롬프트\n",
    "prompt_template = PromptTemplate.from_template(\n",
    "    \"\"\"你是一名研究中国的社会科学家，你的任务是分析中国新闻对“美日韩”三边关系的报道，并从中国的视角分析这些报道题目的情感**。\n",
    "\n",
    "    **评分标准**：\n",
    "    - 强烈负面 (-5): 极端消极\n",
    "    - 负面 (-3 ~ -4): 较为消极\n",
    "    - 轻微负面 (-1 ~ -2): 略微消极\n",
    "    - 中立 (0): 纯粹的事实陈述，不带有任何情感倾向。\n",
    "    - 轻微正面 (+1 ~ +2): 略微积极\n",
    "    - 正面 (+3 ~ +4): 较为积极\n",
    "    - 强烈正面 (+5): 极端积极\n",
    "\n",
    "    **请严格分析以下新闻文章的题目，并仅返回每个题目的情感分数，每行一个分数，不要包含任何额外的文本、注释或解释。所有提供的题目都必须进行情感分析，不得遗漏任何文章。**\n",
    "\n",
    "    **新闻题目**\n",
    "    {title}\n",
    "\"\"\"\n",
    ")"
   ],
   "id": "4dc15629ba0cfd45",
   "outputs": [],
   "execution_count": 9
  },
  {
   "metadata": {
    "ExecuteTime": {
     "end_time": "2025-03-19T05:55:22.273939Z",
     "start_time": "2025-03-19T05:55:22.262969Z"
    }
   },
   "cell_type": "code",
   "source": [
    "# 체인 구성\n",
    "sentiment_chain = LLMChain(prompt=prompt_template, llm=llm)"
   ],
   "id": "1f877161297ba8c",
   "outputs": [],
   "execution_count": 10
  },
  {
   "metadata": {},
   "cell_type": "markdown",
   "source": "## 데이터 로드",
   "id": "37d8092a301df572"
  },
  {
   "metadata": {
    "ExecuteTime": {
     "end_time": "2025-03-19T06:49:48.418547Z",
     "start_time": "2025-03-19T06:49:48.400608Z"
    }
   },
   "cell_type": "code",
   "source": [
    "import json\n",
    "\n",
    "# JSON 파일 로드\n",
    "file_path = \"../../data/title/2020.json\"\n",
    "with open(file_path, \"r\", encoding=\"utf-8\") as f:\n",
    "    data = json.load(f)\n",
    "\n",
    "print(f\"총 {len(data)}개의 기사 로드 완료\")"
   ],
   "id": "938d7e448855de31",
   "outputs": [
    {
     "name": "stdout",
     "output_type": "stream",
     "text": [
      "총 11개의 기사 로드 완료\n"
     ]
    }
   ],
   "execution_count": 14
  },
  {
   "metadata": {},
   "cell_type": "markdown",
   "source": "## 감성분석 수행 함수",
   "id": "89621321c416108f"
  },
  {
   "metadata": {
    "ExecuteTime": {
     "end_time": "2025-03-19T05:55:26.403861Z",
     "start_time": "2025-03-19T05:55:26.390895Z"
    }
   },
   "cell_type": "code",
   "source": [
    "def analyze_sentiment(article):\n",
    "    \"\"\"기사 제목만 입력하고 감성 점수를 분석하는 함수\"\"\"\n",
    "    try:\n",
    "        delay_time = random.uniform(10, 15)  # 10~15초 랜덤 딜레이\n",
    "        time.sleep(delay_time)\n",
    "\n",
    "        # 제목만 전달\n",
    "        input_data = {\"title\": article[\"title\"]}\n",
    "\n",
    "        print(f\"Sending request for '{article['title']}': {input_data}\")\n",
    "        response = sentiment_chain.invoke(input_data)\n",
    "        print(f\"Response for '{article['title']}': {response}\")\n",
    "\n",
    "        if isinstance(response, dict) and 'text' in response:\n",
    "            article[\"sentiment_responses\"] = response['text'].strip()  # 감성 분석 결과 저장\n",
    "        else:\n",
    "            print(f\"Error: 'text' key not found in response for '{article['title']}'\")\n",
    "            article[\"sentiment_responses\"] = \"\"\n",
    "\n",
    "        return article\n",
    "    except Exception as e:\n",
    "        print(f\"Exception occurred while processing '{article['title']}': {e}\")\n",
    "        article[\"sentiment_responses\"] = \"\"\n",
    "        return article\n",
    "\n",
    "def retry_request(article, max_retries=2, delay_factor=2):\n",
    "    \"\"\"백오프 전략을 적용하여 감성 분석 요청을 재시도하는 함수\"\"\"\n",
    "    result = article.copy()  # 기본값 설정\n",
    "    for attempt in range(max_retries):\n",
    "        result = analyze_sentiment(article)\n",
    "        if result[\"sentiment_responses\"] != \"\":\n",
    "            return result\n",
    "        else:\n",
    "            print(f\"Retry {attempt + 1}/{max_retries} for '{article['title']}' due to error.\")\n",
    "            time.sleep(random.uniform(30, 40) * delay_factor)\n",
    "            delay_factor *= 2\n",
    "    return result\n",
    "\n",
    "def run_sentiment_analysis(data, output_file):\n",
    "    \"\"\"JSON 파일을 로드하여 감성 분석을 실행하고 결과를 저장하는 함수\"\"\"\n",
    "    results = []\n",
    "\n",
    "    for article in data:\n",
    "        processed_article = retry_request(article)\n",
    "        results.append(processed_article)\n",
    "\n",
    "        with open(output_file, \"w\", encoding=\"utf-8\") as f:\n",
    "            json.dump(results, f, ensure_ascii=False, indent=4)\n",
    "        print(f\"'{article['title']}' 분석 완료.\")\n",
    "\n",
    "    print(f\"전체 기사 감성 분석 완료. 결과 저장: {output_file}\")\n"
   ],
   "id": "fed0546466fa0756",
   "outputs": [],
   "execution_count": 12
  },
  {
   "metadata": {
    "ExecuteTime": {
     "end_time": "2025-03-19T06:52:28.645596Z",
     "start_time": "2025-03-19T06:50:01.468441Z"
    }
   },
   "cell_type": "code",
   "source": [
    "output_path = \"../../data/title/results/2020.json\"\n",
    "run_sentiment_analysis(data, output_path)"
   ],
   "id": "62f83a54e3793fed",
   "outputs": [
    {
     "name": "stdout",
     "output_type": "stream",
     "text": [
      "Sending request for '美日韩外长会举行,半岛问题、中东局势方面三国并不齐心': {'title': '美日韩外长会举行,半岛问题、中东局势方面三国并不齐心'}\n"
     ]
    },
    {
     "name": "stderr",
     "output_type": "stream",
     "text": [
      "2025-03-19 15:50:17,541 - INFO - HTTP Request: POST https://api.openai.com/v1/chat/completions \"HTTP/1.1 200 OK\"\n"
     ]
    },
    {
     "name": "stdout",
     "output_type": "stream",
     "text": [
      "Response for '美日韩外长会举行,半岛问题、中东局势方面三国并不齐心': {'title': '美日韩外长会举行,半岛问题、中东局势方面三国并不齐心', 'text': '-1'}\n",
      "'美日韩外长会举行,半岛问题、中东局势方面三国并不齐心' 분석 완료.\n",
      "Sending request for '日韩外长在美进行会谈双方矛盾仍然难以弥合': {'title': '日韩外长在美进行会谈双方矛盾仍然难以弥合'}\n"
     ]
    },
    {
     "name": "stderr",
     "output_type": "stream",
     "text": [
      "2025-03-19 15:50:32,543 - INFO - HTTP Request: POST https://api.openai.com/v1/chat/completions \"HTTP/1.1 200 OK\"\n"
     ]
    },
    {
     "name": "stdout",
     "output_type": "stream",
     "text": [
      "Response for '日韩外长在美进行会谈双方矛盾仍然难以弥合': {'title': '日韩外长在美进行会谈双方矛盾仍然难以弥合', 'text': '-2'}\n",
      "'日韩外长在美进行会谈双方矛盾仍然难以弥合' 분석 완료.\n",
      "Sending request for '美日韩外长会举行，半岛问题、中东局势方面三国并不齐心': {'title': '美日韩外长会举行，半岛问题、中东局势方面三国并不齐心'}\n"
     ]
    },
    {
     "name": "stderr",
     "output_type": "stream",
     "text": [
      "2025-03-19 15:50:44,016 - INFO - HTTP Request: POST https://api.openai.com/v1/chat/completions \"HTTP/1.1 200 OK\"\n"
     ]
    },
    {
     "name": "stdout",
     "output_type": "stream",
     "text": [
      "Response for '美日韩外长会举行，半岛问题、中东局势方面三国并不齐心': {'title': '美日韩外长会举行，半岛问题、中东局势方面三国并不齐心', 'text': '-2'}\n",
      "'美日韩外长会举行，半岛问题、中东局势方面三国并不齐心' 분석 완료.\n",
      "Sending request for '美驻韩大使留胡子被韩国人炮轰:日式小胡子,侮辱韩国!': {'title': '美驻韩大使留胡子被韩国人炮轰:日式小胡子,侮辱韩国!'}\n"
     ]
    },
    {
     "name": "stderr",
     "output_type": "stream",
     "text": [
      "2025-03-19 15:50:56,266 - INFO - HTTP Request: POST https://api.openai.com/v1/chat/completions \"HTTP/1.1 200 OK\"\n"
     ]
    },
    {
     "name": "stdout",
     "output_type": "stream",
     "text": [
      "Response for '美驻韩大使留胡子被韩国人炮轰:日式小胡子,侮辱韩国!': {'title': '美驻韩大使留胡子被韩国人炮轰:日式小胡子,侮辱韩国!', 'text': '-3'}\n",
      "'美驻韩大使留胡子被韩国人炮轰:日式小胡子,侮辱韩国!' 분석 완료.\n",
      "Sending request for '军费争执伤了美日韩同盟 - 人民日报': {'title': '军费争执伤了美日韩同盟 - 人民日报'}\n"
     ]
    },
    {
     "name": "stderr",
     "output_type": "stream",
     "text": [
      "2025-03-19 15:51:07,808 - INFO - HTTP Request: POST https://api.openai.com/v1/chat/completions \"HTTP/1.1 200 OK\"\n"
     ]
    },
    {
     "name": "stdout",
     "output_type": "stream",
     "text": [
      "Response for '军费争执伤了美日韩同盟 - 人民日报': {'title': '军费争执伤了美日韩同盟 - 人民日报', 'text': '-3'}\n",
      "'军费争执伤了美日韩同盟 - 人民日报' 분석 완료.\n",
      "Sending request for '朝鲜年内首射火箭炮引关注- 中国国防报': {'title': '朝鲜年内首射火箭炮引关注- 中国国防报'}\n"
     ]
    },
    {
     "name": "stderr",
     "output_type": "stream",
     "text": [
      "2025-03-19 15:51:19,200 - INFO - HTTP Request: POST https://api.openai.com/v1/chat/completions \"HTTP/1.1 200 OK\"\n"
     ]
    },
    {
     "name": "stdout",
     "output_type": "stream",
     "text": [
      "Response for '朝鲜年内首射火箭炮引关注- 中国国防报': {'title': '朝鲜年内首射火箭炮引关注- 中国国防报', 'text': '0'}\n",
      "'朝鲜年内首射火箭炮引关注- 中国国防报' 분석 완료.\n",
      "Sending request for '美对日创纪录军售恐破坏地区稳定': {'title': '美对日创纪录军售恐破坏地区稳定'}\n"
     ]
    },
    {
     "name": "stderr",
     "output_type": "stream",
     "text": [
      "2025-03-19 15:51:34,074 - INFO - HTTP Request: POST https://api.openai.com/v1/chat/completions \"HTTP/1.1 200 OK\"\n"
     ]
    },
    {
     "name": "stdout",
     "output_type": "stream",
     "text": [
      "Response for '美对日创纪录军售恐破坏地区稳定': {'title': '美对日创纪录军售恐破坏地区稳定', 'text': '-3'}\n",
      "'美对日创纪录军售恐破坏地区稳定' 분석 완료.\n",
      "Sending request for '韩公布航母建造计划 专家:保持对日本的竞争性': {'title': '韩公布航母建造计划 专家:保持对日本的竞争性'}\n"
     ]
    },
    {
     "name": "stderr",
     "output_type": "stream",
     "text": [
      "2025-03-19 15:51:49,675 - INFO - HTTP Request: POST https://api.openai.com/v1/chat/completions \"HTTP/1.1 200 OK\"\n"
     ]
    },
    {
     "name": "stdout",
     "output_type": "stream",
     "text": [
      "Response for '韩公布航母建造计划 专家:保持对日本的竞争性': {'title': '韩公布航母建造计划 专家:保持对日本的竞争性', 'text': '-1'}\n",
      "'韩公布航母建造计划 专家:保持对日本的竞争性' 분석 완료.\n",
      "Sending request for '日韩军事合作步履蹒跚 - 人民日报 - 人民网': {'title': '日韩军事合作步履蹒跚 - 人民日报 - 人民网'}\n"
     ]
    },
    {
     "name": "stderr",
     "output_type": "stream",
     "text": [
      "2025-03-19 15:52:01,252 - INFO - HTTP Request: POST https://api.openai.com/v1/chat/completions \"HTTP/1.1 200 OK\"\n"
     ]
    },
    {
     "name": "stdout",
     "output_type": "stream",
     "text": [
      "Response for '日韩军事合作步履蹒跚 - 人民日报 - 人民网': {'title': '日韩军事合作步履蹒跚 - 人民日报 - 人民网', 'text': '-2'}\n",
      "'日韩军事合作步履蹒跚 - 人民日报 - 人民网' 분석 완료.\n",
      "Sending request for '美欲建“印太版北约”仍以自我为中心': {'title': '美欲建“印太版北约”仍以自我为中心'}\n"
     ]
    },
    {
     "name": "stderr",
     "output_type": "stream",
     "text": [
      "2025-03-19 15:52:13,304 - INFO - HTTP Request: POST https://api.openai.com/v1/chat/completions \"HTTP/1.1 200 OK\"\n"
     ]
    },
    {
     "name": "stdout",
     "output_type": "stream",
     "text": [
      "Response for '美欲建“印太版北约”仍以自我为中心': {'title': '美欲建“印太版北约”仍以自我为中心', 'text': '-3'}\n",
      "'美欲建“印太版北约”仍以自我为中心' 분석 완료.\n",
      "Sending request for '急于巩固同盟关系？日韩领导人同日与拜登通话': {'title': '急于巩固同盟关系？日韩领导人同日与拜登通话'}\n"
     ]
    },
    {
     "name": "stderr",
     "output_type": "stream",
     "text": [
      "2025-03-19 15:52:28,625 - INFO - HTTP Request: POST https://api.openai.com/v1/chat/completions \"HTTP/1.1 200 OK\"\n"
     ]
    },
    {
     "name": "stdout",
     "output_type": "stream",
     "text": [
      "Response for '急于巩固同盟关系？日韩领导人同日与拜登通话': {'title': '急于巩固同盟关系？日韩领导人同日与拜登通话', 'text': '-1'}\n",
      "'急于巩固同盟关系？日韩领导人同日与拜登通话' 분석 완료.\n",
      "전체 기사 감성 분석 완료. 결과 저장: ../../data/title/results/2020.json\n"
     ]
    }
   ],
   "execution_count": 15
  },
  {
   "metadata": {
    "ExecuteTime": {
     "end_time": "2025-03-17T08:26:25.693476300Z",
     "start_time": "2025-03-10T07:17:46.777418Z"
    }
   },
   "cell_type": "code",
   "source": "",
   "id": "c70433abe3bbef5",
   "outputs": [],
   "execution_count": null
  }
 ],
 "metadata": {
  "kernelspec": {
   "display_name": "Python 3",
   "language": "python",
   "name": "python3"
  },
  "language_info": {
   "codemirror_mode": {
    "name": "ipython",
    "version": 2
   },
   "file_extension": ".py",
   "mimetype": "text/x-python",
   "name": "python",
   "nbconvert_exporter": "python",
   "pygments_lexer": "ipython2",
   "version": "2.7.6"
  }
 },
 "nbformat": 4,
 "nbformat_minor": 5
}
