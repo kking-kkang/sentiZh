{
 "cells": [
  {
   "metadata": {},
   "cell_type": "markdown",
   "source": "## llm 구성",
   "id": "ee2a467c8072179c"
  },
  {
   "metadata": {
    "collapsed": true,
    "ExecuteTime": {
     "end_time": "2025-02-25T04:48:12.099258Z",
     "start_time": "2025-02-25T04:48:11.526634Z"
    }
   },
   "cell_type": "code",
   "outputs": [],
   "execution_count": 5,
   "source": [
    "import os\n",
    "from dotenv import load_dotenv\n",
    "from langchain_openai import ChatOpenAI\n",
    "from langchain.prompts import PromptTemplate"
   ],
   "id": "initial_id"
  },
  {
   "metadata": {
    "ExecuteTime": {
     "end_time": "2025-02-25T04:48:13.384212Z",
     "start_time": "2025-02-25T04:48:13.330358Z"
    }
   },
   "cell_type": "code",
   "outputs": [],
   "execution_count": 6,
   "source": [
    "load_dotenv()\n",
    "api_key = os.getenv(\"OPENAI_API_KEY\")\n",
    "\n",
    "# OpenAI LLM 모델 설정\n",
    "llm = ChatOpenAI(openai_api_key=api_key, model_name=\"gpt-4-turbo-preview\", temperature=0.3)\n",
    "\n",
    "# 감성 분석 기본 프롬프트\n",
    "prompt_template = PromptTemplate.from_template(\n",
    "    \"\"\"你是一名中国社会科学家，你的任务是分析 \"韩美日\" 三国关系的新闻文章，并从中国的视角进行情感分析。\n",
    "    评分标准：\n",
    "    - 强烈负面 (-5): 对中国极度不利。\n",
    "    - 负面 (-3 ~ -4): 对中国较为不利。\n",
    "    - 轻微负面 (-1 ~ -2): 对中国略微不利。\n",
    "    - 中立 (0): 纯粹的事实陈述，不带有任何情感倾向。\n",
    "    - 轻微正面 (+1 ~ +2): 对中国略微有利。\n",
    "    - 正面 (+3 ~ +4): 对中国较为有利。\n",
    "    - 强烈正面 (+5): 对中国极度有利。\n",
    "\n",
    "    请根据下面的句子，给出最合适的情感分数：\n",
    "    句子: \"{sentence}\"\n",
    "    请仅输出一个数字，不要包含其他文本。\n",
    "    情感分数:\n",
    "\"\"\"\n",
    ")\n",
    "# 당신은 중국 사회과학자입니다. 당신의 임무는 \"한미일\" 삼국 관계 뉴스 기사를 분석하고, 중국의 시각에서 감성 분석을 수행하는 것입니다.\n",
    "# 감성 점수 기준:\n",
    "# - -5: 중국에 극도로 불리한 내용\n",
    "# - -4 ~ -3: 중국에 상당히 불리한 내용\n",
    "# - -2 ~ -1: 중국에 약간 불리한 내용\n",
    "# - 0: 사실 전달에 불과하며, 감정적 편향이 없는 내용\n",
    "# - +1 ~ +2: 중국에 약간 유리한 내용\n",
    "# - +3 ~ +4: 중국에 상당히 유리한 내용\n",
    "# - +5: 중국에 극도로 유리한 내용\n",
    "#아래 문장을 기반으로 가장 적절한 감성 점수를 부여하세요\n",
    "# 문장: \"{sentence}\"\n",
    "# 감성점수:\n"
   ],
   "id": "4dc15629ba0cfd45"
  },
  {
   "metadata": {
    "ExecuteTime": {
     "end_time": "2025-02-25T04:49:51.958189Z",
     "start_time": "2025-02-25T04:49:51.946224Z"
    }
   },
   "cell_type": "code",
   "outputs": [],
   "execution_count": 8,
   "source": [
    "# 체인 구성\n",
    "sentiment_chain = prompt_template | llm"
   ],
   "id": "1f877161297ba8c"
  },
  {
   "metadata": {},
   "cell_type": "markdown",
   "source": "## 감성분석 실행",
   "id": "37d8092a301df572"
  },
  {
   "metadata": {},
   "cell_type": "code",
   "outputs": [],
   "execution_count": null,
   "source": "",
   "id": "938d7e448855de31"
  }
 ],
 "metadata": {
  "kernelspec": {
   "display_name": "Python 3",
   "language": "python",
   "name": "python3"
  },
  "language_info": {
   "codemirror_mode": {
    "name": "ipython",
    "version": 2
   },
   "file_extension": ".py",
   "mimetype": "text/x-python",
   "name": "python",
   "nbconvert_exporter": "python",
   "pygments_lexer": "ipython2",
   "version": "2.7.6"
  }
 },
 "nbformat": 4,
 "nbformat_minor": 5
}
