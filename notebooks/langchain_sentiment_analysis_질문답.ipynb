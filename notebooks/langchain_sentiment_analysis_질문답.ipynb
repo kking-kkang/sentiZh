{
 "cells": [
  {
   "metadata": {},
   "cell_type": "markdown",
   "source": "##  감성체인 생성",
   "id": "ee2a467c8072179c"
  },
  {
   "metadata": {
    "collapsed": true,
    "ExecuteTime": {
     "end_time": "2025-03-08T08:52:17.426287Z",
     "start_time": "2025-03-08T08:52:13.914515Z"
    }
   },
   "cell_type": "code",
   "source": [
    "import os\n",
    "import time\n",
    "from dotenv import load_dotenv\n",
    "from langchain_openai import ChatOpenAI\n",
    "from langchain.prompts import PromptTemplate\n",
    "from concurrent.futures import ThreadPoolExecutor, as_completed\n",
    "from langchain.chains import LLMChain  # LLMChain을 사용하여 Chain을 구성합니다\n",
    "import logging"
   ],
   "id": "initial_id",
   "outputs": [],
   "execution_count": 1
  },
  {
   "metadata": {
    "ExecuteTime": {
     "end_time": "2025-03-08T08:52:17.456225Z",
     "start_time": "2025-03-08T08:52:17.435252Z"
    }
   },
   "cell_type": "code",
   "source": [
    "# 로깅 설정\n",
    "logging.basicConfig(level=logging.INFO, format='%(asctime)s - %(levelname)s - %(message)s')\n",
    "logger = logging.getLogger()"
   ],
   "id": "c190c2b81ad05c31",
   "outputs": [],
   "execution_count": 2
  },
  {
   "metadata": {
    "ExecuteTime": {
     "end_time": "2025-03-08T09:05:46.023269Z",
     "start_time": "2025-03-08T09:05:45.979558Z"
    }
   },
   "cell_type": "code",
   "source": [
    "load_dotenv()\n",
    "api_key = os.getenv(\"OPENAI_API_KEY\")\n",
    "\n",
    "# OpenAI LLM 모델 설정\n",
    "llm = ChatOpenAI(openai_api_key=api_key, model_name=\"gpt-4-turbo-preview\", temperature=0.3)\n",
    "\n",
    "# 감성 분석 기본 프롬프트\n",
    "prompt_template = PromptTemplate.from_template(\n",
    "    \"\"\"你是一名研究中国的社会科学家，你的任务是分析中国外交部发言人在记者会的对“美日韩”三边关系的回答，并从中国的视角分析这些回答的情感**。\n",
    "\n",
    "    **评分标准**：\n",
    "    - 强烈负面 (-5): 极端消极\n",
    "    - 负面 (-3 ~ -4): 较为消极\n",
    "    - 轻微负面 (-1 ~ -2): 略微消极\n",
    "    - 中立 (0): 纯粹的事实陈述，不带有任何情感倾向。\n",
    "    - 轻微正面 (+1 ~ +2): 略微积极\n",
    "    - 正面 (+3 ~ +4): 较为积极\n",
    "    - 强烈正面 (+5): 极端积极\n",
    "\n",
    "    **请严格分析以下新闻文章的所有句子，并为每个句子提供一个情感分数。 句子应根据句号（。）进行分隔，不得遗漏任何句子**。\n",
    "    **新闻文章内容:**\n",
    "    {article_content}\n",
    "\n",
    "    **请返回每个句子的情感分数，每行一个分数，不要包含任何额外的文本、注释或解释。**\n",
    "    \"\"\"\n",
    ")"
   ],
   "id": "4dc15629ba0cfd45",
   "outputs": [],
   "execution_count": 12
  },
  {
   "metadata": {
    "ExecuteTime": {
     "end_time": "2025-03-08T09:05:46.959822Z",
     "start_time": "2025-03-08T09:05:46.948853Z"
    }
   },
   "cell_type": "code",
   "source": [
    "# 체인 구성\n",
    "sentiment_chain = LLMChain(prompt=prompt_template, llm=llm)"
   ],
   "id": "1f877161297ba8c",
   "outputs": [],
   "execution_count": 13
  },
  {
   "metadata": {},
   "cell_type": "markdown",
   "source": "## 데이터 로드",
   "id": "37d8092a301df572"
  },
  {
   "metadata": {
    "ExecuteTime": {
     "end_time": "2025-03-08T09:05:38.607960Z",
     "start_time": "2025-03-08T09:05:38.597018Z"
    }
   },
   "cell_type": "code",
   "source": [
    "import json\n",
    "\n",
    "# JSON 파일 로드\n",
    "file_path = \"../data/0308/full_foreign_ministry_statements (1).json\"\n",
    "with open(file_path, \"r\", encoding=\"utf-8\") as f:\n",
    "    data = json.load(f)\n",
    "\n",
    "print(f\"총 {len(data)}개의 기사 로드 완료\")\n"
   ],
   "id": "938d7e448855de31",
   "outputs": [
    {
     "name": "stdout",
     "output_type": "stream",
     "text": [
      "총 28개의 기사 로드 완료\n"
     ]
    }
   ],
   "execution_count": 11
  },
  {
   "metadata": {},
   "cell_type": "markdown",
   "source": "## 감성분석 수행 함수",
   "id": "89621321c416108f"
  },
  {
   "metadata": {
    "ExecuteTime": {
     "end_time": "2025-03-08T09:05:52.770043Z",
     "start_time": "2025-03-08T09:05:52.757079Z"
    }
   },
   "cell_type": "code",
   "source": [
    "# 감성 분석 수행 함수\n",
    "def analyze_sentiment(article):\n",
    "    \"\"\"기사 전체 본문을 입력하고 문장별 감성 점수를 분석하는 함수\"\"\"\n",
    "    time.sleep(1.5)  # Rate Limit 방지를 위해 대기\n",
    "    try:\n",
    "        # 기사 본문만 전달\n",
    "        input_data = {\"article_content\": article[\"answer\"]}\n",
    "\n",
    "        # `sentiment_chain.run()`을 사용하여 데이터 처리\n",
    "        response = sentiment_chain.invoke(input_data)  # input_data 전달\n",
    "\n",
    "        print(f\"Response format: {response}\")\n",
    "\n",
    "        # 'text' 키에서 감성 분석 결과를 추출하여 'sentiment_responses'에 저장\n",
    "        if isinstance(response, dict):\n",
    "            if 'text' in response:\n",
    "                article[\"sentiment_responses\"] = response['text'].strip()  # 감성 분석 결과 저장\n",
    "            else:\n",
    "                article[\"sentiment_responses\"] = \"Error: 'text' key not found in response\"\n",
    "        else:\n",
    "            article[\"sentiment_responses\"] = \"Error: Response is not a dictionary\"\n",
    "\n",
    "        return article\n",
    "    except Exception as e:\n",
    "        article[\"sentiment_responses\"] = f\"Error: {str(e)}\"  # 오류 발생 시 오류 메시지 저장\n",
    "        return article  # 오류 발생 시에도 응답 내용 저장\n",
    "\n",
    "def process_article(article):\n",
    "    \"\"\"GPT 응답 후처리\"\"\"\n",
    "    sentiment_response = article.get(\"sentiment_responses\", \"\")\n",
    "\n",
    "    # 문장이 없는 경우 바로 반환\n",
    "    if not sentiment_response:\n",
    "        return article\n",
    "\n",
    "    sentiment_scores = []\n",
    "    for line in sentiment_response.split(\"\\n\"):\n",
    "        try:\n",
    "            # 문장별 감성 점수를 처리\n",
    "            sentiment_scores.append(float(line.strip()))  # 각 점수 추가\n",
    "        except (ValueError, IndexError):\n",
    "            continue\n",
    "    article[\"sentiment_scores\"] = sentiment_scores\n",
    "    article[\"avg_sentiment_score\"] = round(sum(sentiment_scores) / len(sentiment_scores), 2) if sentiment_scores else None\n",
    "    return article\n",
    "\n",
    "def run_sentiment_analysis(data, output_file):\n",
    "    \"\"\"JSON 파일을 로드하여 감성 분석을 병렬 실행하고 결과를 저장하는 함수\"\"\"\n",
    "    results = []\n",
    "\n",
    "    # 기사별 병렬 실행 (최대 3개 스레드 사용)\n",
    "    with ThreadPoolExecutor(max_workers=3) as executor:\n",
    "        future_to_article = {executor.submit(analyze_sentiment, article): article for article in data}\n",
    "\n",
    "        for future in as_completed(future_to_article):\n",
    "            article = future_to_article[future]  # 원본 기사 가져오기\n",
    "            processed_article = process_article(article)  # 후처리\n",
    "            if processed_article is not None:\n",
    "                results.append(processed_article)  # 결과 저장\n",
    "\n",
    "            # 중간 저장 (기사별로 즉시 JSON 파일 업데이트)\n",
    "            with open(output_file, \"w\", encoding=\"utf-8\") as f:\n",
    "                json.dump(results, f, ensure_ascii=False, indent=4)\n",
    "            print(f\" '{article['title']}' 분석 완료.\")\n",
    "    print(f\" 전체 기사 감성 분석 완료. {output_file}\")"
   ],
   "id": "fed0546466fa0756",
   "outputs": [],
   "execution_count": 14
  },
  {
   "metadata": {
    "ExecuteTime": {
     "end_time": "2025-03-08T09:07:02.572788Z",
     "start_time": "2025-03-08T09:05:55.294832Z"
    }
   },
   "cell_type": "code",
   "source": [
    "output_path = \"../data/0308/results_full_foreign_ministry_본문별입력_문장별분석.json\"\n",
    "run_sentiment_analysis(data, output_path)"
   ],
   "id": "62f83a54e3793fed",
   "outputs": [
    {
     "name": "stderr",
     "output_type": "stream",
     "text": [
      "2025-03-08 18:05:58,887 - INFO - HTTP Request: POST https://api.openai.com/v1/chat/completions \"HTTP/1.1 200 OK\"\n",
      "2025-03-08 18:05:58,907 - INFO - HTTP Request: POST https://api.openai.com/v1/chat/completions \"HTTP/1.1 200 OK\"\n",
      "2025-03-08 18:05:59,057 - INFO - HTTP Request: POST https://api.openai.com/v1/chat/completions \"HTTP/1.1 200 OK\"\n"
     ]
    },
    {
     "name": "stdout",
     "output_type": "stream",
     "text": [
      "Response format: {'article_content': '美、日、韩三方就朝核问题举行了协调会议，中国代表团正在与这三方进一步交换意见，了解其对这次六方会谈的看法，并且共同商讨如何开好第二轮六方会谈。这些会议的举行，表明有关各方都在认真准备第二轮六方会谈，希望会谈取得积极的成果。中方希望和其他五方共同努力，进行深入磋商，就有关问题达成共识。', 'text': '0\\n0\\n+2\\n+3'}\n",
      " '2004年2月24日外交部发言人章启月在记者招待会上答记者问' 분석 완료.\n",
      "Response format: {'article_content': '关于你提到的第二个问题，最近一段时间以来，六方会谈出现了一些积极势头，有关各方之间保持着密切沟通和协商，我们希望这一势头能继续保持下去，尽快找到进一步向前推进六方会谈的方法。中方愿意和其他有关各方保持密切沟通，并发挥自身应有的作用。关于你提到的美日韩三方会谈，我们希望会谈取得积极成果，有利于有关国家之间关系的改善，有利于六方会谈继续向前推进。', 'text': '2\\n2\\n2\\n2\\n2\\n2'}\n",
      " '2008年5月20日外交部发言人秦刚举行例行记者会' 분석 완료.\n",
      "Response format: {'article_content': '事实上，在六方会谈进程中，各方之间既有在全会上的磋商，也保持着双边或是多边的沟通。我们希望各方能够通过沟通加强了解，扩大六方的共识。实际上，六方会谈的整个过程就是不断寻求和扩大共识的过程。我们希望有关各方能从维护朝鲜半岛和平与稳定的大局出发，从实现半岛无核化的大局出发，拿出诚意，显示灵活，提出切实可行的建议和方案，推动六方会谈不断取得进展。', 'text': '0\\n+1\\n+1\\n+2\\n+2'}\n",
      " '2005年7月12日外交部发言人刘建超在例行记者会上答记者问' 분석 완료.\n"
     ]
    },
    {
     "name": "stderr",
     "output_type": "stream",
     "text": [
      "2025-03-08 18:06:01,244 - INFO - HTTP Request: POST https://api.openai.com/v1/chat/completions \"HTTP/1.1 200 OK\"\n"
     ]
    },
    {
     "name": "stdout",
     "output_type": "stream",
     "text": [
      "Response format: {'article_content': '美日韩都是六方会谈成员国。我们密切关注这个会议究竟要干什么。在当前半岛局势十分复杂敏感的形势下，希望这个会议对半岛局势起降温而不是升温、促进对话而不是对立的积极作用。希望三方能从维护地区和平稳定和半岛无核化大局出发，积极考虑中方日前提出的建议。', 'text': '0\\n0\\n+2\\n+2'}\n",
      " '2010-12-02 外交部发言人姜瑜答记者问' 분석 완료.\n"
     ]
    },
    {
     "name": "stderr",
     "output_type": "stream",
     "text": [
      "2025-03-08 18:06:01,909 - INFO - HTTP Request: POST https://api.openai.com/v1/chat/completions \"HTTP/1.1 200 OK\"\n"
     ]
    },
    {
     "name": "stdout",
     "output_type": "stream",
     "text": [
      "Response format: {'article_content': '中方一贯致力于维护半岛和平稳定，主张通过对话谈判实现半岛无核化和长治久安的目标，并为此做了不懈的努力。中国政府所发挥的积极、建设性作用是有目共睹的。实现半岛无核化，通过对话谈判以和平方式解决半岛核问题，维护半岛和东北亚地区的和平稳定，是中国政府的一贯立场，也是我们处理相关问题的出发点和落脚点。我们始终认为，对话谈判是解决半岛核问题和有关问题、实现半岛长治久安的唯一正确途径。形势的发展进一步证明了重启六方会谈的重要性和紧迫性。我们一直在倡导和平，呼吁对话，希望通过对话，缓和局势，维护半岛和地区的和平稳定。中方已提议举行六方会谈团长紧急磋商，希望能够得到有关各方的理解和支持。只要各方谈起来，总会找到解决问题的办法。', 'text': '2\\n2\\n2\\n2\\n2\\n2\\n2\\n2\\n2'}\n",
      " '2010年12月7日外交部发言人姜瑜举行例行记者会' 분석 완료.\n"
     ]
    },
    {
     "name": "stderr",
     "output_type": "stream",
     "text": [
      "2025-03-08 18:06:02,443 - INFO - HTTP Request: POST https://api.openai.com/v1/chat/completions \"HTTP/1.1 200 OK\"\n"
     ]
    },
    {
     "name": "stdout",
     "output_type": "stream",
     "text": [
      "Response format: {'article_content': '美日韩三国都是朝鲜半岛事务的重要当事方和六方会谈成员。维护半岛的和平稳定符合包括美日韩三国在内的各方的共同利益，希望三国为此发挥积极和建设性作用。', 'text': '0\\n+2'}\n",
      " '2012年1月16日外交部发言人刘为民举行例行记者会' 분석 완료.\n"
     ]
    },
    {
     "name": "stderr",
     "output_type": "stream",
     "text": [
      "2025-03-08 18:06:04,248 - INFO - HTTP Request: POST https://api.openai.com/v1/chat/completions \"HTTP/1.1 200 OK\"\n"
     ]
    },
    {
     "name": "stdout",
     "output_type": "stream",
     "text": [
      "Response format: {'article_content': '中方认为，国际社会的言论和行动应该有助于维护朝鲜半岛和东北亚地区的和平稳定，避免局势升级。', 'text': '0\\n0'}\n",
      " '2012年4月11日外交部发言人刘为民举行例行记者会' 분석 완료.\n"
     ]
    },
    {
     "name": "stderr",
     "output_type": "stream",
     "text": [
      "2025-03-08 18:06:04,627 - INFO - HTTP Request: POST https://api.openai.com/v1/chat/completions \"HTTP/1.1 200 OK\"\n"
     ]
    },
    {
     "name": "stdout",
     "output_type": "stream",
     "text": [
      "Response format: {'article_content': '中方认为，国际社会尤其是亚太国家应该多做维护朝鲜半岛以及东北亚地区的和平稳定的事情，而不是相反。', 'text': '0'}\n",
      " '2012年6月14日外交部发言人刘为民举行例行记者会' 분석 완료.\n"
     ]
    },
    {
     "name": "stderr",
     "output_type": "stream",
     "text": [
      "2025-03-08 18:06:05,926 - INFO - HTTP Request: POST https://api.openai.com/v1/chat/completions \"HTTP/1.1 200 OK\"\n"
     ]
    },
    {
     "name": "stdout",
     "output_type": "stream",
     "text": [
      "Response format: {'article_content': '中方始终坚持实现朝鲜半岛无核化，坚持维护半岛和平稳定，坚持通过对话协商解决朝核问题，这一立场是明确的。实现朝鲜半岛无核化、维护半岛和平稳定符合各方共同利益，需要各方共同努力。前段时间，在各方共同努力下，半岛局势出现一些缓和迹象和积极因素，值得各方珍惜。我们呼吁有关各方着眼大局，保持冷静克制，多做有利于局势缓和的事，维护对话接触势头，为推动六方会谈尽早重启、将朝核问题纳入可信赖、可持续的对话进程创造条件。', 'text': '0\\n+2\\n+1\\n+2\\n+2\\n+2'}\n",
      " '2013年10月9日外交部发言人华春莹主持例行记者会' 분석 완료.\n"
     ]
    },
    {
     "name": "stderr",
     "output_type": "stream",
     "text": [
      "2025-03-08 18:06:08,177 - INFO - HTTP Request: POST https://api.openai.com/v1/chat/completions \"HTTP/1.1 200 OK\"\n",
      "2025-03-08 18:06:08,302 - INFO - HTTP Request: POST https://api.openai.com/v1/chat/completions \"HTTP/1.1 200 OK\"\n"
     ]
    },
    {
     "name": "stdout",
     "output_type": "stream",
     "text": [
      "Response format: {'article_content': '据我们了解，此次会晤的主要议题是朝鲜半岛核问题。中方一直认为，妥善处理朝鲜半岛核问题、维护半岛和东北亚地区和平稳定符合有关各方共同利益，也需要各方共同努力。中方坚持实现半岛无核化、坚持维护半岛和平稳定、坚持通过对话协商解决有关问题的立场是一贯和明确的。当前形势下，有关各方应着眼大局，多做有利于局势缓和的事，共同维护地区和平稳定，共同为推动重启六方会谈创造有利条件。作为半岛近邻和负责任大国，中方将继续为推动妥善解决有关问题作出不懈努力。', 'text': '0\\n0\\n0\\n+1\\n+2'}\n",
      " '2014年3月26日外交部发言人洪磊主持例行记者会' 분석 완료.\n",
      "Response format: {'article_content': '关于第一个问题，看来你也认为，在当前半岛形势下，美日韩三方多次举行这样军事性质的活动值得关注。我们也认为，正如王毅外长在周六研讨会开幕式上所指出的，现在半岛局势陷入了不断相互示强的恶性循环，这不利于本地区的安全稳定。我相信，如果这样的恶性循环最终导致擦枪走火，甚至半岛生战生乱，肯定不符合任何一方利益。所以，在当前形势下，有关各方应当做的，还是全面、完整、准确执行联合国安理会通过的涉朝决议，多做有利于地区和平稳定、有助于将所有相关各方拉回谈判桌的事，而不是相反，相互刺激。', 'text': '-1\\n-3\\n-2\\n-1\\n-1'}\n",
      " '2017年12月11日外交部发言人陆慷主持例行记者会' 분석 완료.\n"
     ]
    },
    {
     "name": "stderr",
     "output_type": "stream",
     "text": [
      "2025-03-08 18:06:08,738 - INFO - HTTP Request: POST https://api.openai.com/v1/chat/completions \"HTTP/1.1 200 OK\"\n"
     ]
    },
    {
     "name": "stdout",
     "output_type": "stream",
     "text": [
      "Response format: {'article_content': '首先，中方分别与美日韩六方团长会晤的情况，我们已经发布了消息，我没有进一步的补充。中方在朝鲜半岛核问题上的立场没有任何变化，我们坚定致力于半岛无核化，坚定致力于维护半岛和平稳定，坚定致力于各方对话协商，通过政治途径，妥善解决有关问题。', 'text': '0\\n0\\n0'}\n",
      " '2015年6月15日外交部发言人陆慷主持例行记者会' 분석 완료.\n"
     ]
    },
    {
     "name": "stderr",
     "output_type": "stream",
     "text": [
      "2025-03-08 18:06:11,435 - INFO - HTTP Request: POST https://api.openai.com/v1/chat/completions \"HTTP/1.1 200 OK\"\n"
     ]
    },
    {
     "name": "stdout",
     "output_type": "stream",
     "text": [
      "Response format: {'article_content': '我们注意到有关报道，也注意到近期美日韩持续举行大规模联合军事演习。中方在半岛问题上的立场没有变化，将继续为推动半岛问题政治解决发挥积极作用。', 'text': '0\\n-2\\n0\\n+2'}\n",
      " '2022年10月9日外交部发言人毛宁主持例行记者会' 분석 완료.\n"
     ]
    },
    {
     "name": "stderr",
     "output_type": "stream",
     "text": [
      "2025-03-08 18:06:12,616 - INFO - HTTP Request: POST https://api.openai.com/v1/chat/completions \"HTTP/1.1 200 OK\"\n"
     ]
    },
    {
     "name": "stdout",
     "output_type": "stream",
     "text": [
      "Response format: {'article_content': '我们注意到有关报道，也注意到近期美日韩持续举行大规模联合军事演习。中方在半岛问题上的立场没有变化，将继续为推动半岛问题政治解决发挥积极作用。', 'text': '0\\n-2\\n0\\n+2'}\n",
      " '2022年10月10日外交部发言人毛宁主持例行记者会' 분석 완료.\n"
     ]
    },
    {
     "name": "stderr",
     "output_type": "stream",
     "text": [
      "2025-03-08 18:06:13,661 - INFO - HTTP Request: POST https://api.openai.com/v1/chat/completions \"HTTP/1.1 200 OK\"\n"
     ]
    },
    {
     "name": "stdout",
     "output_type": "stream",
     "text": [
      "Response format: {'article_content': '70年来，中俄关系的发展经历了国际风云变幻的考验，也显示出强大的生命力和广阔的发展前景。中俄关系是当今世界结伴而不结盟、对话而不对抗、密切合作的新型大国关系典范。新时代中俄全面战略协作伙伴关系，是当今世界上互信程度最高、协作水平最高、战略价值最高的一对大国关系。这种关系不针对第三方，同时也不会受第三方干扰。中方愿同俄方一道，继续落实好两国元首达成的各项共识，推动中俄新时代全面战略协作伙伴关系不断向前发展。', 'text': '+3\\n+4\\n+5\\n+2\\n+3'}\n",
      " '2019年12月20日外交部发言人耿爽主持例行记者会' 분석 완료.\n"
     ]
    },
    {
     "name": "stderr",
     "output_type": "stream",
     "text": [
      "2025-03-08 18:06:15,114 - INFO - HTTP Request: POST https://api.openai.com/v1/chat/completions \"HTTP/1.1 200 OK\"\n"
     ]
    },
    {
     "name": "stdout",
     "output_type": "stream",
     "text": [
      "Response format: {'article_content': '中方始终坚持维护半岛和平稳定，坚持半岛无核化，构建半岛和平机制，坚持通过对话协商解决问题。当前美韩军演尚未结束，美日韩联合演习又接踵而至，美核动力航母仍在半岛周边游弋，这是半岛局势高烧不退的主要原因。我们希望各方相向而行，均衡解决各自合理关切，维护半岛和平稳定。', 'text': '0\\n-2\\n-1\\n0'}\n",
      " '2023年4月3日外交部发言人毛宁主持例行记者会' 분석 완료.\n"
     ]
    },
    {
     "name": "stderr",
     "output_type": "stream",
     "text": [
      "2025-03-08 18:06:15,590 - INFO - HTTP Request: POST https://api.openai.com/v1/chat/completions \"HTTP/1.1 200 OK\"\n"
     ]
    },
    {
     "name": "stdout",
     "output_type": "stream",
     "text": [
      "Response format: {'article_content': '我们注意到朝方对美日韩联合声明有关加强延伸威慑的表态。希望各方正视半岛症结，均衡解决彼此关切特别是朝方的合理关切。', 'text': '0\\n0'}\n",
      " '2022年11月17日外交部发言人毛宁主持例行记者会' 분석 완료.\n"
     ]
    },
    {
     "name": "stderr",
     "output_type": "stream",
     "text": [
      "2025-03-08 18:06:16,738 - INFO - HTTP Request: POST https://api.openai.com/v1/chat/completions \"HTTP/1.1 200 OK\"\n"
     ]
    },
    {
     "name": "stdout",
     "output_type": "stream",
     "text": [
      "Response format: {'article_content': '近日，我的同事已经就《华盛顿宣言》表明了中方立场。其他方可能参与《华盛顿宣言》、开展合作的动向，只会加剧地区紧张局势，破坏核不扩散体系，损害他国战略利益。希望有关国家不要在错误的道路上越走越远。朝鲜半岛问题的根源和脉络是清楚的。拉帮结派、搞小圈子对抗的做法没有出路。各方应当坚持政治解决方向，致力于均衡解决各自合理关切，维护半岛和平稳定。关于日本核污染水问题，中方要强调的是，日本福岛核污染水处置问题关乎全球海洋环境和公众健康，绝不是日本一家的私事，理应充分征求包括邻国在内的利益攸关方意见。两年来，中国、韩国、太平洋岛国及日本国内民众一直对核污染水排海错误决定表示严重关切和反对。遗憾的是，日方一直我行我素，没有尽到同利益攸关方充分沟通协商的义务，并试图将核污染水排海的单方面决定强加于邻国及国际社会。日方2021年4月单方面宣布核污染水排海的决定，2022年7月批准排海实施方案，近期还多次公开宣称将于今年启动排海且不会推迟。同时，日方一直标榜核污染水排海的安全性，但迄今没有提供足够的科学和事实依据，解决国际社会对日排海方案正当性、核污染水数据可靠性、净化装置有效性、环境影响不确定性等方面的关切。如果日方真有诚意解决利益攸关方关切，就应当在不预断结果的前提下开展交流，停止强行推进核污染水排海计划，不为排海单方面设定时限，切实解决各方对排海计划的关切，同意讨论除排海以外所有可能的处置方案。否则，任何双边交流、考察都没有实际意义，只会被日方当作推进排海的幌子。', 'text': '-2\\n-3\\n-2\\n0\\n-2\\n-1\\n-3\\n-4\\n-4\\n-4\\n-4\\n-4\\n-3'}\n",
      " '2023年5月8日外交部发言人汪文斌主持例行记者会' 분석 완료.\n"
     ]
    },
    {
     "name": "stderr",
     "output_type": "stream",
     "text": [
      "2025-03-08 18:06:17,950 - INFO - HTTP Request: POST https://api.openai.com/v1/chat/completions \"HTTP/1.1 200 OK\"\n"
     ]
    },
    {
     "name": "stdout",
     "output_type": "stream",
     "text": [
      "Response format: {'article_content': '朝鲜半岛问题的本质是政治和安全问题，根源在于冷战残余仍存、和平机制缺失。美日韩以半岛问题为借口加强军事合作，无助于化解冷战残余、推动半岛和平机制进程，只会加剧地区阵营对抗风险，破坏各方本就脆弱的互信，损害他国战略安全利益。...', 'text': '-1\\n-3\\n-4\\n-4\\n-3'}\n",
      " '2023年5月9日外交部发言人汪文斌主持例行记者会' 분석 완료.\n"
     ]
    },
    {
     "name": "stderr",
     "output_type": "stream",
     "text": [
      "2025-03-08 18:06:18,896 - INFO - HTTP Request: POST https://api.openai.com/v1/chat/completions \"HTTP/1.1 200 OK\"\n"
     ]
    },
    {
     "name": "stdout",
     "output_type": "stream",
     "text": [
      "Response format: {'article_content': '中方关注近期朝鲜半岛形势发展，对有关方拼凑军事“小圈子”、举行各类刺激性军演、加强“延伸威慑”和情报共享合作等行为感到担忧。上述举动对缓和半岛形势没有任何助益，只会加剧军备竞赛、破坏核不扩散体系、破坏地区和平稳定。', 'text': '-2\\n-4\\n-4'}\n",
      " '2023年5月26日外交部发言人毛宁主持例行记者会' 분석 완료.\n"
     ]
    },
    {
     "name": "stderr",
     "output_type": "stream",
     "text": [
      "2025-03-08 18:06:19,225 - INFO - HTTP Request: POST https://api.openai.com/v1/chat/completions \"HTTP/1.1 200 OK\"\n"
     ]
    },
    {
     "name": "stdout",
     "output_type": "stream",
     "text": [
      "Response format: {'article_content': '中方反对有关国家拼凑各种“小圈子”，反对加剧对立、损害他国战略安全的做法。希望有关国家顺应时代发展潮流，多做有利于地区和平、稳定与繁荣的事。', 'text': '-3\\n-1'}\n",
      " '2023年8月15日外交部发言人汪文斌主持例行记者会' 분석 완료.\n"
     ]
    },
    {
     "name": "stderr",
     "output_type": "stream",
     "text": [
      "2025-03-08 18:06:20,510 - INFO - HTTP Request: POST https://api.openai.com/v1/chat/completions \"HTTP/1.1 200 OK\"\n"
     ]
    },
    {
     "name": "stdout",
     "output_type": "stream",
     "text": [
      "Response format: {'article_content': '面对变乱交织的国际安全形势，各方应当秉持安全共同体理念，坚持真正的多边主义，协力应对各种安全挑战。任何国家都不应以牺牲他国安全利益、损害地区和平稳定为代价，谋求自身安全。究竟是谁在制造矛盾、加剧紧张，国际社会自有公论。亚太地区是和平发展的高地、合作发展的热土，绝不能再成为地缘争夺的角斗场。拼凑各种排他性“小圈子”“小集团”，将阵营对抗和军事集团带入亚太的企图不得人心，势必招致地区国家的警惕和反对。面对变乱交织的国际安全形势，各方应当秉持安全共同体理念，坚持真正的多边主义，协力应对各种安全挑战。任何国家都不应以牺牲他国安全利益、损害地区和平稳定为代价，谋求自身安全。...', 'text': '0\\n0\\n-2\\n-1\\n-3\\n0\\n0'}\n",
      " '2023年8月18日外交部发言人汪文斌主持例行记者会' 분석 완료.\n"
     ]
    },
    {
     "name": "stderr",
     "output_type": "stream",
     "text": [
      "2025-03-08 18:06:22,880 - INFO - HTTP Request: POST https://api.openai.com/v1/chat/completions \"HTTP/1.1 200 OK\"\n"
     ]
    },
    {
     "name": "stdout",
     "output_type": "stream",
     "text": [
      "Response format: {'article_content': '首先我要说的是，有关方执迷于搞‘小圈子’，以半岛问题为借口加强军事合作、谋求地缘私利，只会加剧地区阵营对抗风险，破坏各方本就脆弱的互信，损害他国战略安全利益。中方敦促有关国家摒弃冷战思维，正视半岛问题症结，停止对抗施压，通过有意义的对话均衡解决各自合理关切，维护半岛和平稳定。你还提到涉‘萨德’相关问题，我要告诉大家的是，我们在相关问题上的立场和关切韩方是清楚的，双方一直就此保持着沟通。我们希望韩方按照双方有关共识继续妥善处理这一问题。', 'text': '-3\\n-3\\n-2\\n-1\\n-1'}\n",
      " '2023年8月21日外交部发言人汪文斌主持例行记者会' 분석 완료.\n"
     ]
    },
    {
     "name": "stderr",
     "output_type": "stream",
     "text": [
      "2025-03-08 18:06:23,838 - INFO - HTTP Request: POST https://api.openai.com/v1/chat/completions \"HTTP/1.1 200 OK\"\n"
     ]
    },
    {
     "name": "stdout",
     "output_type": "stream",
     "text": [
      "Response format: {'article_content': '中方注意到朴振外长的有关表态。在美日韩领导人戴维营会晤结束后，韩方通过外交渠道向中方介绍了会晤情况，并做了解释说明。针对此次美日韩领导人会晤和共同文件相关情况特别是涉华消极动向，中方已公开表明严正立场和关切，也第一时间向有关方面提出严正交涉。我们奉劝并敦促有关国家谨言慎行，停止抹黑中方形象、损害中方利益，停止制造分裂对抗、损害地区和平稳定，不要以牺牲他国战略安全利益和亚太人民福祉为代价谋一己私利。中方重视韩方表达的希望同中方发展关系的意愿。希望韩方同中方和地区国家一道，拒绝分裂冲突、阵营对抗的旧模式，开辟亚太团结合作、繁荣发展的新前景。', 'text': '0\\n0\\n-2\\n-3\\n-3\\n-1\\n+1\\n+2'}\n",
      " '2023年8月22日外交部发言人汪文斌主持例行记者会' 분석 완료.\n"
     ]
    },
    {
     "name": "stderr",
     "output_type": "stream",
     "text": [
      "2025-03-08 18:06:25,886 - INFO - HTTP Request: POST https://api.openai.com/v1/chat/completions \"HTTP/1.1 200 OK\"\n"
     ]
    },
    {
     "name": "stdout",
     "output_type": "stream",
     "text": [
      "Response format: {'article_content': '中方注意到，朝方宣布发射了卫星，也注意到有关各方的反应。朝鲜半岛形势发展至今事出有因。维护半岛和平稳定，推进半岛问题政治解决进程，符合地区各国共同利益。希望有关各方保持冷静克制，坚持政治解决大方向，按照‘双轨并进’思路和分阶段、同步走原则，开展有意义对话，均衡解决各自合理关切。中方将继续为推动政治解决半岛问题发挥建设性作用。', 'text': '0\\n0\\n+2\\n+2\\n+3\\n+3'}\n",
      " '2023年11月22日外交部发言人毛宁主持例行记者会' 분석 완료.\n"
     ]
    },
    {
     "name": "stderr",
     "output_type": "stream",
     "text": [
      "2025-03-08 18:06:27,518 - INFO - HTTP Request: POST https://api.openai.com/v1/chat/completions \"HTTP/1.1 200 OK\"\n"
     ]
    },
    {
     "name": "stdout",
     "output_type": "stream",
     "text": [
      "Response format: {'article_content': '中方注意到美日韩举行有关对话并发表共同文件，对其中的涉华不当内容表示严重关切。中方坚决反对有关国家以合作为名拼凑排他性‘小圈子’，粗暴干涉中国内政，攻击抹黑中国，煽动对抗对立。当前南海局势总体稳定。中国始终坚定捍卫领土主权和海洋权益，同时致力于同有关当事国通过对话协商妥善处理分歧。个别域外国家在南海炫耀武力，挑动对抗，不利于南海和平稳定。我要强调的是，台湾是中国领土不可分割的一部分，台湾问题纯属中国内政，不容任何外部势力干涉。维护台海和平稳定的关键在于坚持一个中国原则，坚决反对‘台独’分裂。亚太地区是和平发展的高地，不是大国博弈的棋局。我们敦促有关方面切实尊重地区国家维护和平稳定的努力，摒弃冷战思维，停止制造阵营对抗、加剧地区局势紧张。', 'text': '-2\\n-4\\n0\\n-1\\n-3\\n-2\\n-3\\n-1\\n-2'}\n",
      " '2024年1月8日外交部发言人毛宁主持例行记者会' 분석 완료.\n"
     ]
    },
    {
     "name": "stderr",
     "output_type": "stream",
     "text": [
      "2025-03-08 18:06:29,359 - INFO - HTTP Request: POST https://api.openai.com/v1/chat/completions \"HTTP/1.1 200 OK\"\n"
     ]
    },
    {
     "name": "stdout",
     "output_type": "stream",
     "text": [
      "Response format: {'article_content': '我们注意到你提到的有关情况。美日韩借三边防长会和副外长对话推进所谓‘印太战略’，在台湾问题上说三道四、粗暴干涉中国内政，在涉海问题上再次对中国进行恶意攻击抹黑，蓄意挑拨中国与周边国家关系，严重违背国际关系基本准则，中方表示强烈不满和坚决反对。第一，中方坚决反对操弄集团政治，坚决反对任何挑起和激化矛盾、损害他国战略安全和利益的言行，坚决反对在亚太地区搞封闭排他的‘小圈子’。美方应当把‘不寻求强化同盟关系反对中国’的表态落到实处，不要以牺牲他国战略安全利益和亚太人民福祉为代价谋求私利。第二，一个中国原则是国际社会的普遍共识和国际关系基本准则，台湾问题纯属中国内政，不容任何外部势力干涉。当前台海和平的最大威胁是‘台独’分裂行径和外部势力纵容支持。有关国家如果真的关心台海和平稳定、真的在乎国际安全繁荣，就应该恪守一个中国原则、旗帜鲜明反对‘台独’分裂，支持中国国家统一。第三，中方坚定不移维护自身领土主权和海洋权益，坚持同直接当事国通过对话协商妥处双边涉海问题，同时坚决反对域外国家插手介入、升级事态。美国近年一再怂恿、支持个别国家在海上搞对华挑衅侵权，还纠集盟友在包括南海在内的中国周边海域频繁开展军事演习和抵近侦察，耀武扬威，加剧地区紧张，已经成为地区和平稳定的最大威胁和挑战。第四，中方在朝鲜半岛问题上的基本立场是一贯的。我们始终认为维护半岛和平稳定、推动半岛问题政治解决符合各方共同利益。军事威慑和制裁施压只会激化矛盾、加剧紧张。我们敦促有关方谨言慎行，不要给本已复杂严峻的半岛形势火上浇油。中方会继续基于事情本身的是非曲直和自身立场应对处理半岛事务。', 'text': '-2\\n-4\\n-4\\n-4\\n-4\\n-3\\n-3\\n-3\\n-3\\n-2\\n-2\\n-2\\n-2\\n-1\\n-2\\n-2\\n-1'}\n",
      " '2024年6月3日外交部发言人毛宁主持例行记者会' 분석 완료.\n"
     ]
    },
    {
     "name": "stderr",
     "output_type": "stream",
     "text": [
      "2025-03-08 18:07:02,549 - INFO - HTTP Request: POST https://api.openai.com/v1/chat/completions \"HTTP/1.1 200 OK\"\n"
     ]
    },
    {
     "name": "stdout",
     "output_type": "stream",
     "text": [
      "Response format: {'article_content': '美日韩三国领导人戴维营会晤在台湾、涉海等问题上对中方进行抹黑攻击，粗暴干涉中国内政，蓄意挑拨中国与周边国家关系，严重违背国际关系基本准则，中方表示强烈不满和坚决反对，已向有关方面提出严正交涉。我们也注意到美方表示美日韩伙伴关系不针对任何国家。中方敦促美方言行一致，将‘不寻求强化同盟关系反对中国’的表态落到实处，停止抹黑中方形象、损害中方利益，停止制造分裂对抗、损害地区和平稳定。当前，亚太地区呈现两种趋势。一种是以《区域全面经济伙伴关系协定》、全面与进步跨太平洋伙伴关系协定为代表的地区国家加强团结合作、推动地区经济一体化建设的努力。另一种是以美英澳、美日韩、美日印澳等各式封闭排他的‘小圈子’为代表的煽动分裂对抗、企图复活冷战思维的行径。令人遗憾的是，前者看不到美国的身影，后者却都以华盛顿为轴心。亚太是和平发展的高地，不应成为大国角力的拳击场，更不应成为冷战、热战的战场。一切在亚太挑动‘新冷战’的企图都将遭到地区国家和人民的坚决抵制，一切在亚太建立和维护霸权的行径都注定以失败告终。我们奉劝有关国家不要逆流而动，不要试图在亚太复制阵营对抗模式，不要以牺牲他国战略安全利益与亚太人民福祉为代价维护一己私利。台湾问题纯属中国内政，解决台湾问题是中国自己的事。中方坚持以最大诚意、尽最大努力争取两岸和平统一的前景，但绝不接受任何人、任何势力打着和平的幌子干涉中国内政。当前台海和平的最大威胁是‘台独’分裂行径和外部势力对其纵容支持。有关国家如果真的关心台海和平稳定，就应该恪守一个中国原则，停止纵容支持‘台独’分裂势力及其分裂活动，以实际行动维护地区和平稳定。任何人都不要低估中国人民捍卫国家主权和领土完整的坚强决心、坚定意志和强大能力。我还要指出的是，中国对南海诸岛及其附近海域拥有无可争辩的主权。中方在本国领土上开展建设活动，中国海警船在中国管辖海域进行维权执法活动，合理合法，无可非议。中国作为《联合国海洋法公约》缔约国，一贯忠实履行包括《公约》在内的国际法，不接受、不承认南海仲裁案非法裁决。近年来，美国极力插手介入南海问题，怂恿、支持个别国家海上侵权，挑拨地区国家关系，是地区秩序的搅局者和破坏者。美国还纠集盟友在包括南海在内的中国周边海域频繁开展军事演习和抵近侦察，耀武扬威，加剧地区局势紧张，已成为地区和平稳定的最大威胁和挑战。中方将继续坚定维护自身主权和安全利益，并同东盟国家一道，全面有效落实《南海各方行为宣言》，积极推进‘南海行为准则’磋商，开展涉海务实合作，坚定维护地区和平与稳定，努力推动地区繁荣与发展。', 'text': '-3\\n-3\\n-3\\n-3\\n-2\\n-2\\n-2\\n-2\\n-2\\n-2\\n-2\\n-2\\n-2\\n-2\\n-2\\n-2\\n-2\\n-2\\n-3\\n-3\\n-3\\n-3\\n-3\\n-3\\n-3\\n-3\\n-3\\n-3\\n-3\\n-3\\n-3\\n-3\\n-3\\n-3\\n-3\\n-3\\n-3\\n-3\\n-3\\n-3\\n-3\\n-3\\n-3\\n-3\\n-3\\n-3\\n-3\\n-3\\n-3\\n-3\\n-3\\n-3\\n-3\\n-3\\n-3\\n-3\\n-3\\n-3\\n-3\\n-3\\n-3\\n-3\\n-3\\n-3\\n-3\\n-3\\n-3\\n-3\\n-3\\n-3\\n-3\\n-3\\n-3\\n-3\\n-3\\n-3\\n-3\\n-3\\n-3\\n-3\\n-3\\n-3\\n-3\\n-3\\n-3\\n-3\\n-3\\n-3\\n-3\\n-3\\n-3\\n-3\\n-3\\n-3\\n-3\\n-3\\n-3\\n-3\\n-3\\n-3\\n-3\\n-3\\n-3\\n-3\\n-3\\n-3\\n-3\\n-3\\n-3\\n-3\\n-3\\n-3\\n-3\\n-3\\n-3\\n-3\\n-3\\n-3\\n-3\\n-3\\n-3\\n-3\\n-3\\n-3\\n-3\\n-3\\n-3\\n-3\\n-3\\n-3\\n-3\\n-3\\n-3\\n-3\\n-3\\n-3\\n-3\\n-3\\n-3\\n-3\\n-3\\n-3\\n-3\\n-3\\n-3\\n-3\\n-3\\n-3\\n-3\\n-3\\n-3\\n-3\\n-3\\n-3\\n-3\\n-3\\n-3\\n-3\\n-3\\n-3\\n-3\\n-3\\n-3\\n-3\\n-3\\n-3\\n-3\\n-3\\n-3\\n-3\\n-3\\n-3\\n-3\\n-3\\n-3\\n-3\\n-3\\n-3\\n-3\\n-3\\n-3\\n-3\\n-3\\n-3\\n-3\\n-3\\n-3\\n-3\\n-3\\n-3\\n-3\\n-3\\n-3\\n-3\\n-3\\n-3\\n-3\\n-3\\n-3\\n-3\\n-3\\n-3\\n-3\\n-3\\n-3\\n-3\\n-3\\n-3\\n-3\\n-3\\n-3\\n-3\\n-3\\n-3\\n-3\\n-3\\n-3\\n-3\\n-3\\n-3\\n-3\\n-3\\n-3\\n-3\\n-3\\n-3\\n-3\\n-3\\n-3\\n-3\\n-3\\n-3\\n-3\\n-3\\n-3\\n-3\\n-3\\n-3\\n-3\\n-3\\n-3\\n-3\\n-3\\n-3\\n-3\\n-3\\n-3\\n-3\\n-3\\n-3\\n-3\\n-3\\n-3\\n-3\\n-3\\n-3\\n-3\\n-3\\n-3\\n-3\\n-3\\n-3\\n-3\\n-3\\n-3\\n-3\\n-3\\n-3\\n-3\\n-3\\n-3\\n-3\\n-3\\n-3\\n-3\\n-3\\n-3\\n-3\\n-3\\n-3\\n-3\\n-3\\n-3\\n-3\\n-3\\n-3\\n-3\\n-3\\n-3\\n-3\\n-3\\n-3\\n-3\\n-3\\n-3\\n-3\\n-3\\n-3\\n-3\\n-3\\n-3\\n-3\\n-3\\n-3\\n-3\\n-3\\n-3\\n-3\\n-3\\n-3\\n-3\\n-3\\n-3\\n-3\\n-3\\n-3\\n-3\\n-3\\n-3\\n-3\\n-3\\n-3\\n-3\\n-3\\n-3\\n-3\\n-3\\n-3\\n-3\\n-3\\n-3\\n-3\\n-3\\n-3\\n-3\\n-3\\n-3\\n-3\\n-3\\n-3\\n-3\\n-3\\n-3\\n-3\\n-3\\n-3\\n-3\\n-3\\n-3\\n-3\\n-3\\n-3\\n-3\\n-3\\n-3\\n-3\\n-3\\n-3\\n-3\\n-3\\n-3\\n-3\\n-3\\n-3\\n-3\\n-3\\n-3\\n-3\\n-3\\n-3\\n-3\\n-3\\n-3\\n-3\\n-3\\n-3\\n-3\\n-3\\n-3\\n-3\\n-3\\n-3\\n-3\\n-3\\n-3\\n-3\\n-3\\n-3\\n-3\\n-3\\n-3\\n-3\\n-3\\n-3\\n-3\\n-3\\n-3\\n-3\\n-3\\n-3\\n-3\\n-3\\n-3\\n-3\\n-3\\n-3\\n-3\\n-3\\n-3\\n-3\\n-3\\n-3\\n-3\\n-3\\n-3\\n-3\\n-3\\n-3\\n-3\\n-3\\n-3\\n-3\\n-3\\n-3\\n-3\\n-3\\n-3\\n-3\\n-3\\n-3\\n-3\\n-3\\n-3\\n-3\\n-3\\n-3\\n-3\\n-3\\n-3\\n-3\\n-3\\n-3\\n-3\\n-3\\n-3\\n-3\\n-3\\n-3\\n-3\\n-3\\n-3\\n-3\\n-3\\n-3\\n-3\\n-3\\n-3\\n-3\\n-3\\n-3\\n-3\\n-3\\n-3\\n-3\\n-3\\n-3\\n-3\\n-3\\n-3\\n-3\\n-3\\n-3\\n-3\\n-3\\n-3\\n-3\\n-3\\n-3\\n-3\\n-3\\n-3\\n-3\\n-3\\n-3\\n-3\\n-3\\n-3\\n-3\\n-3\\n-3\\n-3\\n-3\\n-3\\n-3\\n-3\\n-3\\n-3\\n-3\\n-3\\n-3\\n-3\\n-3\\n-3\\n-3\\n-3\\n-3\\n-3\\n-3\\n-3\\n-3\\n-3\\n-3\\n-3\\n-3\\n-3\\n-3\\n-3\\n-3\\n-3\\n-3\\n-3\\n-3\\n-3\\n-3\\n-3\\n-3\\n-3\\n-3\\n-3\\n-3\\n-3\\n-3\\n-3\\n-3\\n-3\\n-3\\n-3\\n-3\\n-3\\n-3\\n-3\\n-3\\n-3\\n-3\\n-3\\n-3\\n-3\\n-3\\n-3\\n-3\\n-3\\n-3\\n-3\\n-3\\n-3\\n-3\\n-3\\n-3\\n-3\\n-3\\n-3\\n-3\\n-3\\n-3\\n-3\\n-3\\n-3\\n-3\\n-3\\n-3\\n-3\\n-3\\n-3\\n-3\\n-3\\n-3\\n-3\\n-3\\n-3\\n-3\\n-3\\n-3\\n-3\\n-3\\n-3\\n-3\\n-3\\n-3\\n-3\\n-3\\n-3\\n-3\\n-3\\n-3\\n-3\\n-3\\n-3\\n-3\\n-3\\n-3\\n-3\\n-3\\n-3\\n-3\\n-3\\n-3\\n-3\\n-3\\n-3\\n-3\\n-3\\n-3\\n-3\\n-3\\n-3\\n-3\\n-3\\n-3\\n'}\n",
      " '2023年8月21日外交部发言人汪文斌主持例行记者会' 분석 완료.\n",
      " 전체 기사 감성 분석 완료. ../data/0308/results_full_foreign_ministry_본문별입력_문장별분석.json\n"
     ]
    }
   ],
   "execution_count": 15
  },
  {
   "metadata": {
    "ExecuteTime": {
     "end_time": "2025-03-08T08:52:24.485414Z",
     "start_time": "2025-03-08T08:52:24.468947Z"
    }
   },
   "cell_type": "code",
   "source": "",
   "id": "c70433abe3bbef5",
   "outputs": [],
   "execution_count": null
  }
 ],
 "metadata": {
  "kernelspec": {
   "display_name": "Python 3",
   "language": "python",
   "name": "python3"
  },
  "language_info": {
   "codemirror_mode": {
    "name": "ipython",
    "version": 2
   },
   "file_extension": ".py",
   "mimetype": "text/x-python",
   "name": "python",
   "nbconvert_exporter": "python",
   "pygments_lexer": "ipython2",
   "version": "2.7.6"
  }
 },
 "nbformat": 4,
 "nbformat_minor": 5
}
