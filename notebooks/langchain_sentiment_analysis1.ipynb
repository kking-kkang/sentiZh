{
 "cells": [
  {
   "metadata": {},
   "cell_type": "markdown",
   "source": [
    "##  감성체인 생성"
   ],
   "id": "ee2a467c8072179c"
  },
  {
   "metadata": {
    "collapsed": true,
    "ExecuteTime": {
     "end_time": "2025-03-05T07:28:34.947336Z",
     "start_time": "2025-03-05T07:28:31.794910Z"
    }
   },
   "cell_type": "code",
   "source": [
    "import os\n",
    "import time\n",
    "from dotenv import load_dotenv\n",
    "from langchain_openai import ChatOpenAI\n",
    "from langchain.prompts import PromptTemplate\n",
    "from concurrent.futures import ThreadPoolExecutor, as_completed"
   ],
   "id": "initial_id",
   "outputs": [],
   "execution_count": 1
  },
  {
   "metadata": {
    "ExecuteTime": {
     "end_time": "2025-03-05T08:02:40.092488Z",
     "start_time": "2025-03-05T08:02:40.049576Z"
    }
   },
   "cell_type": "code",
   "source": [
    "load_dotenv()\n",
    "api_key = os.getenv(\"OPENAI_API_KEY\")\n",
    "\n",
    "# OpenAI LLM 모델 설정\n",
    "llm = ChatOpenAI(openai_api_key=api_key, model_name=\"gpt-4-turbo-preview\", temperature=0.3)\n",
    "\n",
    "# 감성 분석 기본 프롬프트\n",
    "prompt_template = PromptTemplate.from_template(\n",
    "    \"\"\"你是一名中国社会科学家，你的任务是分析关于“美日韩”三边关系的中国新闻报道，并从中国的视角进行情感分析。\n",
    "\n",
    "    **评分标准**：\n",
    "    - 强烈负面 (-5): 极端消极\n",
    "    - 负面 (-3 ~ -4): 较为消极\n",
    "    - 轻微负面 (-1 ~ -2): 略微消极\n",
    "    - 中立 (0): 纯粹的事实陈述，不带有任何情感倾向。\n",
    "    - 轻微正面 (+1 ~ +2): 略微积极\n",
    "    - 正面 (+3 ~ +4): 较为积极\n",
    "    - 强烈正面 (+5): 极端积极\n",
    "\n",
    "    **请严格分析以下新闻文章的所有句子，并为每个句子提供一个情感分数。所有提供的句子都必须进行情感分析，不得遗漏任何句子。**\n",
    "    **新闻文章的句子列表:**\n",
    "    {sentences}\n",
    "\n",
    "    **请仅返回与提供句子数量相匹配的情感分数，每行一个分数，不要包含任何额外的文本、注释或解释。**\n",
    "    \"\"\"\n",
    ")\n"
   ],
   "id": "4dc15629ba0cfd45",
   "outputs": [],
   "execution_count": 16
  },
  {
   "metadata": {
    "ExecuteTime": {
     "end_time": "2025-03-05T08:02:40.809259Z",
     "start_time": "2025-03-05T08:02:40.796294Z"
    }
   },
   "cell_type": "code",
   "source": [
    "# 체인 구성\n",
    "sentiment_chain = prompt_template | llm"
   ],
   "id": "1f877161297ba8c",
   "outputs": [],
   "execution_count": 17
  },
  {
   "metadata": {},
   "cell_type": "markdown",
   "source": [
    "## 데이터 로드"
   ],
   "id": "37d8092a301df572"
  },
  {
   "metadata": {
    "ExecuteTime": {
     "end_time": "2025-03-05T07:28:38.924241Z",
     "start_time": "2025-03-05T07:28:38.913271Z"
    }
   },
   "cell_type": "code",
   "source": [
    "import json\n",
    "\n",
    "# JSON 파일 로드\n",
    "file_path = \"../data/smaple.json\"\n",
    "with open(file_path, \"r\", encoding=\"utf-8\") as f:\n",
    "    data = json.load(f)\n",
    "\n",
    "print(f\"총 {len(data)}개의 기사 로드 완료\")\n"
   ],
   "id": "938d7e448855de31",
   "outputs": [
    {
     "name": "stdout",
     "output_type": "stream",
     "text": [
      "총 13개의 기사 로드 완료\n"
     ]
    }
   ],
   "execution_count": 4
  },
  {
   "metadata": {},
   "cell_type": "markdown",
   "source": [
    "## 감성분석 수행 함수"
   ],
   "id": "89621321c416108f"
  },
  {
   "metadata": {
    "ExecuteTime": {
     "end_time": "2025-03-05T07:51:01.687278Z",
     "start_time": "2025-03-05T07:51:01.674315Z"
    }
   },
   "cell_type": "code",
   "source": [
    "def analyze_sentiment(article):\n",
    "    \"\"\"기사 전체를 입력하고 문장별 감성 점수를 분석하는 함수\"\"\"\n",
    "    time.sleep(1.5)  # Rate Limit 방지를 위해 대기\n",
    "    try:\n",
    "        response = sentiment_chain.invoke({\"sentences\": \"\\n\".join(article[\"sentences\"])})\n",
    "        return response.content.strip()\n",
    "    except Exception as e:\n",
    "        return {\"error\": str(e)}  # 오류 발생 시 오류 메시지 저장\n",
    "\n",
    "def process_article(article):\n",
    "    \"\"\"GPT 응답 후처리\"\"\"\n",
    "    sentiment_response = article.get(\"sentiment_responses\", \"\")\n",
    "\n",
    "    article[\"sentiment_responses\"] = sentiment_response\n",
    "\n",
    "    sentiment_scores = []\n",
    "    for line in sentiment_response.split(\"\\n\"):\n",
    "        try:\n",
    "            _, score = line.split(\":\")\n",
    "            sentiment_scores.append(float(score.strip()))\n",
    "        except (ValueError, IndexError):\n",
    "            continue\n",
    "    article[\"sentiment_scores\"] = sentiment_scores\n",
    "    article[\"avg_sentiment_score\"] = round(sum(sentiment_scores) / len(sentiment_scores), 2) if sentiment_scores else None\n",
    "    return article\n",
    "\n",
    "\n",
    "def run_sentiment_analysis(data, output_file):\n",
    "    \"\"\"JSON 파일을 로드하여 감성 분석을 병렬 실행하고 결과를 저장하는 함수\"\"\"\n",
    "    results = []\n",
    "\n",
    "    #기사별 병렬 실행 (최대 3개 스레드 사용)\n",
    "    with ThreadPoolExecutor(max_workers=3) as executor:\n",
    "        future_to_article = {executor.submit(analyze_sentiment, article): article for article in data}\n",
    "\n",
    "        for future in as_completed(future_to_article):\n",
    "            article = future_to_article[future]  # 원본 기사 가져오기\n",
    "            article[\"sentiment_responses\"] = future.result()  # 감성 분석 결과 추가\n",
    "            processed_article = process_article(article)  # 후처리\n",
    "            results.append(processed_article)  # 결과 저장\n",
    "\n",
    "            # 중간 저장 (기사별로 즉시 JSON 파일 업데이트)\n",
    "            with open(output_file, \"w\", encoding=\"utf-8\") as f:\n",
    "                json.dump(results, f, ensure_ascii=False, indent=4)\n",
    "            print(f\" '{article['title']}' 분석 완료.\")\n",
    "    print(f\" 전체 기사 감성 분석 완료. {output_file}\")"
   ],
   "id": "fed0546466fa0756",
   "outputs": [],
   "execution_count": 12
  },
  {
   "metadata": {
    "ExecuteTime": {
     "end_time": "2025-03-05T08:03:07.943697Z",
     "start_time": "2025-03-05T08:02:49.740320Z"
    }
   },
   "cell_type": "code",
   "source": [
    "output_path = \"../data/sentiment_analysis_results4.json\"\n",
    "run_sentiment_analysis(data, output_path)"
   ],
   "id": "62f83a54e3793fed",
   "outputs": [
    {
     "name": "stdout",
     "output_type": "stream",
     "text": [
      " '美日韩举行首次联合军演乔治·华盛顿号航母参加' 분석 완료.\n",
      " '前原诚司在韩国发表演讲称美日韩并非要“封杀”中国 - 国际新闻' 분석 완료.\n",
      " '美日韩回应朝鲜提议美称要看行动' 분석 완료.\n",
      " '美日韩军机在日本海附近进行夜间飞行演练-新华网' 분석 완료.\n",
      " '日美韩外长拟下周开会以推动缓和日韩紧张关系' 분석 완료.\n",
      " '美日韩将举行三国首脑会谈或不涉及历史问题' 분석 완료.\n",
      " '美日韩正式签朝核与导弹情报交流协议即刻生效' 분석 완료.\n",
      " '日防相正式宣布将时隔4年与韩防长举行会谈 - 军事- 人民网' 분석 완료.\n",
      " '美情报高官:安倍应把竹岛主权交给韩国' 분석 완료.\n",
      " '邢海明大使接受韩国《每日经济新闻》专访-1' 분석 완료.\n",
      " '专家称美日韩军演为向中国传达一些信息' 분석 완료.\n",
      " '邢海明大使接受韩国《每日经济新闻》专访-2' 분석 완료.\n",
      " '邢海明大使接受韩国《每日经济新闻》专访-3' 분석 완료.\n",
      " 전체 기사 감성 분석 완료. ../data/sentiment_analysis_results4.json\n"
     ]
    }
   ],
   "execution_count": 18
  },
  {
   "metadata": {},
   "cell_type": "code",
   "outputs": [],
   "execution_count": null,
   "source": [],
   "id": "c70433abe3bbef5"
  }
 ],
 "metadata": {
  "kernelspec": {
   "display_name": "Python 3",
   "language": "python",
   "name": "python3"
  },
  "language_info": {
   "codemirror_mode": {
    "name": "ipython",
    "version": 2
   },
   "file_extension": ".py",
   "mimetype": "text/x-python",
   "name": "python",
   "nbconvert_exporter": "python",
   "pygments_lexer": "ipython2",
   "version": "2.7.6"
  }
 },
 "nbformat": 4,
 "nbformat_minor": 5
}
